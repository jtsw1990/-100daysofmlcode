{
 "cells": [
  {
   "cell_type": "markdown",
   "metadata": {},
   "source": [
    "# Analytics Snippet: Natural Language Processing Text Classification"
   ]
  },
  {
   "cell_type": "markdown",
   "metadata": {},
   "source": [
    "PLEASE ADD IN SOME SCENARIOS FOR GI LI SUPER ACTUARIES TO APPLY THIS\n",
    "\n",
    "The way we are going to handle this problem can be split into 3 distinct parts:\n",
    "1. Importing and cleaning the dataset \n",
    "2. Transforming text to numbers\n",
    "3. Classifying the complaints using supervised learning techniques"
   ]
  },
  {
   "cell_type": "markdown",
   "metadata": {},
   "source": [
    "### Tools and Packages"
   ]
  },
  {
   "cell_type": "markdown",
   "metadata": {},
   "source": [
    "The article uses [Python](https://www.python.org/) and the main packages that we will be using are listed below:\n",
    "* [Pandas](https://pandas.pydata.org/) and [Numpy](http://www.numpy.org/) for general data manipulation\n",
    "* [Matplotlib](https://matplotlib.org/) and [Seaborn](https://seaborn.pydata.org/) for general data visualisation\n",
    "* [Sci-kit](http://scikit-learn.org/stable/) learn packages for both feature extraction and classification model"
   ]
  },
  {
   "cell_type": "code",
   "execution_count": 1,
   "metadata": {
    "ExecuteTime": {
     "end_time": "2018-10-14T10:46:25.077463Z",
     "start_time": "2018-10-14T10:46:23.799887Z"
    }
   },
   "outputs": [],
   "source": [
    "import pandas as pd\n",
    "import numpy as np\n",
    "import warnings\n",
    "from collections import defaultdict\n",
    "\n",
    "import matplotlib.pyplot as plt\n",
    "import seaborn as sns\n",
    "\n",
    "from sklearn.preprocessing import LabelEncoder\n",
    "from sklearn.model_selection import train_test_split\n",
    "from sklearn.feature_extraction.text import TfidfVectorizer\n",
    "from sklearn.linear_model import LogisticRegression\n",
    "from sklearn import metrics"
   ]
  },
  {
   "cell_type": "markdown",
   "metadata": {},
   "source": [
    "## Importing and Cleaning Data"
   ]
  },
  {
   "attachments": {},
   "cell_type": "markdown",
   "metadata": {},
   "source": [
    "The dataset we are using here consists of information regarding finance related complaints that a particular company has received from its customers.\n",
    "It is provided by an open source data library managed by the U.S. General Services Administration and can be downloaded [here](https://catalog.data.gov/dataset/consumer-complaint-database). \n",
    "<br> \n",
    "Since we are trying to predict the category of products based on the  complaints received, we can ignore the rest of the columns for the purposes of this exercise and only look at 2 of them, in particular:\n",
    "* Description - Narrative of customer's complaint\n",
    "* Product - The category of financial products which the complaint relates to\n",
    "<br>\n",
    "\n",
    "We will also get rid of null entries as they will not be of any use to us."
   ]
  },
  {
   "cell_type": "code",
   "execution_count": 2,
   "metadata": {
    "ExecuteTime": {
     "end_time": "2018-10-14T10:46:30.584680Z",
     "start_time": "2018-10-14T10:46:25.079387Z"
    },
    "scrolled": true
   },
   "outputs": [
    {
     "data": {
      "text/html": [
       "<div>\n",
       "<style scoped>\n",
       "    .dataframe tbody tr th:only-of-type {\n",
       "        vertical-align: middle;\n",
       "    }\n",
       "\n",
       "    .dataframe tbody tr th {\n",
       "        vertical-align: top;\n",
       "    }\n",
       "\n",
       "    .dataframe thead th {\n",
       "        text-align: right;\n",
       "    }\n",
       "</style>\n",
       "<table border=\"1\" class=\"dataframe\">\n",
       "  <thead>\n",
       "    <tr style=\"text-align: right;\">\n",
       "      <th></th>\n",
       "      <th>description</th>\n",
       "      <th>target</th>\n",
       "    </tr>\n",
       "  </thead>\n",
       "  <tbody>\n",
       "    <tr>\n",
       "      <th>0</th>\n",
       "      <td>I have outdated information on my credit report that I have previously disputed that has yet to be removed this information is more then seven years old and does not meet credit reporting requirements</td>\n",
       "      <td>Credit reporting</td>\n",
       "    </tr>\n",
       "    <tr>\n",
       "      <th>1</th>\n",
       "      <td>I purchased a new car on XXXX XXXX. The car dealer called Citizens Bank to get a 10 day payoff on my loan, good till XXXX XXXX. The dealer sent the check the next day. When I balanced my checkbook on XXXX XXXX. I noticed that Citizens bank had ta...</td>\n",
       "      <td>Consumer Loan</td>\n",
       "    </tr>\n",
       "    <tr>\n",
       "      <th>2</th>\n",
       "      <td>An account on my credit report has a mistaken date. I mailed in a debt validation letter to allow XXXX to correct the information. I received a letter in the mail, stating that Experian received my correspondence and found it to be \" suspicious '...</td>\n",
       "      <td>Credit reporting</td>\n",
       "    </tr>\n",
       "    <tr>\n",
       "      <th>3</th>\n",
       "      <td>This company refuses to provide me verification and validation of debt per my right under the FDCPA. I do not believe this debt is mine.</td>\n",
       "      <td>Debt collection</td>\n",
       "    </tr>\n",
       "    <tr>\n",
       "      <th>4</th>\n",
       "      <td>This complaint is in regards to Square Two Financial. Refer to CFPB case number XXXX regarding CACH, L. L. C. Square Two Financial has utilized my entire social security number to include date of birth on the pfd document listed with this complai...</td>\n",
       "      <td>Debt collection</td>\n",
       "    </tr>\n",
       "  </tbody>\n",
       "</table>\n",
       "</div>"
      ],
      "text/plain": [
       "                                                                                                                                                                                                                                                 description  \\\n",
       "0                                                   I have outdated information on my credit report that I have previously disputed that has yet to be removed this information is more then seven years old and does not meet credit reporting requirements   \n",
       "1  I purchased a new car on XXXX XXXX. The car dealer called Citizens Bank to get a 10 day payoff on my loan, good till XXXX XXXX. The dealer sent the check the next day. When I balanced my checkbook on XXXX XXXX. I noticed that Citizens bank had ta...   \n",
       "2  An account on my credit report has a mistaken date. I mailed in a debt validation letter to allow XXXX to correct the information. I received a letter in the mail, stating that Experian received my correspondence and found it to be \" suspicious '...   \n",
       "3                                                                                                                   This company refuses to provide me verification and validation of debt per my right under the FDCPA. I do not believe this debt is mine.   \n",
       "4  This complaint is in regards to Square Two Financial. Refer to CFPB case number XXXX regarding CACH, L. L. C. Square Two Financial has utilized my entire social security number to include date of birth on the pfd document listed with this complai...   \n",
       "\n",
       "             target  \n",
       "0  Credit reporting  \n",
       "1     Consumer Loan  \n",
       "2  Credit reporting  \n",
       "3   Debt collection  \n",
       "4   Debt collection  "
      ]
     },
     "execution_count": 2,
     "metadata": {},
     "output_type": "execute_result"
    }
   ],
   "source": [
    "df = pd.read_csv('Consumer_Complaints.csv')\n",
    "df = df.loc[(df['Consumer complaint narrative'].notnull()), ['Consumer complaint narrative', 'Product']] \\\n",
    "       .reset_index() \\\n",
    "       .drop('index', axis = 1)\n",
    "df = df[(np.logical_not(df.Product.str.contains(','))) & (df.Product != 'Credit card or prepaid card')]\n",
    "df.columns = ['description', 'target']\n",
    "pd.set_option('display.max_colwidth', 250)\n",
    "df.head()"
   ]
  },
  {
   "cell_type": "markdown",
   "metadata": {},
   "source": [
    "Next, we will assign each target variable an integer value instead of using the string representation (Credit reporting for example). This allows our models to be able to recognize the responses. We can do this using a variety of methods, but here we will be using sklearn's LabelEncoder function."
   ]
  },
  {
   "cell_type": "code",
   "execution_count": 3,
   "metadata": {
    "ExecuteTime": {
     "end_time": "2018-10-14T10:46:30.943332Z",
     "start_time": "2018-10-14T10:46:30.586670Z"
    }
   },
   "outputs": [
    {
     "data": {
      "text/html": [
       "<div>\n",
       "<style scoped>\n",
       "    .dataframe tbody tr th:only-of-type {\n",
       "        vertical-align: middle;\n",
       "    }\n",
       "\n",
       "    .dataframe tbody tr th {\n",
       "        vertical-align: top;\n",
       "    }\n",
       "\n",
       "    .dataframe thead th {\n",
       "        text-align: right;\n",
       "    }\n",
       "</style>\n",
       "<table border=\"1\" class=\"dataframe\">\n",
       "  <thead>\n",
       "    <tr style=\"text-align: right;\">\n",
       "      <th></th>\n",
       "      <th>encoded_response</th>\n",
       "    </tr>\n",
       "    <tr>\n",
       "      <th>target</th>\n",
       "      <th></th>\n",
       "    </tr>\n",
       "  </thead>\n",
       "  <tbody>\n",
       "    <tr>\n",
       "      <th>Bank account or service</th>\n",
       "      <td>0</td>\n",
       "    </tr>\n",
       "    <tr>\n",
       "      <th>Checking or savings account</th>\n",
       "      <td>1</td>\n",
       "    </tr>\n",
       "    <tr>\n",
       "      <th>Consumer Loan</th>\n",
       "      <td>2</td>\n",
       "    </tr>\n",
       "    <tr>\n",
       "      <th>Credit card</th>\n",
       "      <td>3</td>\n",
       "    </tr>\n",
       "    <tr>\n",
       "      <th>Credit reporting</th>\n",
       "      <td>4</td>\n",
       "    </tr>\n",
       "    <tr>\n",
       "      <th>Debt collection</th>\n",
       "      <td>5</td>\n",
       "    </tr>\n",
       "    <tr>\n",
       "      <th>Money transfers</th>\n",
       "      <td>6</td>\n",
       "    </tr>\n",
       "    <tr>\n",
       "      <th>Mortgage</th>\n",
       "      <td>7</td>\n",
       "    </tr>\n",
       "    <tr>\n",
       "      <th>Other financial service</th>\n",
       "      <td>8</td>\n",
       "    </tr>\n",
       "    <tr>\n",
       "      <th>Payday loan</th>\n",
       "      <td>9</td>\n",
       "    </tr>\n",
       "    <tr>\n",
       "      <th>Prepaid card</th>\n",
       "      <td>10</td>\n",
       "    </tr>\n",
       "    <tr>\n",
       "      <th>Student loan</th>\n",
       "      <td>11</td>\n",
       "    </tr>\n",
       "    <tr>\n",
       "      <th>Vehicle loan or lease</th>\n",
       "      <td>12</td>\n",
       "    </tr>\n",
       "    <tr>\n",
       "      <th>Virtual currency</th>\n",
       "      <td>13</td>\n",
       "    </tr>\n",
       "  </tbody>\n",
       "</table>\n",
       "</div>"
      ],
      "text/plain": [
       "                             encoded_response\n",
       "target                                       \n",
       "Bank account or service                     0\n",
       "Checking or savings account                 1\n",
       "Consumer Loan                               2\n",
       "Credit card                                 3\n",
       "Credit reporting                            4\n",
       "Debt collection                             5\n",
       "Money transfers                             6\n",
       "Mortgage                                    7\n",
       "Other financial service                     8\n",
       "Payday loan                                 9\n",
       "Prepaid card                               10\n",
       "Student loan                               11\n",
       "Vehicle loan or lease                      12\n",
       "Virtual currency                           13"
      ]
     },
     "execution_count": 3,
     "metadata": {},
     "output_type": "execute_result"
    }
   ],
   "source": [
    "encoder = LabelEncoder()\n",
    "encoder.fit(df.target)\n",
    "df = df.assign(encoded_response = lambda x: encoder.transform(x.target))\n",
    "df[['target', 'encoded_response']].drop_duplicates() \\\n",
    "                                  .set_index('target') \\\n",
    "                                  .sort_values('encoded_response', ascending = True)"
   ]
  },
  {
   "cell_type": "markdown",
   "metadata": {},
   "source": [
    "We can see from the output above, that our resulting dataset contains 14 unique categories which we will try to classify complaints into by training our model to \"understand\" the narrative. <br>\n",
    "After encoding our target variable, we can then move on to splitting our dataset for training and validation purposes. Train test splits are a crucial part of any modelling process and prevents [overfitting](https://en.wikipedia.org/wiki/Overfitting). Here, we are using an 80/20 split and setting a random seed for the purpose of Reproducibility."
   ]
  },
  {
   "cell_type": "code",
   "execution_count": 4,
   "metadata": {
    "ExecuteTime": {
     "end_time": "2018-10-14T10:46:30.979787Z",
     "start_time": "2018-10-14T10:46:30.945194Z"
    }
   },
   "outputs": [],
   "source": [
    "x_train, x_test, y_train, y_test, indices_train, indices_test = train_test_split(df.description, \n",
    "                                                                                 df.encoded_response,\n",
    "                                                                                 df.index,\n",
    "                                                                                 test_size = 0.2, \n",
    "                                                                                 random_state = 1)"
   ]
  },
  {
   "cell_type": "markdown",
   "metadata": {},
   "source": [
    "## Feature Extraction"
   ]
  },
  {
   "attachments": {},
   "cell_type": "markdown",
   "metadata": {},
   "source": [
    "Just as we have encoded our target variables, we must also find a way to transform our description data out if its string representation into a numerical one. However, unlike the target variables, this process is not as simple as allocating an integer value to each unique complaint. Keep in mind that a meaningful transformation must somehow display some form of homogeneity between complaints within the same product categories."
   ]
  },
  {
   "cell_type": "markdown",
   "metadata": {
    "heading_collapsed": true
   },
   "source": [
    "### Bag of Words (BOW) Model"
   ]
  },
  {
   "cell_type": "markdown",
   "metadata": {
    "hidden": true
   },
   "source": [
    "One way of transforming a document full of text data into numerical features is by using the BOW (Bag of Words) model. Put simply, all it does is assign each unique word (or token) an ID number and counts up its frequency. For example, if we have a document: <br><br>\n",
    "`\"This is a cat. That is a dog\"`\n",
    "<br><br>\n",
    "The BOW representation would simply be: <br><br>\n",
    "`BOW = {\"This\": 1, \"is\": 2, \"a\": 2, \"cat\" : 1, \"That\" : 1, \"dog\" : 1}`\n",
    "<br><br>\n",
    "Notice that the document shown above is clearly about a cat and a dog. However, our BOW model shows that the most frequent words present in the document are \"is\" and \"a\". These common words are also known as [\"stop words\"](https://en.wikipedia.org/wiki/Stop_words) and are usually filtered out of the BOW model during the pre-processing phase to prevent overpowering the words that have actual importance. There are many different little tricks and techniques for choosing the most suitable bag of words to represent your documents and most can be implemented simply through a line (or two) of code using [regular expressions](https://docs.python.org/2/library/re.html), which is a great way to filter texts and I highly recommend getting comfortable with using them.<br>\n",
    "How does this link back to the goal of having numerical features as our inputs? Imagine having a thousand text documents and extracting all (a subset) of the unique tokens that we think best represents them. Now, we can assign each unique token to a column in a dataframe and populate the rows with each document’s count of the respective words. Following the example above, our single document would produce a dataframe that looks like: <br><br>"
   ]
  },
  {
   "cell_type": "code",
   "execution_count": 66,
   "metadata": {
    "ExecuteTime": {
     "end_time": "2018-10-14T13:26:55.281969Z",
     "start_time": "2018-10-14T13:26:55.272358Z"
    },
    "hidden": true
   },
   "outputs": [
    {
     "data": {
      "text/html": [
       "<div>\n",
       "<style scoped>\n",
       "    .dataframe tbody tr th:only-of-type {\n",
       "        vertical-align: middle;\n",
       "    }\n",
       "\n",
       "    .dataframe tbody tr th {\n",
       "        vertical-align: top;\n",
       "    }\n",
       "\n",
       "    .dataframe thead th {\n",
       "        text-align: right;\n",
       "    }\n",
       "</style>\n",
       "<table border=\"1\" class=\"dataframe\">\n",
       "  <thead>\n",
       "    <tr style=\"text-align: right;\">\n",
       "      <th></th>\n",
       "      <th>This</th>\n",
       "      <th>is</th>\n",
       "      <th>a</th>\n",
       "      <th>cat</th>\n",
       "      <th>That</th>\n",
       "      <th>dog</th>\n",
       "    </tr>\n",
       "  </thead>\n",
       "  <tbody>\n",
       "    <tr>\n",
       "      <th>0</th>\n",
       "      <td>1</td>\n",
       "      <td>2</td>\n",
       "      <td>2</td>\n",
       "      <td>1</td>\n",
       "      <td>1</td>\n",
       "      <td>1</td>\n",
       "    </tr>\n",
       "  </tbody>\n",
       "</table>\n",
       "</div>"
      ],
      "text/plain": [
       "   This  is  a  cat  That  dog\n",
       "0     1   2  2    1     1    1"
      ]
     },
     "execution_count": 66,
     "metadata": {},
     "output_type": "execute_result"
    }
   ],
   "source": [
    "pd.DataFrame({\"This\": 1, \"is\": 2, \"a\": 2, \"cat\" : 1,\n",
    "              \"That\" : 1, \"dog\" : 1}, index = range(1))"
   ]
  },
  {
   "attachments": {},
   "cell_type": "markdown",
   "metadata": {
    "hidden": true
   },
   "source": [
    "Realistically, if we had chosen 15,000 unique tokens from the 1000 documents, our input matrix would then have 15,000 columns! You can start to imagine how sparse (full of zeros) our resulting input matrix will be! This technique is also commonly known as count vectorizing. <br>\n",
    "In this article however, we will be using a more robust model compared to count vectorizing called (TF-IDF) Term Frequency - Inverse Document Frequency, and it is defined as:\n",
    "\n",
    "$w_{i,j} = tf_{i,j} * log(\\dfrac{N}{df_i})$ \n",
    "<br><br>\n",
    "$w_{i,j}$ = Weight for word(i) in document(j) <br>\n",
    "$tf_{i,j}$ = Count of word(i) in document(j) <br>\n",
    "$N$ = Total number of documents <br>\n",
    "$df_i$ = How many documents word(i) appears in<br><br>\n",
    "\n",
    "We can see that, the first term of the TF-IDF model is just the count of the word in the document as before. The magic happens in the second term where the model imposes an additional condition for a particular word to be deemed \"important\". Just as an example, if the word \"bank\" appears in every single document, it wouldn't be of much use in differentiating the documents, and the second term of the TF-IDF model expresses this by reducing the whole weight down to 0. For a more detailed explanation on how TF-IDF works, there is an article written at [elephate.com](https://www.elephate.com/blog/what-is-tf-idf/) explaining it quite elegantly."
   ]
  },
  {
   "cell_type": "markdown",
   "metadata": {
    "hidden": true
   },
   "source": [
    "There are a variety of packages that help to automate the vectorizing process, but we have chosen to use the Sci-kit learn API due to its easy of usage and interpretability. Here, we instantiate a TfidfVectorizer model, with a few note-worthy details: <br>\n",
    "* Sublinear_tf uses a logarithmic form of frequency as 20 occurrences of a word does not imply 20 times the importance in most cases <br>\n",
    "* The model will ignore words that appear in less than 5 documents, as well as more than 70% of the total documents <br>\n",
    "* Normalization is set to L2 so that all vectors are scaled to have a magnitude of 1 (The equivalent of standardizing your features) <br>\n",
    "* There is a layer of pre-processing to remove numerical characters and symbols within the documents through the use of a regular expression"
   ]
  },
  {
   "cell_type": "code",
   "execution_count": 5,
   "metadata": {
    "ExecuteTime": {
     "end_time": "2018-10-14T10:46:30.985669Z",
     "start_time": "2018-10-14T10:46:30.981795Z"
    },
    "hidden": true
   },
   "outputs": [],
   "source": [
    "tfidf_vectorizer = TfidfVectorizer(sublinear_tf = True, \n",
    "                                   stop_words = 'english',\n",
    "                                   min_df = 5,\n",
    "                                   max_df = 0.7,\n",
    "                                   norm = 'l2',\n",
    "                                   token_pattern = r'\\b[^_\\d\\W]+\\b')"
   ]
  },
  {
   "cell_type": "markdown",
   "metadata": {
    "hidden": true
   },
   "source": [
    "We then use the model to fit our original description data, and convert all that sweet text information into something numerical!"
   ]
  },
  {
   "cell_type": "code",
   "execution_count": 6,
   "metadata": {
    "ExecuteTime": {
     "end_time": "2018-10-14T10:46:54.672617Z",
     "start_time": "2018-10-14T10:46:30.987497Z"
    },
    "hidden": true
   },
   "outputs": [],
   "source": [
    "tfidf_train = tfidf_vectorizer.fit_transform(x_train.values)\n",
    "tfidf_test = tfidf_vectorizer.transform(x_test.values)"
   ]
  },
  {
   "cell_type": "code",
   "execution_count": 7,
   "metadata": {
    "ExecuteTime": {
     "end_time": "2018-10-14T10:46:54.693140Z",
     "start_time": "2018-10-14T10:46:54.674517Z"
    },
    "hidden": true
   },
   "outputs": [
    {
     "name": "stdout",
     "output_type": "stream",
     "text": [
      "19285\n"
     ]
    }
   ],
   "source": [
    "print(len(tfidf_vectorizer.get_feature_names()))"
   ]
  },
  {
   "cell_type": "markdown",
   "metadata": {
    "hidden": true
   },
   "source": [
    "We can see that our resulting dictionary consists of 19,285 different unqiue words!"
   ]
  },
  {
   "cell_type": "code",
   "execution_count": 8,
   "metadata": {
    "ExecuteTime": {
     "end_time": "2018-10-14T10:47:03.396735Z",
     "start_time": "2018-10-14T10:46:54.696229Z"
    },
    "hidden": true
   },
   "outputs": [],
   "source": [
    "tfidf_df = pd.DataFrame(tfidf_train.A, \n",
    "                        columns = tfidf_vectorizer.get_feature_names())"
   ]
  },
  {
   "cell_type": "code",
   "execution_count": 9,
   "metadata": {
    "ExecuteTime": {
     "end_time": "2018-10-14T10:47:03.423911Z",
     "start_time": "2018-10-14T10:47:03.398981Z"
    },
    "hidden": true
   },
   "outputs": [
    {
     "data": {
      "text/html": [
       "<div>\n",
       "<style scoped>\n",
       "    .dataframe tbody tr th:only-of-type {\n",
       "        vertical-align: middle;\n",
       "    }\n",
       "\n",
       "    .dataframe tbody tr th {\n",
       "        vertical-align: top;\n",
       "    }\n",
       "\n",
       "    .dataframe thead th {\n",
       "        text-align: right;\n",
       "    }\n",
       "</style>\n",
       "<table border=\"1\" class=\"dataframe\">\n",
       "  <thead>\n",
       "    <tr style=\"text-align: right;\">\n",
       "      <th></th>\n",
       "      <th>aa</th>\n",
       "      <th>aaa</th>\n",
       "      <th>aaddress</th>\n",
       "      <th>aadvantage</th>\n",
       "      <th>aafes</th>\n",
       "      <th>aag</th>\n",
       "      <th>aand</th>\n",
       "      <th>aargon</th>\n",
       "      <th>aarp</th>\n",
       "      <th>ab</th>\n",
       "      <th>...</th>\n",
       "      <th>zeroed</th>\n",
       "      <th>zfn</th>\n",
       "      <th>zions</th>\n",
       "      <th>zip</th>\n",
       "      <th>zombie</th>\n",
       "      <th>zone</th>\n",
       "      <th>zoned</th>\n",
       "      <th>zones</th>\n",
       "      <th>zoning</th>\n",
       "      <th>zwicker</th>\n",
       "    </tr>\n",
       "  </thead>\n",
       "  <tbody>\n",
       "    <tr>\n",
       "      <th>0</th>\n",
       "      <td>0.0</td>\n",
       "      <td>0.0</td>\n",
       "      <td>0.0</td>\n",
       "      <td>0.0</td>\n",
       "      <td>0.0</td>\n",
       "      <td>0.0</td>\n",
       "      <td>0.0</td>\n",
       "      <td>0.0</td>\n",
       "      <td>0.0</td>\n",
       "      <td>0.0</td>\n",
       "      <td>...</td>\n",
       "      <td>0.0</td>\n",
       "      <td>0.0</td>\n",
       "      <td>0.0</td>\n",
       "      <td>0.0</td>\n",
       "      <td>0.0</td>\n",
       "      <td>0.0</td>\n",
       "      <td>0.0</td>\n",
       "      <td>0.0</td>\n",
       "      <td>0.0</td>\n",
       "      <td>0.0</td>\n",
       "    </tr>\n",
       "    <tr>\n",
       "      <th>1</th>\n",
       "      <td>0.0</td>\n",
       "      <td>0.0</td>\n",
       "      <td>0.0</td>\n",
       "      <td>0.0</td>\n",
       "      <td>0.0</td>\n",
       "      <td>0.0</td>\n",
       "      <td>0.0</td>\n",
       "      <td>0.0</td>\n",
       "      <td>0.0</td>\n",
       "      <td>0.0</td>\n",
       "      <td>...</td>\n",
       "      <td>0.0</td>\n",
       "      <td>0.0</td>\n",
       "      <td>0.0</td>\n",
       "      <td>0.0</td>\n",
       "      <td>0.0</td>\n",
       "      <td>0.0</td>\n",
       "      <td>0.0</td>\n",
       "      <td>0.0</td>\n",
       "      <td>0.0</td>\n",
       "      <td>0.0</td>\n",
       "    </tr>\n",
       "    <tr>\n",
       "      <th>2</th>\n",
       "      <td>0.0</td>\n",
       "      <td>0.0</td>\n",
       "      <td>0.0</td>\n",
       "      <td>0.0</td>\n",
       "      <td>0.0</td>\n",
       "      <td>0.0</td>\n",
       "      <td>0.0</td>\n",
       "      <td>0.0</td>\n",
       "      <td>0.0</td>\n",
       "      <td>0.0</td>\n",
       "      <td>...</td>\n",
       "      <td>0.0</td>\n",
       "      <td>0.0</td>\n",
       "      <td>0.0</td>\n",
       "      <td>0.0</td>\n",
       "      <td>0.0</td>\n",
       "      <td>0.0</td>\n",
       "      <td>0.0</td>\n",
       "      <td>0.0</td>\n",
       "      <td>0.0</td>\n",
       "      <td>0.0</td>\n",
       "    </tr>\n",
       "    <tr>\n",
       "      <th>3</th>\n",
       "      <td>0.0</td>\n",
       "      <td>0.0</td>\n",
       "      <td>0.0</td>\n",
       "      <td>0.0</td>\n",
       "      <td>0.0</td>\n",
       "      <td>0.0</td>\n",
       "      <td>0.0</td>\n",
       "      <td>0.0</td>\n",
       "      <td>0.0</td>\n",
       "      <td>0.0</td>\n",
       "      <td>...</td>\n",
       "      <td>0.0</td>\n",
       "      <td>0.0</td>\n",
       "      <td>0.0</td>\n",
       "      <td>0.0</td>\n",
       "      <td>0.0</td>\n",
       "      <td>0.0</td>\n",
       "      <td>0.0</td>\n",
       "      <td>0.0</td>\n",
       "      <td>0.0</td>\n",
       "      <td>0.0</td>\n",
       "    </tr>\n",
       "    <tr>\n",
       "      <th>4</th>\n",
       "      <td>0.0</td>\n",
       "      <td>0.0</td>\n",
       "      <td>0.0</td>\n",
       "      <td>0.0</td>\n",
       "      <td>0.0</td>\n",
       "      <td>0.0</td>\n",
       "      <td>0.0</td>\n",
       "      <td>0.0</td>\n",
       "      <td>0.0</td>\n",
       "      <td>0.0</td>\n",
       "      <td>...</td>\n",
       "      <td>0.0</td>\n",
       "      <td>0.0</td>\n",
       "      <td>0.0</td>\n",
       "      <td>0.0</td>\n",
       "      <td>0.0</td>\n",
       "      <td>0.0</td>\n",
       "      <td>0.0</td>\n",
       "      <td>0.0</td>\n",
       "      <td>0.0</td>\n",
       "      <td>0.0</td>\n",
       "    </tr>\n",
       "  </tbody>\n",
       "</table>\n",
       "<p>5 rows × 19285 columns</p>\n",
       "</div>"
      ],
      "text/plain": [
       "    aa  aaa  aaddress  aadvantage  aafes  aag  aand  aargon  aarp   ab  \\\n",
       "0  0.0  0.0       0.0         0.0    0.0  0.0   0.0     0.0   0.0  0.0   \n",
       "1  0.0  0.0       0.0         0.0    0.0  0.0   0.0     0.0   0.0  0.0   \n",
       "2  0.0  0.0       0.0         0.0    0.0  0.0   0.0     0.0   0.0  0.0   \n",
       "3  0.0  0.0       0.0         0.0    0.0  0.0   0.0     0.0   0.0  0.0   \n",
       "4  0.0  0.0       0.0         0.0    0.0  0.0   0.0     0.0   0.0  0.0   \n",
       "\n",
       "    ...     zeroed  zfn  zions  zip  zombie  zone  zoned  zones  zoning  \\\n",
       "0   ...        0.0  0.0    0.0  0.0     0.0   0.0    0.0    0.0     0.0   \n",
       "1   ...        0.0  0.0    0.0  0.0     0.0   0.0    0.0    0.0     0.0   \n",
       "2   ...        0.0  0.0    0.0  0.0     0.0   0.0    0.0    0.0     0.0   \n",
       "3   ...        0.0  0.0    0.0  0.0     0.0   0.0    0.0    0.0     0.0   \n",
       "4   ...        0.0  0.0    0.0  0.0     0.0   0.0    0.0    0.0     0.0   \n",
       "\n",
       "   zwicker  \n",
       "0      0.0  \n",
       "1      0.0  \n",
       "2      0.0  \n",
       "3      0.0  \n",
       "4      0.0  \n",
       "\n",
       "[5 rows x 19285 columns]"
      ]
     },
     "execution_count": 9,
     "metadata": {},
     "output_type": "execute_result"
    }
   ],
   "source": [
    "tfidf_df.head()"
   ]
  },
  {
   "cell_type": "markdown",
   "metadata": {
    "hidden": true
   },
   "source": [
    "As mentioned above, the 19,285 words chosen to be in our \"dictionary\" become the columns of our input matrix and just to reiterate, since we have so many columns and each row only consists of words within 1 document, the resulting matrix will be extremely sparse! (Consisting mostly of zeros) <br>\n",
    "Now that we have extracted some numerical features from our dataset, it is time to use them to train a classifier!"
   ]
  },
  {
   "cell_type": "markdown",
   "metadata": {},
   "source": [
    "## Logistic Regression Classifier"
   ]
  },
  {
   "cell_type": "markdown",
   "metadata": {},
   "source": [
    "In this example, we have chosen to use a basic [logistic regression model](http://www.appstate.edu/~whiteheadjc/service/logit/intro.htm) to classify the documents due to tractability and convention. However, more complex models such as neural networks, decision trees, naive bayesian classifiers or other relevant models can also be used to do the following classification."
   ]
  },
  {
   "cell_type": "markdown",
   "metadata": {},
   "source": [
    "Firstly, we instantiate a logistic regression classifier from the sklearn package and proceed to fit our TF-IDF vectorized matrix and our encoded training labels."
   ]
  },
  {
   "cell_type": "code",
   "execution_count": 10,
   "metadata": {
    "ExecuteTime": {
     "end_time": "2018-10-14T10:47:47.427261Z",
     "start_time": "2018-10-14T10:47:03.425859Z"
    }
   },
   "outputs": [
    {
     "data": {
      "text/plain": [
       "LogisticRegression(C=1.0, class_weight=None, dual=False, fit_intercept=True,\n",
       "          intercept_scaling=1, max_iter=100, multi_class='ovr', n_jobs=1,\n",
       "          penalty='l2', random_state=None, solver='liblinear', tol=0.0001,\n",
       "          verbose=0, warm_start=False)"
      ]
     },
     "execution_count": 10,
     "metadata": {},
     "output_type": "execute_result"
    }
   ],
   "source": [
    "lr_classifier = LogisticRegression()\n",
    "lr_classifier.fit(tfidf_train, y_train)"
   ]
  },
  {
   "cell_type": "code",
   "execution_count": 11,
   "metadata": {
    "ExecuteTime": {
     "end_time": "2018-10-14T10:47:47.471731Z",
     "start_time": "2018-10-14T10:47:47.429365Z"
    }
   },
   "outputs": [
    {
     "name": "stdout",
     "output_type": "stream",
     "text": [
      "0.8517154487303741\n"
     ]
    }
   ],
   "source": [
    "pred = lr_classifier.predict(tfidf_test)\n",
    "score = metrics.accuracy_score(y_test, pred)\n",
    "print(score)"
   ]
  },
  {
   "cell_type": "markdown",
   "metadata": {},
   "source": [
    "After running the model on the validation set, we can see that we attained some pretty decent results with an overall accuracy of 85.2%. We can drill down into this result by evaluating the [confusion matrix](https://www.dataschool.io/simple-guide-to-confusion-matrix-terminology)."
   ]
  },
  {
   "cell_type": "code",
   "execution_count": 55,
   "metadata": {
    "ExecuteTime": {
     "end_time": "2018-10-14T11:39:16.123007Z",
     "start_time": "2018-10-14T11:39:16.092687Z"
    }
   },
   "outputs": [],
   "source": [
    "cm = metrics.confusion_matrix(y_test, pred)\n",
    "cm = cm.astype('float') / cm.sum(axis=1)[:, np.newaxis]"
   ]
  },
  {
   "attachments": {},
   "cell_type": "markdown",
   "metadata": {},
   "source": [
    "Due to the huge imbalance of data points between the different categories, the resulting figures in the confusion matrix are normalized to produce clearer distinctions between “good” and “poor” performance."
   ]
  },
  {
   "cell_type": "code",
   "execution_count": 70,
   "metadata": {
    "ExecuteTime": {
     "end_time": "2018-10-14T13:49:42.460794Z",
     "start_time": "2018-10-14T13:49:41.332838Z"
    },
    "scrolled": false
   },
   "outputs": [
    {
     "data": {
      "text/plain": [
       "Text(0.5,1,'Accuracy Score: 0.8517154487303741')"
      ]
     },
     "execution_count": 70,
     "metadata": {},
     "output_type": "execute_result"
    },
    {
     "data": {
      "image/png": "[encoded data removed]",
      "text/plain": [
       "<Figure size 1080x1080 with 2 Axes>"
      ]
     },
     "metadata": {},
     "output_type": "display_data"
    }
   ],
   "source": [
    "plt.figure(figsize = (15,15))\n",
    "sns.heatmap(cm, \n",
    "            annot = True, \n",
    "            fmt = \".3f\", \n",
    "            linewidths = 0.5, \n",
    "            square = True, \n",
    "            cmap = 'Reds', \n",
    "            xticklabels = encoder.classes_,\n",
    "            yticklabels = encoder.classes_)\n",
    "plt.ylabel('Actual')\n",
    "plt.xlabel('Predicted')\n",
    "all_sample_title = 'Accuracy Score: {}'.format(score)\n",
    "plt.title(all_sample_title, size = 15)"
   ]
  },
  {
   "cell_type": "markdown",
   "metadata": {},
   "source": [
    "One of the more obvious results we can observe just from diagonals of the matrix is that \"Other financial service\", \"Vehicle loan or lease\" and \"Virtual currency\" categories had no correct predictions. We must note however, that the number of data points we had for each of these categories were insignificant compared to the others and the model probably treated those instances as errors instead of a distinct category. This bias however, can be corrected by techniques such as [over and undersampling](https://en.wikipedia.org/wiki/Oversampling_and_undersampling_in_data_analysis). Let's investigate further to see if the model does indeed treat the documents within these categories as errors."
   ]
  },
  {
   "cell_type": "code",
   "execution_count": 14,
   "metadata": {
    "ExecuteTime": {
     "end_time": "2018-10-14T10:47:48.578083Z",
     "start_time": "2018-10-14T10:47:48.559442Z"
    },
    "scrolled": false
   },
   "outputs": [
    {
     "name": "stdout",
     "output_type": "stream",
     "text": [
      "\n",
      "                             precision    recall  f1-score   support\n",
      "\n",
      "    Bank account or service       0.76      0.81      0.78      2965\n",
      "Checking or savings account       0.98      0.12      0.22       424\n",
      "              Consumer Loan       0.73      0.63      0.67      1884\n",
      "                Credit card       0.80      0.83      0.81      3696\n",
      "           Credit reporting       0.88      0.86      0.87      6240\n",
      "            Debt collection       0.84      0.90      0.87      9600\n",
      "            Money transfers       0.76      0.61      0.68       301\n",
      "                   Mortgage       0.92      0.96      0.94      7359\n",
      "    Other financial service       0.00      0.00      0.00        65\n",
      "                Payday loan       0.71      0.37      0.49       342\n",
      "               Prepaid card       0.81      0.59      0.68       283\n",
      "               Student loan       0.91      0.90      0.91      2765\n",
      "      Vehicle loan or lease       0.00      0.00      0.00       186\n",
      "           Virtual currency       0.00      0.00      0.00         3\n",
      "\n",
      "                avg / total       0.85      0.85      0.84     36113\n",
      "\n"
     ]
    },
    {
     "name": "stderr",
     "output_type": "stream",
     "text": [
      "/anaconda3/lib/python3.6/site-packages/sklearn/metrics/classification.py:1135: UndefinedMetricWarning: Precision and F-score are ill-defined and being set to 0.0 in labels with no predicted samples.\n",
      "  'precision', 'predicted', average, warn_for)\n"
     ]
    }
   ],
   "source": [
    "results = metrics.classification_report(y_test, pred,\n",
    "                                    target_names = encoder.classes_)\n",
    "print('\\n{report}'.format(report = results))"
   ]
  },
  {
   "cell_type": "markdown",
   "metadata": {},
   "source": [
    "We can see that calling the classification_report function actually produces a _UndefinedMetricWarning_ but what does this mean? <br>\n",
    "If we look deeper into this, the error actually tells us that the model, made no predictions (correctly or incorrectly) for those 3 categories, which supports the hypothesis we made earlier that these documents were just treated as errors! Since we can roughly pinpoint the reasons for misclassifications in these 3 categories, let's try to look at a category where data points were not sparse and try to find an explanation for those misclassified documents. <br>\n",
    "Shown below are some examples where 'Checking and savings account' narratives were wrongly classified as 'Bank account and service'."
   ]
  },
  {
   "attachments": {},
   "cell_type": "markdown",
   "metadata": {},
   "source": [
    "Categories with more data points generally had a better score, and the reasons for misclassifications in these categories seem to follow the trend of overlapping categories. (For example, 320 descriptions that were supposed to be \"Checking and savings account\" related were wrongly classified as \"Bank account and service\"."
   ]
  },
  {
   "cell_type": "code",
   "execution_count": 15,
   "metadata": {
    "ExecuteTime": {
     "end_time": "2018-10-14T10:47:48.584446Z",
     "start_time": "2018-10-14T10:47:48.580192Z"
    }
   },
   "outputs": [],
   "source": [
    "def observe_errors(actual_response, wrongly_predicted_response):\n",
    "    warnings.filterwarnings(action = 'ignore', category = DeprecationWarning)\n",
    "    compare = pd.DataFrame(list(zip(x_test, y_test, pred)), columns = ['description', 'actual', 'predicted'])\n",
    "    compare = compare.assign(actual_product = encoder.inverse_transform(compare.actual),\n",
    "                             predicted_product = encoder.inverse_transform(compare.predicted)) \\\n",
    "                     .loc[(compare.actual == actual_response) & (compare.predicted == wrongly_predicted_response),\n",
    "                         ['description', 'actual_product', 'predicted_product']]\n",
    "    return compare"
   ]
  },
  {
   "cell_type": "code",
   "execution_count": 16,
   "metadata": {
    "ExecuteTime": {
     "end_time": "2018-10-14T10:47:48.735601Z",
     "start_time": "2018-10-14T10:47:48.587255Z"
    }
   },
   "outputs": [
    {
     "data": {
      "text/html": [
       "<div>\n",
       "<style scoped>\n",
       "    .dataframe tbody tr th:only-of-type {\n",
       "        vertical-align: middle;\n",
       "    }\n",
       "\n",
       "    .dataframe tbody tr th {\n",
       "        vertical-align: top;\n",
       "    }\n",
       "\n",
       "    .dataframe thead th {\n",
       "        text-align: right;\n",
       "    }\n",
       "</style>\n",
       "<table border=\"1\" class=\"dataframe\">\n",
       "  <thead>\n",
       "    <tr style=\"text-align: right;\">\n",
       "      <th></th>\n",
       "      <th>description</th>\n",
       "      <th>actual_product</th>\n",
       "      <th>predicted_product</th>\n",
       "    </tr>\n",
       "  </thead>\n",
       "  <tbody>\n",
       "    <tr>\n",
       "      <th>35632</th>\n",
       "      <td>On Saturday morning around   XXXX   XXXX  , I went to the Chase Bank #  XXXX  on  XXXX   XXXX   XXXX   XXXX  in  XXXX , Texas to try to open an savings account. I was received by the Teller I asked her nicely that I wanted to open an savings acco...</td>\n",
       "      <td>Checking or savings account</td>\n",
       "      <td>Bank account or service</td>\n",
       "    </tr>\n",
       "    <tr>\n",
       "      <th>35748</th>\n",
       "      <td>PNC bank changed the terms on my bank account a second time without notifying me. The first change would prevent me from ever having a transaction in the bank with a human being without being charged a fee. I learned about this issue after findin...</td>\n",
       "      <td>Checking or savings account</td>\n",
       "      <td>Bank account or service</td>\n",
       "    </tr>\n",
       "    <tr>\n",
       "      <th>35835</th>\n",
       "      <td>On  XXXX   XXXX ,  2017 , I deposited several checks into my checking account, one of which was in excess of {$5000.00}. The branch manager put a hold on this check thereby making these funds unavailable to me for the purpose to which they were i...</td>\n",
       "      <td>Checking or savings account</td>\n",
       "      <td>Bank account or service</td>\n",
       "    </tr>\n",
       "    <tr>\n",
       "      <th>35870</th>\n",
       "      <td>I did a complaint to Bank of America, because  XXXX  charge withdraw money from my account, one year ago my daughter call  XXXX  for do a question, but we decided do not use  XXXX  because a Mistake the company withdraw money from my bank account...</td>\n",
       "      <td>Checking or savings account</td>\n",
       "      <td>Bank account or service</td>\n",
       "    </tr>\n",
       "    <tr>\n",
       "      <th>36085</th>\n",
       "      <td>I opened a PMA checking and brokerage account with  Wells Fargo  in  XXXX .   I had  XXXX  checking account, a credit card and ATM card at that time.     At some point in  XXXX , inexplicably, a second checking account appeared on my statements. ...</td>\n",
       "      <td>Checking or savings account</td>\n",
       "      <td>Bank account or service</td>\n",
       "    </tr>\n",
       "  </tbody>\n",
       "</table>\n",
       "</div>"
      ],
      "text/plain": [
       "                                                                                                                                                                                                                                                     description  \\\n",
       "35632  On Saturday morning around   XXXX   XXXX  , I went to the Chase Bank #  XXXX  on  XXXX   XXXX   XXXX   XXXX  in  XXXX , Texas to try to open an savings account. I was received by the Teller I asked her nicely that I wanted to open an savings acco...   \n",
       "35748  PNC bank changed the terms on my bank account a second time without notifying me. The first change would prevent me from ever having a transaction in the bank with a human being without being charged a fee. I learned about this issue after findin...   \n",
       "35835  On  XXXX   XXXX ,  2017 , I deposited several checks into my checking account, one of which was in excess of {$5000.00}. The branch manager put a hold on this check thereby making these funds unavailable to me for the purpose to which they were i...   \n",
       "35870  I did a complaint to Bank of America, because  XXXX  charge withdraw money from my account, one year ago my daughter call  XXXX  for do a question, but we decided do not use  XXXX  because a Mistake the company withdraw money from my bank account...   \n",
       "36085  I opened a PMA checking and brokerage account with  Wells Fargo  in  XXXX .   I had  XXXX  checking account, a credit card and ATM card at that time.     At some point in  XXXX , inexplicably, a second checking account appeared on my statements. ...   \n",
       "\n",
       "                    actual_product        predicted_product  \n",
       "35632  Checking or savings account  Bank account or service  \n",
       "35748  Checking or savings account  Bank account or service  \n",
       "35835  Checking or savings account  Bank account or service  \n",
       "35870  Checking or savings account  Bank account or service  \n",
       "36085  Checking or savings account  Bank account or service  "
      ]
     },
     "execution_count": 16,
     "metadata": {},
     "output_type": "execute_result"
    }
   ],
   "source": [
    "observe_errors(actual_response = 1, wrongly_predicted_response = 0).tail(5)"
   ]
  },
  {
   "cell_type": "markdown",
   "metadata": {},
   "source": [
    "We can see that the misclassified complaints shown above is quite ambiguous and contain ideas and keywords within the narrative related to both categories, which is presumably why the model would have misclassified them."
   ]
  },
  {
   "cell_type": "markdown",
   "metadata": {},
   "source": [
    "Because of the how text data is converted into numerical features, data pre-processing is an extremely important step when it comes to NLP problems and the \"garbage-in, garbage-out\" property can be very prevalent compared to other machine learning techniques. Also note that, in this problem that there are existing labels in the dataset, and we could have just as easily used any other supervised learning techniques to classify the documents. If however, no labels are available, we would then have to turn towards unsupervised learning algorithms such as SVM, K-means or LDA to try and cluster the documents into sensible categories."
   ]
  },
  {
   "cell_type": "markdown",
   "metadata": {},
   "source": [
    "## Afterward"
   ]
  },
  {
   "cell_type": "markdown",
   "metadata": {},
   "source": [
    "We have essentially just taught the computer how to \"understand\" a small selected group of documents in a very human way, which is just amazing! So, you might ask, how does this apply to actuarial work? <br>\n",
    "Imagine having access to all the historical claim narratives within your company's database. What do you think are some possible projects that will add value to your insurer now that you know how to model text? Could you maybe come up with a classifier using techniques above coupled with some clustering analysis techniques such as K-Means to categorize the claims if the legacy system does not have this feature? What about doing some sentiment analysis on the claim narratives to get the general satisfaction level of customers and to help pinpoint the strengths and weaknesses of the insurer's current claims handling process? <br>\n",
    "Do not be mistaken though, the possibilities are not constrained to the claims management section of the insurance value chain. Other examples include chatbots and recommendation systems as distribution channels, and fraud detection with text analysis. The possibilities are ever-growing, technology ever-improving and it is up to the actuarial profession to keep up with the trends in order to continue adding value to the industry.\n"
   ]
  },
  {
   "cell_type": "markdown",
   "metadata": {},
   "source": [
    "## Further Analysis"
   ]
  },
  {
   "cell_type": "markdown",
   "metadata": {},
   "source": [
    "If you would like to further explore the capabilities of different BOW and classification models using this dataset, [Kaggle](https://www.kaggle.com/sebastienverpile/consumercomplaintsdata/home) provides an outlet to publish your results and discuss them with others!"
   ]
  }
 ],
 "metadata": {
  "kernelspec": {
   "display_name": "Python 3",
   "language": "python",
   "name": "python3"
  },
  "language_info": {
   "codemirror_mode": {
    "name": "ipython",
    "version": 3
   },
   "file_extension": ".py",
   "mimetype": "text/x-python",
   "name": "python",
   "nbconvert_exporter": "python",
   "pygments_lexer": "ipython3",
   "version": "3.6.5"
  },
  "varInspector": {
   "cols": {
    "lenName": 16,
    "lenType": 16,
    "lenVar": 40
   },
   "kernels_config": {
    "python": {
     "delete_cmd_postfix": "",
     "delete_cmd_prefix": "del ",
     "library": "var_list.py",
     "varRefreshCmd": "print(var_dic_list())"
    },
    "r": {
     "delete_cmd_postfix": ") ",
     "delete_cmd_prefix": "rm(",
     "library": "var_list.r",
     "varRefreshCmd": "cat(var_dic_list()) "
    }
   },
   "types_to_exclude": [
    "module",
    "function",
    "builtin_function_or_method",
    "instance",
    "_Feature"
   ],
   "window_display": false
  }
 },
 "nbformat": 4,
 "nbformat_minor": 2
}
