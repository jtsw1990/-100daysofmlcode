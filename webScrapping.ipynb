{
 "cells": [
  {
   "cell_type": "markdown",
   "metadata": {},
   "source": [
    "# Web scraping"
   ]
  },
  {
   "cell_type": "markdown",
   "metadata": {},
   "source": [
    "## BeautifulSoup"
   ]
  },
  {
   "cell_type": "code",
   "execution_count": 2,
   "metadata": {
    "ExecuteTime": {
     "end_time": "2018-11-05T14:35:38.905015Z",
     "start_time": "2018-11-05T14:35:38.901650Z"
    }
   },
   "outputs": [],
   "source": [
    "import requests\n",
    "from bs4 import BeautifulSoup"
   ]
  },
  {
   "cell_type": "code",
   "execution_count": 3,
   "metadata": {
    "ExecuteTime": {
     "end_time": "2018-11-05T14:36:01.152209Z",
     "start_time": "2018-11-05T14:35:59.340607Z"
    }
   },
   "outputs": [],
   "source": [
    "data = requests.get('https://umggaming.com/leaderboards')"
   ]
  },
  {
   "cell_type": "code",
   "execution_count": 6,
   "metadata": {
    "ExecuteTime": {
     "end_time": "2018-11-05T14:36:37.414255Z",
     "start_time": "2018-11-05T14:36:37.376613Z"
    }
   },
   "outputs": [],
   "source": [
    "soup = BeautifulSoup(data.text, 'html.parser')"
   ]
  },
  {
   "cell_type": "code",
   "execution_count": 8,
   "metadata": {
    "ExecuteTime": {
     "end_time": "2018-11-05T14:37:28.202546Z",
     "start_time": "2018-11-05T14:37:28.197717Z"
    }
   },
   "outputs": [],
   "source": [
    "# Next find that the leader boards are in a table called leaderboards\n",
    "leaderboard = soup.find('table', { 'id' : 'leaderboard-table'})"
   ]
  },
  {
   "cell_type": "code",
   "execution_count": 12,
   "metadata": {
    "ExecuteTime": {
     "end_time": "2018-11-05T14:41:15.146661Z",
     "start_time": "2018-11-05T14:41:15.143795Z"
    }
   },
   "outputs": [],
   "source": [
    "# We don't need the thead so we skip straight to the tbody section with\n",
    "# another find function\n",
    "tbody = leaderboard.find('tbody')"
   ]
  },
  {
   "cell_type": "code",
   "execution_count": 33,
   "metadata": {
    "ExecuteTime": {
     "end_time": "2018-11-05T14:47:39.182106Z",
     "start_time": "2018-11-05T14:47:39.173643Z"
    }
   },
   "outputs": [
    {
     "name": "stdout",
     "output_type": "stream",
     "text": [
      "1st Hidro 81553\n",
      "2nd Baker 78608\n",
      "3rd Gunservative 76202\n",
      "4th Mikey 51208\n",
      "5th Tanntrix 48921\n",
      "6th James 45085\n",
      "7th x2Pac ThuGLorD 42033\n",
      "8th Rules 41415\n",
      "9th Rallied 40038\n",
      "10th Olly 39282\n",
      "11th TKhan 38242\n",
      "12th MuTeX 35207\n",
      "13th stridox 34909\n",
      "14th Innocent 34897\n",
      "15th ihavok 34771\n",
      "16th TMTwerk 34095\n",
      "17th exoficial 34057\n",
      "18th iLLeY 33769\n",
      "19th C 33096\n",
      "20th UsernameChange12911 32795\n",
      "21st Monstrous 32637\n",
      "22nd TeddyRecKs 32238\n",
      "23rd Trichoblast 32165\n",
      "24th Saggio 31539\n",
      "25th iBuLieVe 31291\n"
     ]
    }
   ],
   "source": [
    "# Recall find_all puts all the entries in a list\n",
    "for tr in tbody.find_all('tr'):\n",
    "    place = tr.find_all('td')[0].text.strip()\n",
    "    username = tr.find_all('td')[1].find_all('a')[1].text.strip()\n",
    "    xp = tr.find_all('td')[3].text.strip()\n",
    "    print(place, username, xp)"
   ]
  },
  {
   "cell_type": "markdown",
   "metadata": {},
   "source": [
    "## REGEX"
   ]
  },
  {
   "cell_type": "markdown",
   "metadata": {},
   "source": [
    "$ matches end of line <br>\n",
    "^ matches beginning of line <br>\n",
    "'* 0 or more <br>\n",
    "? 0 or 1 <br>\n",
    "'+ 1 or more <br>\n",
    "{n} exactly n <br>\n",
    "{n,} n or more <br>\n",
    "{n, m} between n and m <br>\n",
    ". any except newline <br>\n",
    "[abc] a, b,or c <br>\n",
    "[a-z] a, b, c ... z <br>\n",
    "[^abc] anything but a, b, c <br>\n",
    "\\d digit <br>\n",
    "\\s space <br>\n",
    "\\w word character <br>\n",
    "\\n newline <br>\n",
    "\\t tab <br>"
   ]
  },
  {
   "cell_type": "code",
   "execution_count": 35,
   "metadata": {
    "ExecuteTime": {
     "end_time": "2018-11-05T15:01:40.852992Z",
     "start_time": "2018-11-05T15:01:40.850384Z"
    }
   },
   "outputs": [],
   "source": [
    "#https://www.debuggex.com"
   ]
  },
  {
   "cell_type": "code",
   "execution_count": 79,
   "metadata": {
    "ExecuteTime": {
     "end_time": "2018-11-05T15:14:49.593080Z",
     "start_time": "2018-11-05T15:14:49.589983Z"
    }
   },
   "outputs": [],
   "source": [
    "import re\n",
    "sentence = 'this is a engineer man'\n",
    "regex1 = r'this'"
   ]
  },
  {
   "cell_type": "code",
   "execution_count": 80,
   "metadata": {
    "ExecuteTime": {
     "end_time": "2018-11-05T15:14:49.983199Z",
     "start_time": "2018-11-05T15:14:49.980397Z"
    }
   },
   "outputs": [
    {
     "name": "stdout",
     "output_type": "stream",
     "text": [
      "<_sre.SRE_Match object; span=(0, 4), match='this'>\n"
     ]
    }
   ],
   "source": [
    "test = re.match(regex1, sentence)\n",
    "print(test)"
   ]
  },
  {
   "cell_type": "code",
   "execution_count": 82,
   "metadata": {
    "ExecuteTime": {
     "end_time": "2018-11-05T15:21:34.018215Z",
     "start_time": "2018-11-05T15:21:34.015770Z"
    }
   },
   "outputs": [],
   "source": [
    "regex2 = r'^12$'\n",
    "# This matches all strings starting with 12 and ending with 12 \n",
    "regex3 = r'^[0-9]$'\n",
    "# This matches only 1 digit from 0-9 at start and end of string\n",
    "regex4 = r'^[0-9]$+'\n",
    "# This matches 1 or more digits from 0-9 \n",
    "regex5 = r'test-?test'\n",
    "# This matches test-test or testtest as ? makes the character in front optional\n"
   ]
  },
  {
   "cell_type": "code",
   "execution_count": null,
   "metadata": {},
   "outputs": [],
   "source": []
  }
 ],
 "metadata": {
  "kernelspec": {
   "display_name": "Python 3",
   "language": "python",
   "name": "python3"
  },
  "language_info": {
   "codemirror_mode": {
    "name": "ipython",
    "version": 3
   },
   "file_extension": ".py",
   "mimetype": "text/x-python",
   "name": "python",
   "nbconvert_exporter": "python",
   "pygments_lexer": "ipython3",
   "version": "3.6.5"
  },
  "varInspector": {
   "cols": {
    "lenName": 16,
    "lenType": 16,
    "lenVar": 40
   },
   "kernels_config": {
    "python": {
     "delete_cmd_postfix": "",
     "delete_cmd_prefix": "del ",
     "library": "var_list.py",
     "varRefreshCmd": "print(var_dic_list())"
    },
    "r": {
     "delete_cmd_postfix": ") ",
     "delete_cmd_prefix": "rm(",
     "library": "var_list.r",
     "varRefreshCmd": "cat(var_dic_list()) "
    }
   },
   "types_to_exclude": [
    "module",
    "function",
    "builtin_function_or_method",
    "instance",
    "_Feature"
   ],
   "window_display": false
  }
 },
 "nbformat": 4,
 "nbformat_minor": 2
}
