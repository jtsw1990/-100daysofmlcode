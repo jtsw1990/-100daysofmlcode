{
 "cells": [
  {
   "cell_type": "markdown",
   "metadata": {},
   "source": [
    "# Regression"
   ]
  },
  {
   "cell_type": "markdown",
   "metadata": {},
   "source": [
    "## Simple Linear Regression"
   ]
  },
  {
   "cell_type": "code",
   "execution_count": 16,
   "metadata": {
    "ExecuteTime": {
     "end_time": "2018-10-15T10:11:06.647367Z",
     "start_time": "2018-10-15T10:11:06.644008Z"
    }
   },
   "outputs": [],
   "source": [
    "import pickle\n",
    "import numpy as np\n",
    "from sklearn import linear_model\n",
    "import sklearn.metrics as sm\n",
    "import matplotlib.pyplot as plt"
   ]
  },
  {
   "cell_type": "code",
   "execution_count": 9,
   "metadata": {
    "ExecuteTime": {
     "end_time": "2018-10-15T10:09:24.258628Z",
     "start_time": "2018-10-15T10:09:24.256092Z"
    }
   },
   "outputs": [],
   "source": [
    "input_file = './exampleDatasets/data_singlevar_regr.txt'"
   ]
  },
  {
   "cell_type": "code",
   "execution_count": 10,
   "metadata": {
    "ExecuteTime": {
     "end_time": "2018-10-15T10:09:24.860047Z",
     "start_time": "2018-10-15T10:09:24.855747Z"
    }
   },
   "outputs": [],
   "source": [
    "data = np.loadtxt(input_file, delimiter = ',')"
   ]
  },
  {
   "cell_type": "code",
   "execution_count": 12,
   "metadata": {
    "ExecuteTime": {
     "end_time": "2018-10-15T10:10:14.307552Z",
     "start_time": "2018-10-15T10:10:14.304292Z"
    }
   },
   "outputs": [],
   "source": [
    "X, y = data[:, :-1], data[:, -1]"
   ]
  },
  {
   "cell_type": "markdown",
   "metadata": {
    "ExecuteTime": {
     "end_time": "2018-10-15T10:09:03.558297Z",
     "start_time": "2018-10-15T10:09:03.552596Z"
    }
   },
   "source": [
    "Manual train test split of dataset"
   ]
  },
  {
   "cell_type": "code",
   "execution_count": 17,
   "metadata": {
    "ExecuteTime": {
     "end_time": "2018-10-15T10:11:49.280453Z",
     "start_time": "2018-10-15T10:11:49.277341Z"
    }
   },
   "outputs": [],
   "source": [
    "num_training = int(0.8 * len(X))\n",
    "num_test = len(X) - num_training"
   ]
  },
  {
   "cell_type": "code",
   "execution_count": 20,
   "metadata": {
    "ExecuteTime": {
     "end_time": "2018-10-15T10:12:40.687704Z",
     "start_time": "2018-10-15T10:12:40.685037Z"
    }
   },
   "outputs": [],
   "source": [
    "x_train, y_train = X[: num_training], y[: num_training]\n",
    "x_test, y_test = X[num_training:], y[num_training:]"
   ]
  },
  {
   "cell_type": "markdown",
   "metadata": {},
   "source": [
    "Instantiate a regressor"
   ]
  },
  {
   "cell_type": "code",
   "execution_count": 21,
   "metadata": {
    "ExecuteTime": {
     "end_time": "2018-10-15T10:13:16.324668Z",
     "start_time": "2018-10-15T10:13:16.051423Z"
    }
   },
   "outputs": [
    {
     "data": {
      "text/plain": [
       "LinearRegression(copy_X=True, fit_intercept=True, n_jobs=1, normalize=False)"
      ]
     },
     "execution_count": 21,
     "metadata": {},
     "output_type": "execute_result"
    }
   ],
   "source": [
    "regressor = linear_model.LinearRegression()\n",
    "regressor.fit(x_train, y_train)"
   ]
  },
  {
   "cell_type": "code",
   "execution_count": 22,
   "metadata": {
    "ExecuteTime": {
     "end_time": "2018-10-15T10:13:23.814534Z",
     "start_time": "2018-10-15T10:13:23.811439Z"
    }
   },
   "outputs": [],
   "source": [
    "y_test_pred = regressor.predict(x_test)"
   ]
  },
  {
   "cell_type": "markdown",
   "metadata": {},
   "source": [
    "Now let's plot the outputs"
   ]
  },
  {
   "cell_type": "code",
   "execution_count": 25,
   "metadata": {
    "ExecuteTime": {
     "end_time": "2018-10-15T10:14:56.363508Z",
     "start_time": "2018-10-15T10:14:56.319866Z"
    }
   },
   "outputs": [
    {
     "data": {
      "image/png": "[encoded data removed]",
      "text/plain": [
       "<Figure size 432x288 with 1 Axes>"
      ]
     },
     "metadata": {},
     "output_type": "display_data"
    }
   ],
   "source": [
    "plt.scatter(x_test, y_test, color = 'green')\n",
    "plt.plot(x_test, y_test_pred, color = 'black', linewidth = 4)\n",
    "plt.xticks(())\n",
    "plt.yticks(())\n",
    "plt.show()"
   ]
  },
  {
   "cell_type": "markdown",
   "metadata": {},
   "source": [
    "And compute some metrics for model validation"
   ]
  },
  {
   "cell_type": "code",
   "execution_count": 27,
   "metadata": {
    "ExecuteTime": {
     "end_time": "2018-10-15T10:18:50.419487Z",
     "start_time": "2018-10-15T10:18:50.413158Z"
    }
   },
   "outputs": [
    {
     "name": "stdout",
     "output_type": "stream",
     "text": [
      "MAD: 0.5929016124297125\n",
      "MSE: 0.4884945644836102\n",
      "MedAD: 0.5135077475673313\n",
      "Explained Variance: 0.8610987885274577\n",
      "R2 score: 0.8585327510951146\n"
     ]
    }
   ],
   "source": [
    "print('MAD: {}'.format(sm.mean_absolute_error(y_test, y_test_pred)))\n",
    "print('MSE: {}'.format(sm.mean_squared_error(y_test, y_test_pred)))\n",
    "print('MedAD: {}'.format(sm.median_absolute_error(y_test, y_test_pred)))\n",
    "print('Explained Variance: {}'.format(sm.explained_variance_score(y_test, y_test_pred)))\n",
    "print('R2 score: {}'.format(sm.r2_score(y_test, y_test_pred)))"
   ]
  },
  {
   "cell_type": "markdown",
   "metadata": {},
   "source": [
    "## Multivariable Linear Regression"
   ]
  },
  {
   "cell_type": "code",
   "execution_count": 32,
   "metadata": {
    "ExecuteTime": {
     "end_time": "2018-10-15T10:23:01.905285Z",
     "start_time": "2018-10-15T10:23:01.902134Z"
    }
   },
   "outputs": [],
   "source": [
    "import numpy as np\n",
    "from sklearn import linear_model\n",
    "import sklearn.metrics as sm\n",
    "from sklearn.preprocessing import PolynomialFeatures\n",
    "from sklearn.model_selection import train_test_split"
   ]
  },
  {
   "cell_type": "code",
   "execution_count": 29,
   "metadata": {
    "ExecuteTime": {
     "end_time": "2018-10-15T10:22:11.406012Z",
     "start_time": "2018-10-15T10:22:11.398108Z"
    }
   },
   "outputs": [],
   "source": [
    "input_file = './exampleDatasets/data_multivar_regr.txt'\n",
    "data = np.loadtxt(input_file, delimiter = ',')"
   ]
  },
  {
   "cell_type": "code",
   "execution_count": 30,
   "metadata": {
    "ExecuteTime": {
     "end_time": "2018-10-15T10:22:30.717965Z",
     "start_time": "2018-10-15T10:22:30.715631Z"
    }
   },
   "outputs": [],
   "source": [
    "x, y = data[:, :-1], data[:, -1]"
   ]
  },
  {
   "cell_type": "code",
   "execution_count": 44,
   "metadata": {
    "ExecuteTime": {
     "end_time": "2018-10-15T10:26:17.518940Z",
     "start_time": "2018-10-15T10:26:17.515669Z"
    }
   },
   "outputs": [],
   "source": [
    "x_train, x_test, y_train, y_test = train_test_split(x, y, test_size = 0.2)"
   ]
  },
  {
   "cell_type": "markdown",
   "metadata": {},
   "source": [
    "Instantiate another linear regressor"
   ]
  },
  {
   "cell_type": "code",
   "execution_count": 45,
   "metadata": {
    "ExecuteTime": {
     "end_time": "2018-10-15T10:26:18.617392Z",
     "start_time": "2018-10-15T10:26:18.597125Z"
    }
   },
   "outputs": [
    {
     "data": {
      "text/plain": [
       "LinearRegression(copy_X=True, fit_intercept=True, n_jobs=1, normalize=False)"
      ]
     },
     "execution_count": 45,
     "metadata": {},
     "output_type": "execute_result"
    }
   ],
   "source": [
    "linear_regressor = linear_model.LinearRegression()\n",
    "linear_regressor.fit(x_train, y_train)"
   ]
  },
  {
   "cell_type": "code",
   "execution_count": 46,
   "metadata": {
    "ExecuteTime": {
     "end_time": "2018-10-15T10:26:32.030860Z",
     "start_time": "2018-10-15T10:26:32.027861Z"
    }
   },
   "outputs": [],
   "source": [
    "y_test_pred = linear_regressor.predict(x_test)"
   ]
  },
  {
   "cell_type": "code",
   "execution_count": 47,
   "metadata": {
    "ExecuteTime": {
     "end_time": "2018-10-15T10:26:42.447312Z",
     "start_time": "2018-10-15T10:26:42.442631Z"
    }
   },
   "outputs": [
    {
     "name": "stdout",
     "output_type": "stream",
     "text": [
      "MAD: 3.594451440834658\n",
      "MSE: 20.33427290701101\n",
      "MedAD: 3.0136115060105992\n",
      "Explained Variance: 0.8581196737580239\n",
      "R2 score: 0.8576748891445858\n"
     ]
    }
   ],
   "source": [
    "print('MAD: {}'.format(sm.mean_absolute_error(y_test, y_test_pred)))\n",
    "print('MSE: {}'.format(sm.mean_squared_error(y_test, y_test_pred)))\n",
    "print('MedAD: {}'.format(sm.median_absolute_error(y_test, y_test_pred)))\n",
    "print('Explained Variance: {}'.format(sm.explained_variance_score(y_test, y_test_pred)))\n",
    "print('R2 score: {}'.format(sm.r2_score(y_test, y_test_pred)))"
   ]
  },
  {
   "cell_type": "markdown",
   "metadata": {},
   "source": [
    "## Polynomial regression"
   ]
  },
  {
   "cell_type": "code",
   "execution_count": 48,
   "metadata": {
    "ExecuteTime": {
     "end_time": "2018-10-15T10:31:00.122008Z",
     "start_time": "2018-10-15T10:31:00.118930Z"
    }
   },
   "outputs": [],
   "source": [
    "polynomial = PolynomialFeatures(degree = 10)"
   ]
  },
  {
   "cell_type": "markdown",
   "metadata": {},
   "source": [
    "This creates a new feature matrix using a combination of higher degrees up to 10. There is a great link [here](https://jakevdp.github.io/PythonDataScienceHandbook/05.04-feature-engineering.html) explaining why we do this along with other pre-processing techniques."
   ]
  },
  {
   "cell_type": "code",
   "execution_count": 59,
   "metadata": {
    "ExecuteTime": {
     "end_time": "2018-10-15T10:37:10.900015Z",
     "start_time": "2018-10-15T10:37:10.892025Z"
    }
   },
   "outputs": [],
   "source": [
    "x_train_transformed = polynomial.fit_transform(x_train)"
   ]
  },
  {
   "cell_type": "code",
   "execution_count": 61,
   "metadata": {
    "ExecuteTime": {
     "end_time": "2018-10-15T10:37:17.074152Z",
     "start_time": "2018-10-15T10:37:17.066159Z"
    }
   },
   "outputs": [],
   "source": [
    "datapoint = [[7.75, 6.35, 5.56]]\n",
    "poly_datapoint = polynomial.fit_transform(datapoint)"
   ]
  },
  {
   "cell_type": "code",
   "execution_count": 62,
   "metadata": {
    "ExecuteTime": {
     "end_time": "2018-10-15T10:37:17.243643Z",
     "start_time": "2018-10-15T10:37:17.239897Z"
    }
   },
   "outputs": [
    {
     "data": {
      "text/plain": [
       "array([ 7.66,  6.29,  5.66, 41.35])"
      ]
     },
     "execution_count": 62,
     "metadata": {},
     "output_type": "execute_result"
    }
   ],
   "source": [
    "data[10]"
   ]
  },
  {
   "cell_type": "markdown",
   "metadata": {},
   "source": [
    "We can see that data we just created is very close to this one within the data. So a good predictor would output something close to 41.35"
   ]
  },
  {
   "cell_type": "code",
   "execution_count": 64,
   "metadata": {
    "ExecuteTime": {
     "end_time": "2018-10-15T10:37:42.272007Z",
     "start_time": "2018-10-15T10:37:42.253351Z"
    }
   },
   "outputs": [
    {
     "name": "stdout",
     "output_type": "stream",
     "text": [
      "\n",
      "Linear regression:  [36.0022381]\n",
      "\n",
      "Polynomial regression:  [40.03611764]\n"
     ]
    }
   ],
   "source": [
    "poly_linear_model = linear_model.LinearRegression()\n",
    "poly_linear_model.fit(x_train_transformed, y_train)\n",
    "print('\\nLinear regression: ', linear_regressor.predict(datapoint))\n",
    "print('\\nPolynomial regression: ', poly_linear_model.predict(poly_datapoint))"
   ]
  },
  {
   "cell_type": "markdown",
   "metadata": {
    "ExecuteTime": {
     "end_time": "2018-10-15T10:37:13.079837Z",
     "start_time": "2018-10-15T10:37:13.075510Z"
    }
   },
   "source": [
    "We can see that the polynomial gives us a better estimation of that particular datapoint"
   ]
  },
  {
   "cell_type": "markdown",
   "metadata": {},
   "source": [
    "## Support Vector Regressor"
   ]
  },
  {
   "cell_type": "code",
   "execution_count": 73,
   "metadata": {
    "ExecuteTime": {
     "end_time": "2018-10-15T10:52:21.719871Z",
     "start_time": "2018-10-15T10:52:21.673710Z"
    }
   },
   "outputs": [],
   "source": [
    "import numpy as np\n",
    "from sklearn import datasets\n",
    "from sklearn.svm import SVR\n",
    "from sklearn.metrics import mean_squared_error, explained_variance_score\n",
    "from sklearn.utils import shuffle"
   ]
  },
  {
   "cell_type": "code",
   "execution_count": 74,
   "metadata": {
    "ExecuteTime": {
     "end_time": "2018-10-15T10:55:13.034778Z",
     "start_time": "2018-10-15T10:55:13.025945Z"
    }
   },
   "outputs": [],
   "source": [
    "data = datasets.load_boston()\n",
    "X, y = shuffle(data.data, data.target, random_state = 7)"
   ]
  },
  {
   "cell_type": "markdown",
   "metadata": {},
   "source": [
    "Shuffling is done so that the analysis won't be biased. Find out what shuffling does."
   ]
  },
  {
   "cell_type": "code",
   "execution_count": 75,
   "metadata": {
    "ExecuteTime": {
     "end_time": "2018-10-15T10:56:41.685656Z",
     "start_time": "2018-10-15T10:56:41.682304Z"
    }
   },
   "outputs": [],
   "source": [
    "x_train, x_test, y_train, y_test = train_test_split(X , y, test_size = 0.2)"
   ]
  },
  {
   "cell_type": "markdown",
   "metadata": {},
   "source": [
    "C parameter represents the penalty for training error. Higher C can fit the training set more accurately but may cause overfitting. Epsilon parameter specifies a threshold where there is no penalty for training error if the predicted value is within this distance from the actual."
   ]
  },
  {
   "cell_type": "code",
   "execution_count": 76,
   "metadata": {
    "ExecuteTime": {
     "end_time": "2018-10-15T11:19:30.666008Z",
     "start_time": "2018-10-15T11:19:28.385942Z"
    }
   },
   "outputs": [
    {
     "data": {
      "text/plain": [
       "SVR(C=1.0, cache_size=200, coef0=0.0, degree=3, epsilon=0.1, gamma='auto',\n",
       "  kernel='linear', max_iter=-1, shrinking=True, tol=0.001, verbose=False)"
      ]
     },
     "execution_count": 76,
     "metadata": {},
     "output_type": "execute_result"
    }
   ],
   "source": [
    "sv_regressor = SVR(kernel = 'linear', C = 1.0, epsilon = 0.1)\n",
    "sv_regressor.fit(x_train, y_train)"
   ]
  },
  {
   "cell_type": "code",
   "execution_count": 78,
   "metadata": {
    "ExecuteTime": {
     "end_time": "2018-10-15T11:19:52.617324Z",
     "start_time": "2018-10-15T11:19:52.614048Z"
    }
   },
   "outputs": [],
   "source": [
    "y_test_pred = sv_regressor.predict(x_test)"
   ]
  },
  {
   "cell_type": "code",
   "execution_count": 79,
   "metadata": {
    "ExecuteTime": {
     "end_time": "2018-10-15T11:20:15.247139Z",
     "start_time": "2018-10-15T11:20:15.242801Z"
    }
   },
   "outputs": [
    {
     "name": "stdout",
     "output_type": "stream",
     "text": [
      "\n",
      "#### Performance ####\n",
      "Mean squared error = 30.0\n",
      "Explained variance score = 0.54\n"
     ]
    }
   ],
   "source": [
    "mse = mean_squared_error(y_test, y_test_pred)\n",
    "evs = explained_variance_score(y_test, y_test_pred)\n",
    "print(\"\\n#### Performance ####\")\n",
    "print(\"Mean squared error =\", round(mse, 2))\n",
    "print(\"Explained variance score =\", round(evs, 2))"
   ]
  },
  {
   "cell_type": "code",
   "execution_count": null,
   "metadata": {},
   "outputs": [],
   "source": []
  },
  {
   "cell_type": "code",
   "execution_count": null,
   "metadata": {},
   "outputs": [],
   "source": []
  }
 ],
 "metadata": {
  "kernelspec": {
   "display_name": "Python 3",
   "language": "python",
   "name": "python3"
  },
  "language_info": {
   "codemirror_mode": {
    "name": "ipython",
    "version": 3
   },
   "file_extension": ".py",
   "mimetype": "text/x-python",
   "name": "python",
   "nbconvert_exporter": "python",
   "pygments_lexer": "ipython3",
   "version": "3.6.5"
  },
  "varInspector": {
   "cols": {
    "lenName": 16,
    "lenType": 16,
    "lenVar": 40
   },
   "kernels_config": {
    "python": {
     "delete_cmd_postfix": "",
     "delete_cmd_prefix": "del ",
     "library": "var_list.py",
     "varRefreshCmd": "print(var_dic_list())"
    },
    "r": {
     "delete_cmd_postfix": ") ",
     "delete_cmd_prefix": "rm(",
     "library": "var_list.r",
     "varRefreshCmd": "cat(var_dic_list()) "
    }
   },
   "types_to_exclude": [
    "module",
    "function",
    "builtin_function_or_method",
    "instance",
    "_Feature"
   ],
   "window_display": false
  }
 },
 "nbformat": 4,
 "nbformat_minor": 2
}
