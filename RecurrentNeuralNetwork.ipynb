{
 "cells": [
  {
   "cell_type": "markdown",
   "metadata": {},
   "source": [
    "# Recurrent Neural Networks"
   ]
  },
  {
   "cell_type": "markdown",
   "metadata": {},
   "source": [
    "Recall that in feedforward networks:\n",
    "\n",
    "$h^{(t)} = f(x^{(t)}; \\theta)$\n",
    "\n",
    "Where x(t) is basically the dot product of weights and inputs plus the bias. The difference in recurrent networks is that the hidden layer at data point t is:\n",
    "\n",
    "$h^{(t)} = f(h^{(t-1)}, x^{(t)}; \\theta)$\n",
    "\n",
    "The current hidden layer is a function of the previous hidden state and the current input. Theta are just the function parameters. The networking learns to use h(t) as some kind of a summary of losses from the past inputs up to point t."
   ]
  },
  {
   "cell_type": "markdown",
   "metadata": {},
   "source": [
    "Function will take:\n",
    "* A list of input chars\n",
    "* A list of target chars\n",
    "* The previous hidden state\n",
    "\n",
    "And will output:\n",
    "* The loss\n",
    "* The gradient for each parameters between layers\n",
    "* The last hidden state"
   ]
  },
  {
   "cell_type": "markdown",
   "metadata": {},
   "source": [
    "### Forward Pass"
   ]
  },
  {
   "cell_type": "markdown",
   "metadata": {},
   "source": [
    "$h_{t}  = \\phi(Wx_{t} + Uh_{t-1})$\n",
    "\n",
    "Defines the forward pass algorithm in pseudo code: <br>\n",
    "hs = (inputs * Wxh) + (prev_hidden * Whh) + bh <br>\n",
    "ys = (hs * Why) + by <br>\n",
    "ps = normalized(ys) <br>\n",
    "Note that ys gives us the un-normalized log probabilities <br>\n",
    "Normalized using softmax function: <br>\n",
    "$p_{k}  = \\dfrac{e^{f_{k}}}{\\Sigma_{j}e^{f_{i}}}$ <br>\n",
    "$L_{i} = -log(p_{y_{i}})$"
   ]
  },
  {
   "cell_type": "markdown",
   "metadata": {},
   "source": [
    "### Backward Pass"
   ]
  },
  {
   "cell_type": "markdown",
   "metadata": {},
   "source": [
    "$\\dfrac{\\delta J_{t}}{\\delta W_{hy}} = \\Sigma \\dfrac{\\delta J}{\\delta z_{t}} * \\dfrac{\\delta z_{t}}{\\delta W_{hy}}$\n",
    "\n",
    "$\\dfrac{\\delta J_{t}}{\\delta W_{hh}} = \\Sigma \\dfrac{\\delta J}{\\delta h_{t}} * \\dfrac{\\delta h_{t}}{\\delta W_{hh}} $\n",
    "\n",
    "$\\dfrac{\\delta J_{t}}{\\delta W_{xh}} = \\Sigma \\dfrac{\\delta J}{\\delta h_{t}} * \\dfrac{\\delta h_{t}}{\\delta W_{xh}} $"
   ]
  },
  {
   "cell_type": "code",
   "execution_count": 1,
   "metadata": {
    "ExecuteTime": {
     "end_time": "2018-11-14T11:18:14.200400Z",
     "start_time": "2018-11-14T11:18:12.457788Z"
    }
   },
   "outputs": [
    {
     "name": "stderr",
     "output_type": "stream",
     "text": [
      "/anaconda3/lib/python3.6/site-packages/h5py/__init__.py:36: FutureWarning: Conversion of the second argument of issubdtype from `float` to `np.floating` is deprecated. In future, it will be treated as `np.float64 == np.dtype(float).type`.\n",
      "  from ._conv import register_converters as _register_converters\n",
      "Using TensorFlow backend.\n"
     ]
    }
   ],
   "source": [
    "from keras.models import Sequential\n",
    "from keras.layers import Dense, Dropout, LSTM\n",
    "import keras"
   ]
  },
  {
   "cell_type": "code",
   "execution_count": 2,
   "metadata": {
    "ExecuteTime": {
     "end_time": "2018-11-14T11:18:14.548237Z",
     "start_time": "2018-11-14T11:18:14.202637Z"
    }
   },
   "outputs": [],
   "source": [
    "mnist = keras.datasets.mnist\n",
    "(x_train, y_train), (x_test, y_test) = mnist.load_data()"
   ]
  },
  {
   "cell_type": "code",
   "execution_count": 3,
   "metadata": {
    "ExecuteTime": {
     "end_time": "2018-11-14T11:18:14.891460Z",
     "start_time": "2018-11-14T11:18:14.550654Z"
    }
   },
   "outputs": [
    {
     "name": "stdout",
     "output_type": "stream",
     "text": [
      "(60000, 28, 28)\n",
      "(28, 28)\n"
     ]
    }
   ],
   "source": [
    "print(x_train.shape)\n",
    "print(x_train[0].shape)\n",
    "x_train = x_train / 255.0\n",
    "x_test = x_test / 255.0"
   ]
  },
  {
   "cell_type": "code",
   "execution_count": 4,
   "metadata": {
    "ExecuteTime": {
     "end_time": "2018-11-14T11:18:15.397716Z",
     "start_time": "2018-11-14T11:18:14.893299Z"
    }
   },
   "outputs": [],
   "source": [
    "model = Sequential()\n",
    "model.add(LSTM(128, \n",
    "               input_shape = (x_train.shape[1:]), \n",
    "               activation = 'relu',\n",
    "               return_sequences = True))\n",
    "model.add(Dropout(0.2))\n",
    "model.add(LSTM(128, activation = 'relu'))\n",
    "model.add(Dropout(0.2))\n",
    "model.add(Dense(32, activation = 'relu'))\n",
    "model.add(Dropout(0.2))\n",
    "model.add(Dense(10, activation = 'softmax'))"
   ]
  },
  {
   "cell_type": "code",
   "execution_count": 5,
   "metadata": {
    "ExecuteTime": {
     "end_time": "2018-11-14T11:18:15.418009Z",
     "start_time": "2018-11-14T11:18:15.400314Z"
    }
   },
   "outputs": [],
   "source": [
    "opt = keras.optimizers.Adam(lr = 1e-3, decay = 1e-5)"
   ]
  },
  {
   "cell_type": "code",
   "execution_count": 6,
   "metadata": {
    "ExecuteTime": {
     "end_time": "2018-11-14T11:18:15.446487Z",
     "start_time": "2018-11-14T11:18:15.420887Z"
    }
   },
   "outputs": [],
   "source": [
    "model.compile(loss = 'sparse_categorical_crossentropy',\n",
    "             optimizer = opt,\n",
    "             metrics = ['accuracy'])"
   ]
  },
  {
   "cell_type": "code",
   "execution_count": 7,
   "metadata": {
    "ExecuteTime": {
     "end_time": "2018-11-14T11:24:10.060713Z",
     "start_time": "2018-11-14T11:18:15.448264Z"
    }
   },
   "outputs": [
    {
     "name": "stdout",
     "output_type": "stream",
     "text": [
      "Train on 60000 samples, validate on 10000 samples\n",
      "Epoch 1/3\n",
      "60000/60000 [==============================] - 119s 2ms/step - loss: 0.6536 - acc: 0.7830 - val_loss: 0.1226 - val_acc: 0.9627\n",
      "Epoch 2/3\n",
      "60000/60000 [==============================] - 117s 2ms/step - loss: 0.1628 - acc: 0.9563 - val_loss: 0.0706 - val_acc: 0.9785\n",
      "Epoch 3/3\n",
      "60000/60000 [==============================] - 118s 2ms/step - loss: 0.1155 - acc: 0.9693 - val_loss: 0.0770 - val_acc: 0.9768\n"
     ]
    },
    {
     "data": {
      "text/plain": [
       "<keras.callbacks.History at 0xb4855ee80>"
      ]
     },
     "execution_count": 7,
     "metadata": {},
     "output_type": "execute_result"
    }
   ],
   "source": [
    "model.fit(x_train, \n",
    "          y_train, \n",
    "          epochs = 3, \n",
    "          validation_data = (x_test, y_test))"
   ]
  },
  {
   "cell_type": "markdown",
   "metadata": {},
   "source": [
    "# RNN Model 2"
   ]
  },
  {
   "cell_type": "code",
   "execution_count": null,
   "metadata": {},
   "outputs": [],
   "source": []
  }
 ],
 "metadata": {
  "kernelspec": {
   "display_name": "Python 3",
   "language": "python",
   "name": "python3"
  },
  "language_info": {
   "codemirror_mode": {
    "name": "ipython",
    "version": 3
   },
   "file_extension": ".py",
   "mimetype": "text/x-python",
   "name": "python",
   "nbconvert_exporter": "python",
   "pygments_lexer": "ipython3",
   "version": "3.6.5"
  },
  "varInspector": {
   "cols": {
    "lenName": 16,
    "lenType": 16,
    "lenVar": 40
   },
   "kernels_config": {
    "python": {
     "delete_cmd_postfix": "",
     "delete_cmd_prefix": "del ",
     "library": "var_list.py",
     "varRefreshCmd": "print(var_dic_list())"
    },
    "r": {
     "delete_cmd_postfix": ") ",
     "delete_cmd_prefix": "rm(",
     "library": "var_list.r",
     "varRefreshCmd": "cat(var_dic_list()) "
    }
   },
   "types_to_exclude": [
    "module",
    "function",
    "builtin_function_or_method",
    "instance",
    "_Feature"
   ],
   "window_display": false
  }
 },
 "nbformat": 4,
 "nbformat_minor": 2
}
