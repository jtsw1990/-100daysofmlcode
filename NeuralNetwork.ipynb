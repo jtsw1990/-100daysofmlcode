{
 "cells": [
  {
   "cell_type": "markdown",
   "metadata": {},
   "source": [
    "# Neural network"
   ]
  },
  {
   "cell_type": "code",
   "execution_count": 1,
   "metadata": {
    "ExecuteTime": {
     "end_time": "2018-11-05T12:57:03.008976Z",
     "start_time": "2018-11-05T12:57:02.281632Z"
    }
   },
   "outputs": [],
   "source": [
    "from sklearn.datasets import load_boston\n",
    "import numpy as np\n",
    "import pandas as pd\n",
    "import matplotlib.pyplot as plt\n",
    "import time"
   ]
  },
  {
   "cell_type": "code",
   "execution_count": 2,
   "metadata": {
    "ExecuteTime": {
     "end_time": "2018-11-05T12:57:03.020124Z",
     "start_time": "2018-11-05T12:57:03.011102Z"
    }
   },
   "outputs": [],
   "source": [
    "boston = load_boston()"
   ]
  },
  {
   "cell_type": "code",
   "execution_count": 3,
   "metadata": {
    "ExecuteTime": {
     "end_time": "2018-11-05T12:57:03.027341Z",
     "start_time": "2018-11-05T12:57:03.021968Z"
    }
   },
   "outputs": [
    {
     "data": {
      "text/plain": [
       "dict_keys(['data', 'target', 'feature_names', 'DESCR'])"
      ]
     },
     "execution_count": 3,
     "metadata": {},
     "output_type": "execute_result"
    }
   ],
   "source": [
    "boston.keys()"
   ]
  },
  {
   "cell_type": "code",
   "execution_count": 4,
   "metadata": {
    "ExecuteTime": {
     "end_time": "2018-11-05T12:57:03.033142Z",
     "start_time": "2018-11-05T12:57:03.029076Z"
    }
   },
   "outputs": [],
   "source": [
    "df = pd.DataFrame(pd.concat([pd.DataFrame(boston['data']), pd.DataFrame(boston['target'])], axis = 1)) \n",
    "df.columns = list(boston['feature_names']) + ['target']\n"
   ]
  },
  {
   "cell_type": "code",
   "execution_count": 5,
   "metadata": {
    "ExecuteTime": {
     "end_time": "2018-11-05T12:57:03.039701Z",
     "start_time": "2018-11-05T12:57:03.035272Z"
    }
   },
   "outputs": [],
   "source": [
    "df_nn = df[['LSTAT', 'target']]\n",
    "x = np.array(df_nn['LSTAT']).reshape(506, 1)\n",
    "y = np.array(df_nn['target']).reshape(506, 1)\n",
    "test = np.concatenate([x, y], axis = 1)"
   ]
  },
  {
   "cell_type": "markdown",
   "metadata": {},
   "source": [
    "FIND OUT ABOUT NAME SPACES FOR FUNCTIONS IN CLASSES FOR ACTIVATION FUNCTIONS"
   ]
  },
  {
   "cell_type": "code",
   "execution_count": 6,
   "metadata": {
    "ExecuteTime": {
     "end_time": "2018-11-05T12:57:03.046903Z",
     "start_time": "2018-11-05T12:57:03.041479Z"
    }
   },
   "outputs": [],
   "source": [
    "class NeuralNetwork(object):\n",
    "    \n",
    "    def __init__(self, x, y, learning_rate = 0.01):\n",
    "        ''' get general network architecture with \n",
    "        defining the layers, weights biases, here we assume no hidden layers for simplicity'''\n",
    "        \n",
    "        self.input = x\n",
    "        self.target = y\n",
    "        self.weights = np.random.rand(self.input.shape[1], 1)\n",
    "        self.output = np.zeros(self.target.shape)\n",
    "        self.learning_rate = learning_rate\n",
    "        \n",
    "    def mini_batches(self):\n",
    "        ''' create the function to split dataset in to mini-batches and training epochs'''\n",
    "        pass\n",
    "        \n",
    "    def activationFunction(x):\n",
    "        return x\n",
    "    \n",
    "    def feedForward(self):\n",
    "        ''' currently using the identity function as activation. Learn more about defining the activation\n",
    "        within the class and change to reLU or sigmoid'''\n",
    "        \n",
    "        self.output = np.dot(self.input, self.weights)\n",
    "    \n",
    "    def backPropagation(self):\n",
    "        '''Assuming no hidden layers, we only need to be concerned with the \n",
    "        derivative of the cost function. This is assuming we use a quadratic\n",
    "        cost function C = (y - y_hat) ** 2\n",
    "        recall that the change in weights will be :\n",
    "        dL/dw = dL/dy * dy/dz * dz/dw'''\n",
    "        \n",
    "        d_cost = 2 * (self.output - self.target)\n",
    "        d_activation = 1\n",
    "        d_weights = np.dot(np.dot(self.input.T, d_cost), 1)\n",
    "        self.weights -= d_weights * self.learning_rate\n",
    "    \n",
    "    def calculate_cost(self, x):\n",
    "        return (1 / len(self.input)) * np.sum(((x - self.target)**2))\n",
    "    \n",
    "    "
   ]
  },
  {
   "cell_type": "code",
   "execution_count": 7,
   "metadata": {
    "ExecuteTime": {
     "end_time": "2018-11-05T12:57:03.051969Z",
     "start_time": "2018-11-05T12:57:03.049255Z"
    }
   },
   "outputs": [],
   "source": [
    "testing = NeuralNetwork(x, y)"
   ]
  },
  {
   "cell_type": "code",
   "execution_count": 8,
   "metadata": {
    "ExecuteTime": {
     "end_time": "2018-11-05T12:57:03.065600Z",
     "start_time": "2018-11-05T12:57:03.054527Z"
    },
    "scrolled": true
   },
   "outputs": [
    {
     "name": "stdout",
     "output_type": "stream",
     "text": [
      "training NeuralNetwork... running epoch 0\n",
      "training NeuralNetwork... running epoch 1\n",
      "training NeuralNetwork... running epoch 2\n",
      "training NeuralNetwork... running epoch 3\n",
      "training NeuralNetwork... running epoch 4\n",
      "training NeuralNetwork... running epoch 5\n",
      "training NeuralNetwork... running epoch 6\n",
      "training NeuralNetwork... running epoch 7\n",
      "training NeuralNetwork... running epoch 8\n",
      "training NeuralNetwork... running epoch 9\n",
      "training NeuralNetwork... running epoch 10\n",
      "training NeuralNetwork... running epoch 11\n",
      "training NeuralNetwork... running epoch 12\n",
      "training NeuralNetwork... running epoch 13\n",
      "training NeuralNetwork... running epoch 14\n",
      "training NeuralNetwork... running epoch 15\n",
      "training NeuralNetwork... running epoch 16\n",
      "training NeuralNetwork... running epoch 17\n",
      "training NeuralNetwork... running epoch 18\n",
      "training NeuralNetwork... running epoch 19\n",
      "training NeuralNetwork... running epoch 20\n",
      "training NeuralNetwork... running epoch 21\n",
      "training NeuralNetwork... running epoch 22\n",
      "training NeuralNetwork... running epoch 23\n",
      "training NeuralNetwork... running epoch 24\n",
      "training NeuralNetwork... running epoch 25\n",
      "training NeuralNetwork... running epoch 26\n",
      "training NeuralNetwork... running epoch 27\n",
      "training NeuralNetwork... running epoch 28\n",
      "training NeuralNetwork... running epoch 29\n",
      "training NeuralNetwork... running epoch 30\n",
      "training NeuralNetwork... running epoch 31\n",
      "training NeuralNetwork... running epoch 32\n",
      "training NeuralNetwork... running epoch 33\n",
      "training NeuralNetwork... running epoch 34\n",
      "training NeuralNetwork... running epoch 35\n",
      "training NeuralNetwork... running epoch 36\n",
      "training NeuralNetwork... running epoch 37\n",
      "training NeuralNetwork... running epoch 38\n",
      "training NeuralNetwork... running epoch 39\n",
      "training NeuralNetwork... running epoch 40\n",
      "training NeuralNetwork... running epoch 41\n",
      "training NeuralNetwork... running epoch 42\n",
      "training NeuralNetwork... running epoch 43\n",
      "training NeuralNetwork... running epoch 44\n",
      "training NeuralNetwork... running epoch 45\n",
      "training NeuralNetwork... running epoch 46\n",
      "training NeuralNetwork... running epoch 47\n",
      "training NeuralNetwork... running epoch 48\n",
      "training NeuralNetwork... running epoch 49\n"
     ]
    }
   ],
   "source": [
    "for epoch in range(50):\n",
    "    testing.feedForward()\n",
    "    testing.backPropagation()\n",
    "    print('training NeuralNetwork... running epoch {}'.format(epoch))"
   ]
  },
  {
   "cell_type": "markdown",
   "metadata": {},
   "source": [
    "# Visualizing Keras NN"
   ]
  },
  {
   "cell_type": "code",
   "execution_count": 13,
   "metadata": {
    "ExecuteTime": {
     "end_time": "2018-11-05T12:59:18.900301Z",
     "start_time": "2018-11-05T12:59:03.759590Z"
    },
    "scrolled": true
   },
   "outputs": [
    {
     "name": "stdout",
     "output_type": "stream",
     "text": [
      "Epoch 1/150\n",
      "768/768 [==============================] - 0s 520us/step - loss: 3.7092 - acc: 0.5990\n",
      "Epoch 2/150\n",
      "768/768 [==============================] - 0s 122us/step - loss: 0.9362 - acc: 0.5938\n",
      "Epoch 3/150\n",
      "768/768 [==============================] - 0s 122us/step - loss: 0.7472 - acc: 0.6406\n",
      "Epoch 4/150\n",
      "768/768 [==============================] - 0s 120us/step - loss: 0.7115 - acc: 0.6576\n",
      "Epoch 5/150\n",
      "768/768 [==============================] - 0s 122us/step - loss: 0.6823 - acc: 0.6745\n",
      "Epoch 6/150\n",
      "768/768 [==============================] - 0s 127us/step - loss: 0.6511 - acc: 0.6849\n",
      "Epoch 7/150\n",
      "768/768 [==============================] - 0s 129us/step - loss: 0.6495 - acc: 0.6771\n",
      "Epoch 8/150\n",
      "768/768 [==============================] - 0s 120us/step - loss: 0.6369 - acc: 0.6836\n",
      "Epoch 9/150\n",
      "768/768 [==============================] - 0s 116us/step - loss: 0.6246 - acc: 0.6979\n",
      "Epoch 10/150\n",
      "768/768 [==============================] - 0s 122us/step - loss: 0.6296 - acc: 0.6771\n",
      "Epoch 11/150\n",
      "768/768 [==============================] - 0s 117us/step - loss: 0.6489 - acc: 0.6732\n",
      "Epoch 12/150\n",
      "768/768 [==============================] - 0s 117us/step - loss: 0.6389 - acc: 0.6745\n",
      "Epoch 13/150\n",
      "768/768 [==============================] - 0s 120us/step - loss: 0.6255 - acc: 0.6758\n",
      "Epoch 14/150\n",
      "768/768 [==============================] - 0s 117us/step - loss: 0.6166 - acc: 0.7031\n",
      "Epoch 15/150\n",
      "768/768 [==============================] - 0s 115us/step - loss: 0.6016 - acc: 0.6940\n",
      "Epoch 16/150\n",
      "768/768 [==============================] - 0s 124us/step - loss: 0.5877 - acc: 0.7005\n",
      "Epoch 17/150\n",
      "768/768 [==============================] - 0s 129us/step - loss: 0.5844 - acc: 0.7018\n",
      "Epoch 18/150\n",
      "768/768 [==============================] - 0s 119us/step - loss: 0.6000 - acc: 0.6875\n",
      "Epoch 19/150\n",
      "768/768 [==============================] - 0s 123us/step - loss: 0.5804 - acc: 0.7096\n",
      "Epoch 20/150\n",
      "768/768 [==============================] - 0s 142us/step - loss: 0.5799 - acc: 0.7187\n",
      "Epoch 21/150\n",
      "768/768 [==============================] - 0s 139us/step - loss: 0.5685 - acc: 0.7174\n",
      "Epoch 22/150\n",
      "768/768 [==============================] - 0s 141us/step - loss: 0.5825 - acc: 0.6953\n",
      "Epoch 23/150\n",
      "768/768 [==============================] - 0s 132us/step - loss: 0.5736 - acc: 0.7122\n",
      "Epoch 24/150\n",
      "768/768 [==============================] - 0s 120us/step - loss: 0.5675 - acc: 0.7318\n",
      "Epoch 25/150\n",
      "768/768 [==============================] - 0s 120us/step - loss: 0.5577 - acc: 0.7370\n",
      "Epoch 26/150\n",
      "768/768 [==============================] - 0s 129us/step - loss: 0.5709 - acc: 0.7057\n",
      "Epoch 27/150\n",
      "768/768 [==============================] - 0s 131us/step - loss: 0.5556 - acc: 0.7240\n",
      "Epoch 28/150\n",
      "768/768 [==============================] - 0s 125us/step - loss: 0.5550 - acc: 0.7331\n",
      "Epoch 29/150\n",
      "768/768 [==============================] - 0s 130us/step - loss: 0.5744 - acc: 0.7148\n",
      "Epoch 30/150\n",
      "768/768 [==============================] - 0s 123us/step - loss: 0.5612 - acc: 0.7227\n",
      "Epoch 31/150\n",
      "768/768 [==============================] - 0s 123us/step - loss: 0.5686 - acc: 0.7188\n",
      "Epoch 32/150\n",
      "768/768 [==============================] - 0s 125us/step - loss: 0.5640 - acc: 0.7109\n",
      "Epoch 33/150\n",
      "768/768 [==============================] - 0s 131us/step - loss: 0.5510 - acc: 0.7201\n",
      "Epoch 34/150\n",
      "768/768 [==============================] - 0s 126us/step - loss: 0.5482 - acc: 0.7318\n",
      "Epoch 35/150\n",
      "768/768 [==============================] - 0s 139us/step - loss: 0.5494 - acc: 0.7253\n",
      "Epoch 36/150\n",
      "768/768 [==============================] - 0s 132us/step - loss: 0.5651 - acc: 0.7057\n",
      "Epoch 37/150\n",
      "768/768 [==============================] - 0s 141us/step - loss: 0.5337 - acc: 0.7370\n",
      "Epoch 38/150\n",
      "768/768 [==============================] - 0s 125us/step - loss: 0.5404 - acc: 0.7240\n",
      "Epoch 39/150\n",
      "768/768 [==============================] - 0s 120us/step - loss: 0.5466 - acc: 0.7188\n",
      "Epoch 40/150\n",
      "768/768 [==============================] - 0s 113us/step - loss: 0.5444 - acc: 0.7240\n",
      "Epoch 41/150\n",
      "768/768 [==============================] - 0s 113us/step - loss: 0.5432 - acc: 0.7318\n",
      "Epoch 42/150\n",
      "768/768 [==============================] - 0s 109us/step - loss: 0.5386 - acc: 0.7396\n",
      "Epoch 43/150\n",
      "768/768 [==============================] - 0s 119us/step - loss: 0.5316 - acc: 0.7513\n",
      "Epoch 44/150\n",
      "768/768 [==============================] - 0s 109us/step - loss: 0.5333 - acc: 0.7422\n",
      "Epoch 45/150\n",
      "768/768 [==============================] - 0s 110us/step - loss: 0.5330 - acc: 0.7578\n",
      "Epoch 46/150\n",
      "768/768 [==============================] - 0s 121us/step - loss: 0.5280 - acc: 0.7526\n",
      "Epoch 47/150\n",
      "768/768 [==============================] - 0s 111us/step - loss: 0.5316 - acc: 0.7344\n",
      "Epoch 48/150\n",
      "768/768 [==============================] - 0s 122us/step - loss: 0.5332 - acc: 0.7409\n",
      "Epoch 49/150\n",
      "768/768 [==============================] - 0s 121us/step - loss: 0.5326 - acc: 0.7474\n",
      "Epoch 50/150\n",
      "768/768 [==============================] - 0s 122us/step - loss: 0.5269 - acc: 0.7396\n",
      "Epoch 51/150\n",
      "768/768 [==============================] - 0s 124us/step - loss: 0.5269 - acc: 0.7513\n",
      "Epoch 52/150\n",
      "768/768 [==============================] - 0s 123us/step - loss: 0.5283 - acc: 0.7448\n",
      "Epoch 53/150\n",
      "768/768 [==============================] - 0s 128us/step - loss: 0.5371 - acc: 0.7448\n",
      "Epoch 54/150\n",
      "768/768 [==============================] - 0s 129us/step - loss: 0.5371 - acc: 0.7240\n",
      "Epoch 55/150\n",
      "768/768 [==============================] - 0s 130us/step - loss: 0.5231 - acc: 0.7513\n",
      "Epoch 56/150\n",
      "768/768 [==============================] - 0s 126us/step - loss: 0.5279 - acc: 0.7435\n",
      "Epoch 57/150\n",
      "768/768 [==============================] - 0s 133us/step - loss: 0.5310 - acc: 0.7370\n",
      "Epoch 58/150\n",
      "768/768 [==============================] - 0s 132us/step - loss: 0.5230 - acc: 0.7539\n",
      "Epoch 59/150\n",
      "768/768 [==============================] - 0s 132us/step - loss: 0.5124 - acc: 0.7630\n",
      "Epoch 60/150\n",
      "768/768 [==============================] - 0s 122us/step - loss: 0.5344 - acc: 0.7422\n",
      "Epoch 61/150\n",
      "768/768 [==============================] - 0s 125us/step - loss: 0.5254 - acc: 0.7396\n",
      "Epoch 62/150\n",
      "768/768 [==============================] - 0s 128us/step - loss: 0.5157 - acc: 0.7539\n",
      "Epoch 63/150\n",
      "768/768 [==============================] - 0s 130us/step - loss: 0.5434 - acc: 0.7370\n",
      "Epoch 64/150\n",
      "768/768 [==============================] - 0s 132us/step - loss: 0.5300 - acc: 0.7435\n",
      "Epoch 65/150\n",
      "768/768 [==============================] - 0s 125us/step - loss: 0.5234 - acc: 0.7435\n",
      "Epoch 66/150\n",
      "768/768 [==============================] - 0s 128us/step - loss: 0.5069 - acc: 0.7474\n",
      "Epoch 67/150\n",
      "768/768 [==============================] - 0s 123us/step - loss: 0.5154 - acc: 0.7435\n",
      "Epoch 68/150\n",
      "768/768 [==============================] - 0s 126us/step - loss: 0.5137 - acc: 0.7578\n",
      "Epoch 69/150\n",
      "768/768 [==============================] - 0s 124us/step - loss: 0.5144 - acc: 0.7513\n",
      "Epoch 70/150\n",
      "768/768 [==============================] - 0s 127us/step - loss: 0.5364 - acc: 0.7214\n",
      "Epoch 71/150\n",
      "768/768 [==============================] - 0s 130us/step - loss: 0.5172 - acc: 0.7396\n",
      "Epoch 72/150\n",
      "768/768 [==============================] - 0s 130us/step - loss: 0.5168 - acc: 0.7474\n",
      "Epoch 73/150\n",
      "768/768 [==============================] - 0s 129us/step - loss: 0.5166 - acc: 0.7461\n",
      "Epoch 74/150\n",
      "768/768 [==============================] - 0s 132us/step - loss: 0.5099 - acc: 0.7604\n",
      "Epoch 75/150\n",
      "768/768 [==============================] - 0s 132us/step - loss: 0.5095 - acc: 0.7578\n",
      "Epoch 76/150\n",
      "768/768 [==============================] - 0s 123us/step - loss: 0.5109 - acc: 0.7539\n",
      "Epoch 77/150\n",
      "768/768 [==============================] - 0s 119us/step - loss: 0.5151 - acc: 0.7630\n",
      "Epoch 78/150\n",
      "768/768 [==============================] - 0s 121us/step - loss: 0.5126 - acc: 0.7487\n",
      "Epoch 79/150\n",
      "768/768 [==============================] - 0s 124us/step - loss: 0.5138 - acc: 0.7448\n",
      "Epoch 80/150\n",
      "768/768 [==============================] - 0s 133us/step - loss: 0.5119 - acc: 0.7526\n",
      "Epoch 81/150\n",
      "768/768 [==============================] - 0s 124us/step - loss: 0.5069 - acc: 0.7682\n",
      "Epoch 82/150\n",
      "768/768 [==============================] - 0s 123us/step - loss: 0.5042 - acc: 0.7552\n",
      "Epoch 83/150\n"
     ]
    },
    {
     "name": "stdout",
     "output_type": "stream",
     "text": [
      "768/768 [==============================] - 0s 122us/step - loss: 0.4989 - acc: 0.7604\n",
      "Epoch 84/150\n",
      "768/768 [==============================] - 0s 133us/step - loss: 0.4980 - acc: 0.7604\n",
      "Epoch 85/150\n",
      "768/768 [==============================] - 0s 122us/step - loss: 0.5052 - acc: 0.7461\n",
      "Epoch 86/150\n",
      "768/768 [==============================] - 0s 124us/step - loss: 0.5052 - acc: 0.7500\n",
      "Epoch 87/150\n",
      "768/768 [==============================] - 0s 122us/step - loss: 0.4987 - acc: 0.7526\n",
      "Epoch 88/150\n",
      "768/768 [==============================] - 0s 123us/step - loss: 0.5008 - acc: 0.7643\n",
      "Epoch 89/150\n",
      "768/768 [==============================] - 0s 130us/step - loss: 0.5041 - acc: 0.7682\n",
      "Epoch 90/150\n",
      "768/768 [==============================] - 0s 133us/step - loss: 0.5100 - acc: 0.7539\n",
      "Epoch 91/150\n",
      "768/768 [==============================] - 0s 126us/step - loss: 0.5030 - acc: 0.7539\n",
      "Epoch 92/150\n",
      "768/768 [==============================] - 0s 118us/step - loss: 0.5044 - acc: 0.7461\n",
      "Epoch 93/150\n",
      "768/768 [==============================] - 0s 126us/step - loss: 0.4972 - acc: 0.7656\n",
      "Epoch 94/150\n",
      "768/768 [==============================] - 0s 119us/step - loss: 0.4978 - acc: 0.7656\n",
      "Epoch 95/150\n",
      "768/768 [==============================] - 0s 114us/step - loss: 0.5038 - acc: 0.7526\n",
      "Epoch 96/150\n",
      "768/768 [==============================] - 0s 111us/step - loss: 0.4902 - acc: 0.7656\n",
      "Epoch 97/150\n",
      "768/768 [==============================] - 0s 110us/step - loss: 0.5004 - acc: 0.7734\n",
      "Epoch 98/150\n",
      "768/768 [==============================] - 0s 107us/step - loss: 0.4903 - acc: 0.7617\n",
      "Epoch 99/150\n",
      "768/768 [==============================] - 0s 109us/step - loss: 0.4908 - acc: 0.7669\n",
      "Epoch 100/150\n",
      "768/768 [==============================] - 0s 115us/step - loss: 0.4846 - acc: 0.7760\n",
      "Epoch 101/150\n",
      "768/768 [==============================] - 0s 140us/step - loss: 0.4887 - acc: 0.7721\n",
      "Epoch 102/150\n",
      "768/768 [==============================] - 0s 126us/step - loss: 0.4980 - acc: 0.7578\n",
      "Epoch 103/150\n",
      "768/768 [==============================] - 0s 125us/step - loss: 0.5011 - acc: 0.7539\n",
      "Epoch 104/150\n",
      "768/768 [==============================] - 0s 124us/step - loss: 0.4941 - acc: 0.7826\n",
      "Epoch 105/150\n",
      "768/768 [==============================] - 0s 123us/step - loss: 0.5318 - acc: 0.7435\n",
      "Epoch 106/150\n",
      "768/768 [==============================] - 0s 126us/step - loss: 0.4954 - acc: 0.7747\n",
      "Epoch 107/150\n",
      "768/768 [==============================] - 0s 123us/step - loss: 0.4913 - acc: 0.7708\n",
      "Epoch 108/150\n",
      "768/768 [==============================] - 0s 122us/step - loss: 0.4989 - acc: 0.7656\n",
      "Epoch 109/150\n",
      "768/768 [==============================] - 0s 124us/step - loss: 0.4863 - acc: 0.7643\n",
      "Epoch 110/150\n",
      "768/768 [==============================] - 0s 128us/step - loss: 0.4906 - acc: 0.7669\n",
      "Epoch 111/150\n",
      "768/768 [==============================] - 0s 128us/step - loss: 0.4845 - acc: 0.7773\n",
      "Epoch 112/150\n",
      "768/768 [==============================] - 0s 130us/step - loss: 0.4901 - acc: 0.7669\n",
      "Epoch 113/150\n",
      "768/768 [==============================] - 0s 130us/step - loss: 0.4979 - acc: 0.7604\n",
      "Epoch 114/150\n",
      "768/768 [==============================] - 0s 129us/step - loss: 0.4917 - acc: 0.7617\n",
      "Epoch 115/150\n",
      "768/768 [==============================] - 0s 129us/step - loss: 0.4917 - acc: 0.7799\n",
      "Epoch 116/150\n",
      "768/768 [==============================] - 0s 128us/step - loss: 0.4926 - acc: 0.7747\n",
      "Epoch 117/150\n",
      "768/768 [==============================] - 0s 125us/step - loss: 0.4914 - acc: 0.7604\n",
      "Epoch 118/150\n",
      "768/768 [==============================] - 0s 116us/step - loss: 0.4901 - acc: 0.7799\n",
      "Epoch 119/150\n",
      "768/768 [==============================] - 0s 114us/step - loss: 0.4826 - acc: 0.7669\n",
      "Epoch 120/150\n",
      "768/768 [==============================] - 0s 118us/step - loss: 0.4935 - acc: 0.7747\n",
      "Epoch 121/150\n",
      "768/768 [==============================] - 0s 117us/step - loss: 0.4923 - acc: 0.7708\n",
      "Epoch 122/150\n",
      "768/768 [==============================] - 0s 124us/step - loss: 0.4841 - acc: 0.7786\n",
      "Epoch 123/150\n",
      "768/768 [==============================] - 0s 125us/step - loss: 0.4805 - acc: 0.7695\n",
      "Epoch 124/150\n",
      "768/768 [==============================] - 0s 137us/step - loss: 0.4826 - acc: 0.7734\n",
      "Epoch 125/150\n",
      "768/768 [==============================] - 0s 127us/step - loss: 0.4868 - acc: 0.7826\n",
      "Epoch 126/150\n",
      "768/768 [==============================] - 0s 127us/step - loss: 0.4807 - acc: 0.7773\n",
      "Epoch 127/150\n",
      "768/768 [==============================] - 0s 113us/step - loss: 0.4900 - acc: 0.7695\n",
      "Epoch 128/150\n",
      "768/768 [==============================] - 0s 117us/step - loss: 0.4722 - acc: 0.7773\n",
      "Epoch 129/150\n",
      "768/768 [==============================] - 0s 116us/step - loss: 0.4816 - acc: 0.7721\n",
      "Epoch 130/150\n",
      "768/768 [==============================] - 0s 127us/step - loss: 0.4753 - acc: 0.7865\n",
      "Epoch 131/150\n",
      "768/768 [==============================] - 0s 125us/step - loss: 0.4817 - acc: 0.7747\n",
      "Epoch 132/150\n",
      "768/768 [==============================] - 0s 128us/step - loss: 0.4832 - acc: 0.7839\n",
      "Epoch 133/150\n",
      "768/768 [==============================] - 0s 129us/step - loss: 0.4829 - acc: 0.7682\n",
      "Epoch 134/150\n",
      "768/768 [==============================] - 0s 121us/step - loss: 0.4848 - acc: 0.7747\n",
      "Epoch 135/150\n",
      "768/768 [==============================] - 0s 117us/step - loss: 0.4777 - acc: 0.7760\n",
      "Epoch 136/150\n",
      "768/768 [==============================] - 0s 108us/step - loss: 0.4744 - acc: 0.7773\n",
      "Epoch 137/150\n",
      "768/768 [==============================] - 0s 119us/step - loss: 0.4692 - acc: 0.7786\n",
      "Epoch 138/150\n",
      "768/768 [==============================] - 0s 117us/step - loss: 0.4813 - acc: 0.7786\n",
      "Epoch 139/150\n",
      "768/768 [==============================] - 0s 120us/step - loss: 0.4650 - acc: 0.7891\n",
      "Epoch 140/150\n",
      "768/768 [==============================] - 0s 123us/step - loss: 0.4839 - acc: 0.7799\n",
      "Epoch 141/150\n",
      "768/768 [==============================] - 0s 118us/step - loss: 0.4737 - acc: 0.7852\n",
      "Epoch 142/150\n",
      "768/768 [==============================] - 0s 130us/step - loss: 0.4836 - acc: 0.7721\n",
      "Epoch 143/150\n",
      "768/768 [==============================] - 0s 127us/step - loss: 0.4766 - acc: 0.7734\n",
      "Epoch 144/150\n",
      "768/768 [==============================] - 0s 126us/step - loss: 0.4776 - acc: 0.7747\n",
      "Epoch 145/150\n",
      "768/768 [==============================] - 0s 116us/step - loss: 0.4900 - acc: 0.7630\n",
      "Epoch 146/150\n",
      "768/768 [==============================] - 0s 119us/step - loss: 0.4918 - acc: 0.7695\n",
      "Epoch 147/150\n",
      "768/768 [==============================] - 0s 117us/step - loss: 0.4844 - acc: 0.7773\n",
      "Epoch 148/150\n",
      "768/768 [==============================] - 0s 121us/step - loss: 0.4716 - acc: 0.7734\n",
      "Epoch 149/150\n",
      "768/768 [==============================] - 0s 130us/step - loss: 0.4756 - acc: 0.7682\n",
      "Epoch 150/150\n",
      "768/768 [==============================] - 0s 122us/step - loss: 0.4776 - acc: 0.7721\n",
      "768/768 [==============================] - 0s 81us/step\n",
      "\n",
      "acc: 79.82%\n"
     ]
    }
   ],
   "source": [
    "from keras.models import Sequential\n",
    "from keras.layers import Dense\n",
    "import numpy\n",
    "numpy.random.seed(7)\n",
    "\n",
    "dataset = numpy.loadtxt(\"exampleDatasets/pima-indians-diabetes.csv\", delimiter = \",\")\n",
    "X = dataset[:, 0:8]\n",
    "Y = dataset[:, 8]\n",
    "model = Sequential()\n",
    "model.add(Dense(12, input_dim = 8, activation = 'relu'))\n",
    "model.add(Dense(8, activation = 'relu'))\n",
    "model.add(Dense(1, activation = 'sigmoid'))\n",
    "model.compile(loss='binary_crossentropy', \n",
    "              optimizer='adam', \n",
    "              metrics=['accuracy'])\n",
    "model.fit(X, Y, epochs=150, batch_size=10)\n",
    "scores = model.evaluate(X, Y)\n",
    "print(\"\\n%s: %.2f%%\" % (model.metrics_names[1], scores[1] * 100))"
   ]
  },
  {
   "cell_type": "code",
   "execution_count": 15,
   "metadata": {
    "ExecuteTime": {
     "end_time": "2018-11-05T13:01:09.001128Z",
     "start_time": "2018-11-05T13:01:06.415524Z"
    }
   },
   "outputs": [],
   "source": [
    "from ann_visualizer.visualize import ann_viz\n",
    "\n",
    "ann_viz(model, view = True, title=\"My first neural network\")"
   ]
  },
  {
   "cell_type": "code",
   "execution_count": null,
   "metadata": {},
   "outputs": [],
   "source": []
  }
 ],
 "metadata": {
  "kernelspec": {
   "display_name": "Python 3",
   "language": "python",
   "name": "python3"
  },
  "language_info": {
   "codemirror_mode": {
    "name": "ipython",
    "version": 3
   },
   "file_extension": ".py",
   "mimetype": "text/x-python",
   "name": "python",
   "nbconvert_exporter": "python",
   "pygments_lexer": "ipython3",
   "version": "3.6.5"
  },
  "varInspector": {
   "cols": {
    "lenName": 16,
    "lenType": 16,
    "lenVar": 40
   },
   "kernels_config": {
    "python": {
     "delete_cmd_postfix": "",
     "delete_cmd_prefix": "del ",
     "library": "var_list.py",
     "varRefreshCmd": "print(var_dic_list())"
    },
    "r": {
     "delete_cmd_postfix": ") ",
     "delete_cmd_prefix": "rm(",
     "library": "var_list.r",
     "varRefreshCmd": "cat(var_dic_list()) "
    }
   },
   "types_to_exclude": [
    "module",
    "function",
    "builtin_function_or_method",
    "instance",
    "_Feature"
   ],
   "window_display": false
  }
 },
 "nbformat": 4,
 "nbformat_minor": 2
}
