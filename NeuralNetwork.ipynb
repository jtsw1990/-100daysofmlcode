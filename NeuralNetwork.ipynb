{
 "cells": [
  {
   "cell_type": "markdown",
   "metadata": {},
   "source": [
    "# Neural network"
   ]
  },
  {
   "cell_type": "code",
   "execution_count": 1,
   "metadata": {
    "ExecuteTime": {
     "end_time": "2018-11-04T11:07:01.984144Z",
     "start_time": "2018-11-04T11:07:00.279034Z"
    }
   },
   "outputs": [],
   "source": [
    "from sklearn.datasets import load_boston\n",
    "import numpy as np\n",
    "import pandas as pd\n",
    "import matplotlib.pyplot as plt\n",
    "import time"
   ]
  },
  {
   "cell_type": "code",
   "execution_count": 2,
   "metadata": {
    "ExecuteTime": {
     "end_time": "2018-11-04T11:07:02.006093Z",
     "start_time": "2018-11-04T11:07:01.989035Z"
    }
   },
   "outputs": [],
   "source": [
    "boston = load_boston()"
   ]
  },
  {
   "cell_type": "code",
   "execution_count": 3,
   "metadata": {
    "ExecuteTime": {
     "end_time": "2018-11-04T11:07:02.020038Z",
     "start_time": "2018-11-04T11:07:02.011053Z"
    }
   },
   "outputs": [
    {
     "data": {
      "text/plain": [
       "dict_keys(['data', 'target', 'feature_names', 'DESCR'])"
      ]
     },
     "execution_count": 3,
     "metadata": {},
     "output_type": "execute_result"
    }
   ],
   "source": [
    "boston.keys()"
   ]
  },
  {
   "cell_type": "code",
   "execution_count": 4,
   "metadata": {
    "ExecuteTime": {
     "end_time": "2018-11-04T11:07:02.039073Z",
     "start_time": "2018-11-04T11:07:02.030036Z"
    }
   },
   "outputs": [],
   "source": [
    "df = pd.DataFrame(pd.concat([pd.DataFrame(boston['data']), pd.DataFrame(boston['target'])], axis = 1)) \n",
    "df.columns = list(boston['feature_names']) + ['target']\n"
   ]
  },
  {
   "cell_type": "code",
   "execution_count": 5,
   "metadata": {
    "ExecuteTime": {
     "end_time": "2018-11-04T11:07:02.061038Z",
     "start_time": "2018-11-04T11:07:02.049082Z"
    }
   },
   "outputs": [],
   "source": [
    "df_nn = df[['LSTAT', 'target']]\n",
    "x = np.array(df_nn['LSTAT']).reshape(506, 1)\n",
    "y = np.array(df_nn['target']).reshape(506, 1)\n",
    "test = np.concatenate([x, y], axis = 1)"
   ]
  },
  {
   "cell_type": "markdown",
   "metadata": {},
   "source": [
    "FIND OUT ABOUT NAME SPACES FOR FUNCTIONS IN CLASSES FOR ACTIVATION FUNCTIONS"
   ]
  },
  {
   "cell_type": "code",
   "execution_count": 6,
   "metadata": {
    "ExecuteTime": {
     "end_time": "2018-11-04T11:07:02.080041Z",
     "start_time": "2018-11-04T11:07:02.066040Z"
    }
   },
   "outputs": [],
   "source": [
    "class NeuralNetwork(object):\n",
    "    \n",
    "    def __init__(self, x, y, learning_rate = 0.01):\n",
    "        ''' get general network architecture with \n",
    "        defining the layers, weights biases, here we assume no hidden layers for simplicity'''\n",
    "        \n",
    "        self.input = x\n",
    "        self.target = y\n",
    "        self.weights = np.random.rand(self.input.shape[1], 1)\n",
    "        self.output = np.zeros(self.target.shape)\n",
    "        self.learning_rate = learning_rate\n",
    "        \n",
    "    def mini_batches(self):\n",
    "        ''' create the function to split dataset in to mini-batches and training epochs'''\n",
    "        pass\n",
    "        \n",
    "    def activationFunction(x):\n",
    "        return x\n",
    "    \n",
    "    def feedForward(self):\n",
    "        ''' currently using the identity function as activation. Learn more about defining the activation\n",
    "        within the class and change to reLU or sigmoid'''\n",
    "        \n",
    "        self.output = np.dot(self.input, self.weights)\n",
    "    \n",
    "    def backPropagation(self):\n",
    "        '''Assuming no hidden layers, we only need to be concerned with the \n",
    "        derivative of the cost function. This is assuming we use a quadratic\n",
    "        cost function C = (y - y_hat) ** 2\n",
    "        recall that the change in weights will be :\n",
    "        dL/dw = dL/dy * dy/dz * dz/dw'''\n",
    "        \n",
    "        d_cost = 2 * (self.output - self.target)\n",
    "        d_activation = 1\n",
    "        d_weights = np.dot(np.dot(self.input.T, d_cost), 1)\n",
    "        self.weights -= d_weights * self.learning_rate\n",
    "    \n",
    "    def make_prediction(x, weights):\n",
    "        return np.dot(x, weights)\n",
    "    \n",
    "    "
   ]
  },
  {
   "cell_type": "code",
   "execution_count": 7,
   "metadata": {
    "ExecuteTime": {
     "end_time": "2018-11-04T11:07:02.090047Z",
     "start_time": "2018-11-04T11:07:02.085083Z"
    }
   },
   "outputs": [],
   "source": [
    "testing = NeuralNetwork(x, y)"
   ]
  },
  {
   "cell_type": "code",
   "execution_count": 8,
   "metadata": {
    "ExecuteTime": {
     "end_time": "2018-11-04T11:07:52.156999Z",
     "start_time": "2018-11-04T11:07:02.094036Z"
    }
   },
   "outputs": [
    {
     "name": "stdout",
     "output_type": "stream",
     "text": [
      "training NeuralNetwork... running epoch 0\n",
      "training NeuralNetwork... running epoch 1\n",
      "training NeuralNetwork... running epoch 2\n",
      "training NeuralNetwork... running epoch 3\n",
      "training NeuralNetwork... running epoch 4\n",
      "training NeuralNetwork... running epoch 5\n",
      "training NeuralNetwork... running epoch 6\n",
      "training NeuralNetwork... running epoch 7\n",
      "training NeuralNetwork... running epoch 8\n",
      "training NeuralNetwork... running epoch 9\n",
      "training NeuralNetwork... running epoch 10\n",
      "training NeuralNetwork... running epoch 11\n",
      "training NeuralNetwork... running epoch 12\n",
      "training NeuralNetwork... running epoch 13\n",
      "training NeuralNetwork... running epoch 14\n",
      "training NeuralNetwork... running epoch 15\n",
      "training NeuralNetwork... running epoch 16\n",
      "training NeuralNetwork... running epoch 17\n",
      "training NeuralNetwork... running epoch 18\n",
      "training NeuralNetwork... running epoch 19\n",
      "training NeuralNetwork... running epoch 20\n",
      "training NeuralNetwork... running epoch 21\n",
      "training NeuralNetwork... running epoch 22\n",
      "training NeuralNetwork... running epoch 23\n",
      "training NeuralNetwork... running epoch 24\n",
      "training NeuralNetwork... running epoch 25\n",
      "training NeuralNetwork... running epoch 26\n",
      "training NeuralNetwork... running epoch 27\n",
      "training NeuralNetwork... running epoch 28\n",
      "training NeuralNetwork... running epoch 29\n",
      "training NeuralNetwork... running epoch 30\n",
      "training NeuralNetwork... running epoch 31\n",
      "training NeuralNetwork... running epoch 32\n",
      "training NeuralNetwork... running epoch 33\n",
      "training NeuralNetwork... running epoch 34\n",
      "training NeuralNetwork... running epoch 35\n",
      "training NeuralNetwork... running epoch 36\n",
      "training NeuralNetwork... running epoch 37\n",
      "training NeuralNetwork... running epoch 38\n",
      "training NeuralNetwork... running epoch 39\n",
      "training NeuralNetwork... running epoch 40\n",
      "training NeuralNetwork... running epoch 41\n",
      "training NeuralNetwork... running epoch 42\n",
      "training NeuralNetwork... running epoch 43\n",
      "training NeuralNetwork... running epoch 44\n",
      "training NeuralNetwork... running epoch 45\n",
      "training NeuralNetwork... running epoch 46\n",
      "training NeuralNetwork... running epoch 47\n",
      "training NeuralNetwork... running epoch 48\n",
      "training NeuralNetwork... running epoch 49\n"
     ]
    }
   ],
   "source": [
    "for epoch in range(50):\n",
    "    testing.feedForward()\n",
    "    testing.backPropagation()\n",
    "    print('training NeuralNetwork... running epoch {}'.format(epoch))\n",
    "    time.sleep(1)"
   ]
  },
  {
   "cell_type": "code",
   "execution_count": 27,
   "metadata": {
    "ExecuteTime": {
     "end_time": "2018-11-04T11:08:48.879473Z",
     "start_time": "2018-11-04T11:08:48.872465Z"
    }
   },
   "outputs": [
    {
     "data": {
      "text/plain": [
       "array([[-9.63348935e+165]])"
      ]
     },
     "execution_count": 27,
     "metadata": {},
     "output_type": "execute_result"
    }
   ],
   "source": [
    "testing.weights"
   ]
  },
  {
   "cell_type": "code",
   "execution_count": null,
   "metadata": {},
   "outputs": [],
   "source": []
  },
  {
   "cell_type": "code",
   "execution_count": 10,
   "metadata": {
    "ExecuteTime": {
     "end_time": "2018-11-04T11:07:52.199955Z",
     "start_time": "2018-11-04T11:07:52.194932Z"
    }
   },
   "outputs": [],
   "source": [
    "#testing.make_prediction(sample, final_weights)"
   ]
  },
  {
   "cell_type": "code",
   "execution_count": 11,
   "metadata": {
    "ExecuteTime": {
     "end_time": "2018-11-04T11:07:52.209925Z",
     "start_time": "2018-11-04T11:07:52.203924Z"
    }
   },
   "outputs": [],
   "source": [
    "import numpy as np  \n",
    "feature_set = np.array([[0,1,0],[0,0,1],[1,0,0],[1,1,0],[1,1,1]])  \n",
    "labels = np.array([[1,0,0,1,1]])  \n",
    "labels = labels.reshape(5,1)  "
   ]
  },
  {
   "cell_type": "code",
   "execution_count": 12,
   "metadata": {
    "ExecuteTime": {
     "end_time": "2018-11-04T11:07:52.224004Z",
     "start_time": "2018-11-04T11:07:52.213926Z"
    }
   },
   "outputs": [
    {
     "data": {
      "text/plain": [
       "array([[0, 1, 0],\n",
       "       [0, 0, 1],\n",
       "       [1, 0, 0],\n",
       "       [1, 1, 0],\n",
       "       [1, 1, 1]])"
      ]
     },
     "execution_count": 12,
     "metadata": {},
     "output_type": "execute_result"
    }
   ],
   "source": [
    "feature_set"
   ]
  },
  {
   "cell_type": "code",
   "execution_count": 13,
   "metadata": {
    "ExecuteTime": {
     "end_time": "2018-11-04T11:07:52.236966Z",
     "start_time": "2018-11-04T11:07:52.228925Z"
    }
   },
   "outputs": [
    {
     "data": {
      "text/plain": [
       "array([[1],\n",
       "       [0],\n",
       "       [0],\n",
       "       [1],\n",
       "       [1]])"
      ]
     },
     "execution_count": 13,
     "metadata": {},
     "output_type": "execute_result"
    }
   ],
   "source": [
    "labels"
   ]
  },
  {
   "cell_type": "code",
   "execution_count": 14,
   "metadata": {
    "ExecuteTime": {
     "end_time": "2018-11-04T11:07:52.247140Z",
     "start_time": "2018-11-04T11:07:52.240924Z"
    }
   },
   "outputs": [],
   "source": [
    "np.random.seed(42)  \n",
    "weights = np.random.rand(3,1)  # This is the shape of the inputs\n",
    "bias = np.random.rand(1)  # 1 because there is 1 layer only\n",
    "lr = 0.05"
   ]
  },
  {
   "cell_type": "code",
   "execution_count": 15,
   "metadata": {
    "ExecuteTime": {
     "end_time": "2018-11-04T11:07:52.259931Z",
     "start_time": "2018-11-04T11:07:52.252965Z"
    }
   },
   "outputs": [],
   "source": [
    "def sigmoid(x):  \n",
    "    return 1/(1+np.exp(-x))\n",
    "def sigmoid_der(x):  \n",
    "    return sigmoid(x)*(1-sigmoid(x))"
   ]
  },
  {
   "cell_type": "code",
   "execution_count": 16,
   "metadata": {
    "ExecuteTime": {
     "end_time": "2018-11-04T11:07:52.269923Z",
     "start_time": "2018-11-04T11:07:52.263950Z"
    }
   },
   "outputs": [],
   "source": [
    "inputs = feature_set"
   ]
  },
  {
   "cell_type": "code",
   "execution_count": 17,
   "metadata": {
    "ExecuteTime": {
     "end_time": "2018-11-04T11:07:52.284997Z",
     "start_time": "2018-11-04T11:07:52.273927Z"
    }
   },
   "outputs": [
    {
     "data": {
      "text/plain": [
       "array([0.59865848])"
      ]
     },
     "execution_count": 17,
     "metadata": {},
     "output_type": "execute_result"
    }
   ],
   "source": [
    "bias"
   ]
  },
  {
   "cell_type": "code",
   "execution_count": 18,
   "metadata": {
    "ExecuteTime": {
     "end_time": "2018-11-04T11:07:52.323017Z",
     "start_time": "2018-11-04T11:07:52.310931Z"
    }
   },
   "outputs": [
    {
     "data": {
      "text/plain": [
       "array([[1.54937279],\n",
       "       [1.33065243],\n",
       "       [0.9731986 ],\n",
       "       [1.92391291],\n",
       "       [2.65590685]])"
      ]
     },
     "execution_count": 18,
     "metadata": {},
     "output_type": "execute_result"
    }
   ],
   "source": [
    "np.dot(feature_set, weights) + bias # sum of W * I + b\n",
    "# you get the activation value for each of the datapoints \n",
    "# Running the whole dataset at once"
   ]
  },
  {
   "cell_type": "code",
   "execution_count": 19,
   "metadata": {
    "ExecuteTime": {
     "end_time": "2018-11-04T11:07:52.359922Z",
     "start_time": "2018-11-04T11:07:52.349927Z"
    }
   },
   "outputs": [
    {
     "data": {
      "text/plain": [
       "array([[0.82482312],\n",
       "       [0.79094853],\n",
       "       [0.72575659],\n",
       "       [0.87257414],\n",
       "       [0.93437412]])"
      ]
     },
     "execution_count": 19,
     "metadata": {},
     "output_type": "execute_result"
    }
   ],
   "source": [
    "XW = np.dot(feature_set, weights) + bias\n",
    "sigmoid(XW)\n",
    "\n",
    "# Sigmoid applied to sums all at once"
   ]
  },
  {
   "cell_type": "code",
   "execution_count": 20,
   "metadata": {
    "ExecuteTime": {
     "end_time": "2018-11-04T11:07:52.374923Z",
     "start_time": "2018-11-04T11:07:52.364921Z"
    }
   },
   "outputs": [
    {
     "data": {
      "text/plain": [
       "array([[-0.17517688],\n",
       "       [ 0.79094853],\n",
       "       [ 0.72575659],\n",
       "       [-0.12742586],\n",
       "       [-0.06562588]])"
      ]
     },
     "execution_count": 20,
     "metadata": {},
     "output_type": "execute_result"
    }
   ],
   "source": [
    "z  = sigmoid(XW)\n",
    "z - labels\n",
    "\n",
    "# Error for all datapoints at once\n",
    "# Loop is for?"
   ]
  },
  {
   "cell_type": "code",
   "execution_count": 21,
   "metadata": {
    "ExecuteTime": {
     "end_time": "2018-11-04T11:07:52.393928Z",
     "start_time": "2018-11-04T11:07:52.380926Z"
    }
   },
   "outputs": [
    {
     "data": {
      "text/plain": [
       "1.1484765089981492"
      ]
     },
     "execution_count": 21,
     "metadata": {},
     "output_type": "execute_result"
    }
   ],
   "source": [
    "error = z- labels\n",
    "error.sum()\n",
    "\n",
    "# This error is the total error for the whole dataset?"
   ]
  },
  {
   "cell_type": "code",
   "execution_count": 22,
   "metadata": {
    "ExecuteTime": {
     "end_time": "2018-11-04T11:07:52.409925Z",
     "start_time": "2018-11-04T11:07:52.398924Z"
    }
   },
   "outputs": [
    {
     "data": {
      "text/plain": [
       "array([[0.21187385],\n",
       "       [0.21464285],\n",
       "       [0.21976804],\n",
       "       [0.20785969],\n",
       "       [0.20249263]])"
      ]
     },
     "execution_count": 22,
     "metadata": {},
     "output_type": "execute_result"
    }
   ],
   "source": [
    "dcost_dpred = error\n",
    "sigmoid_der(z)\n",
    "# RECALL error is squared for each datapoint \n",
    "# so MSE is the error for whole dataset?"
   ]
  },
  {
   "cell_type": "code",
   "execution_count": 23,
   "metadata": {
    "ExecuteTime": {
     "end_time": "2018-11-04T11:07:52.427929Z",
     "start_time": "2018-11-04T11:07:52.417929Z"
    }
   },
   "outputs": [
    {
     "data": {
      "text/plain": [
       "array([[-0.0371154 ],\n",
       "       [ 0.16977145],\n",
       "       [ 0.1594981 ],\n",
       "       [-0.0264867 ],\n",
       "       [-0.01328876]])"
      ]
     },
     "execution_count": 23,
     "metadata": {},
     "output_type": "execute_result"
    }
   ],
   "source": [
    "dpred_dz = sigmoid_der(z)\n",
    "dcost_dpred * dpred_dz"
   ]
  },
  {
   "cell_type": "code",
   "execution_count": 24,
   "metadata": {
    "ExecuteTime": {
     "end_time": "2018-11-04T11:07:52.444925Z",
     "start_time": "2018-11-04T11:07:52.431982Z"
    }
   },
   "outputs": [
    {
     "data": {
      "text/plain": [
       "array([[0, 0, 1, 1, 1],\n",
       "       [1, 0, 0, 1, 1],\n",
       "       [0, 1, 0, 0, 1]])"
      ]
     },
     "execution_count": 24,
     "metadata": {},
     "output_type": "execute_result"
    }
   ],
   "source": [
    "z_delta = dcost_dpred * dpred_dz\n",
    "# slope = input * dcost_dpred * dpred_dz\n",
    "# z delta is 2 parts of the slope only\n",
    "feature_set.T"
   ]
  },
  {
   "cell_type": "code",
   "execution_count": 25,
   "metadata": {
    "ExecuteTime": {
     "end_time": "2018-11-04T11:07:52.458925Z",
     "start_time": "2018-11-04T11:07:52.449924Z"
    }
   },
   "outputs": [
    {
     "data": {
      "text/plain": [
       "array([[ 0.00598613],\n",
       "       [-0.00384454],\n",
       "       [ 0.00782413]])"
      ]
     },
     "execution_count": 25,
     "metadata": {},
     "output_type": "execute_result"
    }
   ],
   "source": [
    "inputs = feature_set.T\n",
    "lr * np.dot(inputs, z_delta)\n",
    "#weights -= lr * np.dot(inputs, z_delta) "
   ]
  },
  {
   "cell_type": "code",
   "execution_count": 26,
   "metadata": {
    "ExecuteTime": {
     "end_time": "2018-11-04T11:07:52.471924Z",
     "start_time": "2018-11-04T11:07:52.466925Z"
    }
   },
   "outputs": [],
   "source": [
    "for num in z_delta:\n",
    "    bias -= lr * num"
   ]
  },
  {
   "cell_type": "code",
   "execution_count": null,
   "metadata": {
    "ExecuteTime": {
     "end_time": "2018-11-03T12:42:49.110112Z",
     "start_time": "2018-11-03T12:42:49.103420Z"
    }
   },
   "outputs": [],
   "source": []
  },
  {
   "cell_type": "code",
   "execution_count": null,
   "metadata": {},
   "outputs": [],
   "source": []
  }
 ],
 "metadata": {
  "kernelspec": {
   "display_name": "Python 3",
   "language": "python",
   "name": "python3"
  },
  "language_info": {
   "codemirror_mode": {
    "name": "ipython",
    "version": 3
   },
   "file_extension": ".py",
   "mimetype": "text/x-python",
   "name": "python",
   "nbconvert_exporter": "python",
   "pygments_lexer": "ipython3",
   "version": "3.6.5"
  },
  "varInspector": {
   "cols": {
    "lenName": 16,
    "lenType": 16,
    "lenVar": 40
   },
   "kernels_config": {
    "python": {
     "delete_cmd_postfix": "",
     "delete_cmd_prefix": "del ",
     "library": "var_list.py",
     "varRefreshCmd": "print(var_dic_list())"
    },
    "r": {
     "delete_cmd_postfix": ") ",
     "delete_cmd_prefix": "rm(",
     "library": "var_list.r",
     "varRefreshCmd": "cat(var_dic_list()) "
    }
   },
   "types_to_exclude": [
    "module",
    "function",
    "builtin_function_or_method",
    "instance",
    "_Feature"
   ],
   "window_display": false
  }
 },
 "nbformat": 4,
 "nbformat_minor": 2
}
