{
 "cells": [
  {
   "cell_type": "code",
   "execution_count": 74,
   "metadata": {
    "ExecuteTime": {
     "end_time": "2018-12-06T12:27:39.065734Z",
     "start_time": "2018-12-06T12:27:39.062587Z"
    }
   },
   "outputs": [],
   "source": [
    "import pandas as pd\n",
    "import matplotlib.pyplot as plt\n",
    "from sklearn.model_selection import train_test_split\n",
    "from sklearn.preprocessing import LabelEncoder\n",
    "from sklearn.tree import DecisionTreeRegressor"
   ]
  },
  {
   "cell_type": "code",
   "execution_count": 2,
   "metadata": {
    "ExecuteTime": {
     "end_time": "2018-12-06T11:35:15.218469Z",
     "start_time": "2018-12-06T11:35:15.214854Z"
    }
   },
   "outputs": [],
   "source": [
    "url = 'http://www.statsci.org/data/general/motorins.txt'"
   ]
  },
  {
   "cell_type": "code",
   "execution_count": 10,
   "metadata": {
    "ExecuteTime": {
     "end_time": "2018-12-06T11:42:47.807879Z",
     "start_time": "2018-12-06T11:42:47.153522Z"
    }
   },
   "outputs": [],
   "source": [
    "df = pd.read_csv(url, sep = '\\t') \\\n",
    "       .assign(frequency = lambda x: x.Claims / x.Insured,\n",
    "               severity = lambda x: np.where(x.Claims == 0, 0, x.Payment / x.Claims),\n",
    "               risk_premium = lambda x: x.Payment / x.Insured)"
   ]
  },
  {
   "cell_type": "code",
   "execution_count": 19,
   "metadata": {
    "ExecuteTime": {
     "end_time": "2018-12-06T11:49:33.260837Z",
     "start_time": "2018-12-06T11:49:33.257137Z"
    }
   },
   "outputs": [],
   "source": [
    "response_freq = df.frequency\n",
    "response_severity = df.severity\n",
    "response_rp = df.risk_premium\n",
    "features = df.iloc[:, :4]"
   ]
  },
  {
   "cell_type": "code",
   "execution_count": 24,
   "metadata": {
    "ExecuteTime": {
     "end_time": "2018-12-06T11:54:01.426884Z",
     "start_time": "2018-12-06T11:54:01.421483Z"
    }
   },
   "outputs": [
    {
     "data": {
      "text/plain": [
       "LabelEncoder()"
      ]
     },
     "execution_count": 24,
     "metadata": {},
     "output_type": "execute_result"
    }
   ],
   "source": [
    "zone_encoder = LabelEncoder()\n",
    "zone_encoder.fit(features.Zone)\n",
    "make_encoder = LabelEncoder()\n",
    "make_encoder.fit(features.Make)"
   ]
  },
  {
   "cell_type": "code",
   "execution_count": 25,
   "metadata": {
    "ExecuteTime": {
     "end_time": "2018-12-06T11:58:13.599027Z",
     "start_time": "2018-12-06T11:58:13.593755Z"
    }
   },
   "outputs": [],
   "source": [
    "features['Zone'] = zone_encoder.transform(features.Zone)\n",
    "features['Make'] = make_encoder.transform(features.Make)"
   ]
  },
  {
   "cell_type": "code",
   "execution_count": 27,
   "metadata": {
    "ExecuteTime": {
     "end_time": "2018-12-06T12:00:58.380880Z",
     "start_time": "2018-12-06T12:00:58.375770Z"
    }
   },
   "outputs": [],
   "source": [
    "X_train, X_test, y_train, y_test = train_test_split(features,\n",
    "                                                    response_severity,\n",
    "                                                    train_size = 0.8,\n",
    "                                                    test_size = 0.2,\n",
    "                                                    random_state = 123)"
   ]
  },
  {
   "cell_type": "code",
   "execution_count": 30,
   "metadata": {
    "ExecuteTime": {
     "end_time": "2018-12-06T12:05:38.689446Z",
     "start_time": "2018-12-06T12:05:38.686523Z"
    }
   },
   "outputs": [],
   "source": [
    "model = DecisionTreeRegressor(criterion = 'mse',\n",
    "                              splitter = 'best')"
   ]
  },
  {
   "cell_type": "code",
   "execution_count": 31,
   "metadata": {
    "ExecuteTime": {
     "end_time": "2018-12-06T12:06:43.081256Z",
     "start_time": "2018-12-06T12:06:43.071537Z"
    }
   },
   "outputs": [
    {
     "data": {
      "text/plain": [
       "DecisionTreeRegressor(criterion='mse', max_depth=None, max_features=None,\n",
       "           max_leaf_nodes=None, min_impurity_decrease=0.0,\n",
       "           min_impurity_split=None, min_samples_leaf=1,\n",
       "           min_samples_split=2, min_weight_fraction_leaf=0.0,\n",
       "           presort=False, random_state=None, splitter='best')"
      ]
     },
     "execution_count": 31,
     "metadata": {},
     "output_type": "execute_result"
    }
   ],
   "source": [
    "model.fit(X_train, y_train)"
   ]
  },
  {
   "cell_type": "code",
   "execution_count": 32,
   "metadata": {
    "ExecuteTime": {
     "end_time": "2018-12-06T12:07:51.032883Z",
     "start_time": "2018-12-06T12:07:51.029123Z"
    }
   },
   "outputs": [],
   "source": [
    "predictions = model.predict(X_test)"
   ]
  },
  {
   "cell_type": "code",
   "execution_count": 68,
   "metadata": {
    "ExecuteTime": {
     "end_time": "2018-12-06T12:24:32.785630Z",
     "start_time": "2018-12-06T12:24:32.778208Z"
    },
    "scrolled": true
   },
   "outputs": [],
   "source": [
    "results = pd.DataFrame(\n",
    "                        np.concatenate([np.array(y_test).reshape(437, 1), \n",
    "                        np.array(predictions).reshape(437, 1)], axis = 1) \n",
    "                        ) \n",
    "results.columns = ['actual', 'predicted']\n",
    "results = results.assign(severity_bands = pd.cut(results.actual, \n",
    "                                                 bins = 10,\n",
    "                                                 labels = np.linspace(1, 10, 10)))"
   ]
  },
  {
   "cell_type": "code",
   "execution_count": 77,
   "metadata": {
    "ExecuteTime": {
     "end_time": "2018-12-06T20:38:58.775089Z",
     "start_time": "2018-12-06T20:38:58.755232Z"
    }
   },
   "outputs": [],
   "source": [
    "validation = results.groupby('severity_bands') \\\n",
    "                    .agg('sum') "
   ]
  },
  {
   "cell_type": "code",
   "execution_count": 78,
   "metadata": {
    "ExecuteTime": {
     "end_time": "2018-12-06T20:39:00.149193Z",
     "start_time": "2018-12-06T20:38:59.389839Z"
    }
   },
   "outputs": [
    {
     "data": {
      "text/plain": [
       "<matplotlib.axes._subplots.AxesSubplot at 0x1a244bf780>"
      ]
     },
     "execution_count": 78,
     "metadata": {},
     "output_type": "execute_result"
    },
    {
     "data": {
      "image/png": "[encoded data removed]",
      "text/plain": [
       "<Figure size 432x288 with 1 Axes>"
      ]
     },
     "metadata": {},
     "output_type": "display_data"
    }
   ],
   "source": [
    "validation.plot.bar()"
   ]
  },
  {
   "cell_type": "code",
   "execution_count": null,
   "metadata": {},
   "outputs": [],
   "source": []
  }
 ],
 "metadata": {
  "kernelspec": {
   "display_name": "Python 3",
   "language": "python",
   "name": "python3"
  },
  "language_info": {
   "codemirror_mode": {
    "name": "ipython",
    "version": 3
   },
   "file_extension": ".py",
   "mimetype": "text/x-python",
   "name": "python",
   "nbconvert_exporter": "python",
   "pygments_lexer": "ipython3",
   "version": "3.6.5"
  },
  "varInspector": {
   "cols": {
    "lenName": 16,
    "lenType": 16,
    "lenVar": 40
   },
   "kernels_config": {
    "python": {
     "delete_cmd_postfix": "",
     "delete_cmd_prefix": "del ",
     "library": "var_list.py",
     "varRefreshCmd": "print(var_dic_list())"
    },
    "r": {
     "delete_cmd_postfix": ") ",
     "delete_cmd_prefix": "rm(",
     "library": "var_list.r",
     "varRefreshCmd": "cat(var_dic_list()) "
    }
   },
   "types_to_exclude": [
    "module",
    "function",
    "builtin_function_or_method",
    "instance",
    "_Feature"
   ],
   "window_display": false
  }
 },
 "nbformat": 4,
 "nbformat_minor": 2
}
