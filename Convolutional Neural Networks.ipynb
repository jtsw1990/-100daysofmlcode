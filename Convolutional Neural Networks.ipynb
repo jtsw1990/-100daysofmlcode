{
 "cells": [
  {
   "cell_type": "code",
   "execution_count": 1,
   "metadata": {
    "ExecuteTime": {
     "end_time": "2018-11-26T13:55:50.052805Z",
     "start_time": "2018-11-26T13:55:47.965037Z"
    }
   },
   "outputs": [
    {
     "name": "stderr",
     "output_type": "stream",
     "text": [
      "/anaconda3/lib/python3.6/site-packages/h5py/__init__.py:36: FutureWarning: Conversion of the second argument of issubdtype from `float` to `np.floating` is deprecated. In future, it will be treated as `np.float64 == np.dtype(float).type`.\n",
      "  from ._conv import register_converters as _register_converters\n",
      "Using TensorFlow backend.\n"
     ]
    }
   ],
   "source": [
    "import numpy as np\n",
    "from keras.datasets import fashion_mnist\n",
    "import matplotlib.pyplot as plt\n",
    "from keras.utils import to_categorical\n",
    "from keras.utils.vis_utils import model_to_dot\n",
    "from IPython.display import SVG\n",
    "from sklearn.model_selection import train_test_split\n",
    "import keras\n",
    "from keras.models import Sequential, Input, Model\n",
    "from keras.layers import Dense, Dropout, Flatten, Conv2D, MaxPooling2D\n",
    "from keras.layers.normalization import BatchNormalization\n",
    "from keras.layers.advanced_activations import LeakyReLU\n",
    "%matplotlib inline"
   ]
  },
  {
   "cell_type": "code",
   "execution_count": 2,
   "metadata": {
    "ExecuteTime": {
     "end_time": "2018-11-26T13:55:50.497302Z",
     "start_time": "2018-11-26T13:55:50.054952Z"
    }
   },
   "outputs": [],
   "source": [
    "(train_X,train_Y), (test_X,test_Y) = fashion_mnist.load_data()"
   ]
  },
  {
   "cell_type": "code",
   "execution_count": 3,
   "metadata": {
    "ExecuteTime": {
     "end_time": "2018-11-26T13:55:50.502401Z",
     "start_time": "2018-11-26T13:55:50.499083Z"
    }
   },
   "outputs": [],
   "source": [
    "classes = np.unique(train_Y)\n",
    "nClasses = len(classes)"
   ]
  },
  {
   "cell_type": "code",
   "execution_count": 4,
   "metadata": {
    "ExecuteTime": {
     "end_time": "2018-11-26T13:55:50.691159Z",
     "start_time": "2018-11-26T13:55:50.504076Z"
    }
   },
   "outputs": [
    {
     "data": {
      "text/plain": [
       "Text(0.5,1,'Label: 9')"
      ]
     },
     "execution_count": 4,
     "metadata": {},
     "output_type": "execute_result"
    },
    {
     "data": {
      "image/png": "[encoded data removed]",
      "text/plain": [
       "<Figure size 360x360 with 2 Axes>"
      ]
     },
     "metadata": {},
     "output_type": "display_data"
    }
   ],
   "source": [
    "plt.figure(figsize = (5, 5))\n",
    "\n",
    "plt.subplot(121)\n",
    "plt.imshow(train_X[0], cmap = 'gray')\n",
    "plt.title('Label: {}'.format(train_Y[0]))\n",
    "\n",
    "plt.subplot(122)\n",
    "plt.imshow(test_X[0], cmap = 'gray')\n",
    "plt.title('Label: {}'.format(test_Y[0]))"
   ]
  },
  {
   "cell_type": "code",
   "execution_count": 5,
   "metadata": {
    "ExecuteTime": {
     "end_time": "2018-11-26T13:55:50.996249Z",
     "start_time": "2018-11-26T13:55:50.693665Z"
    }
   },
   "outputs": [],
   "source": [
    "# Recall that a -1 reshape is just a wildcard that we want numpy to predict\n",
    "train_X = train_X.reshape(-1, 28, 28, 1).astype('float32')\n",
    "test_X = test_X.reshape(-1, 28, 28, 1).astype('float32')\n",
    "train_X = train_X / 255\n",
    "test_X = test_X / 255"
   ]
  },
  {
   "cell_type": "code",
   "execution_count": 6,
   "metadata": {
    "ExecuteTime": {
     "end_time": "2018-11-26T13:55:51.002535Z",
     "start_time": "2018-11-26T13:55:50.998223Z"
    }
   },
   "outputs": [],
   "source": [
    "train_Y_one_hot = to_categorical(train_Y)\n",
    "test_Y_one_hot = to_categorical(test_Y)"
   ]
  },
  {
   "cell_type": "code",
   "execution_count": 7,
   "metadata": {
    "ExecuteTime": {
     "end_time": "2018-11-26T13:55:51.142748Z",
     "start_time": "2018-11-26T13:55:51.004631Z"
    }
   },
   "outputs": [],
   "source": [
    "train_X, test_X, train_Y, test_Y = train_test_split(train_X, \n",
    "                                                    train_Y_one_hot,\n",
    "                                                    test_size = 0.2,\n",
    "                                                    random_state = 123)"
   ]
  },
  {
   "cell_type": "markdown",
   "metadata": {
    "ExecuteTime": {
     "end_time": "2018-11-26T13:02:36.305934Z",
     "start_time": "2018-11-26T13:02:36.301846Z"
    }
   },
   "source": [
    "This example uses:\n",
    "* 32 3x3 kernels\n",
    "* 64 3x3 kernels\n",
    "* 128 3x3 kernels\n",
    "* 3 2x2 max pooling layers"
   ]
  },
  {
   "cell_type": "code",
   "execution_count": 8,
   "metadata": {
    "ExecuteTime": {
     "end_time": "2018-11-26T13:55:51.147414Z",
     "start_time": "2018-11-26T13:55:51.144952Z"
    }
   },
   "outputs": [],
   "source": [
    "batch_size = 64\n",
    "epochs = 20\n",
    "num_classes = 10"
   ]
  },
  {
   "cell_type": "code",
   "execution_count": 9,
   "metadata": {
    "ExecuteTime": {
     "end_time": "2018-11-26T13:55:51.302442Z",
     "start_time": "2018-11-26T13:55:51.149586Z"
    }
   },
   "outputs": [],
   "source": [
    "# Check what is same padding\n",
    "# Note the repeating convolution, activation, pooling actions\n",
    "fashion_model = Sequential()\n",
    "\n",
    "fashion_model.add(Conv2D(32, \n",
    "                        kernel_size = (3,3), \n",
    "                        activation = 'linear',\n",
    "                        input_shape = (28, 28, 1), \n",
    "                        padding = 'same'))\n",
    "fashion_model.add(LeakyReLU(alpha = 0.1))\n",
    "fashion_model.add(MaxPooling2D((2, 2,), padding = 'same'))\n",
    "fashion_model.add(Dropout(0.25))\n",
    "\n",
    "fashion_model.add(Conv2D(64, \n",
    "                        kernel_size = (3,3), \n",
    "                        activation = 'linear',\n",
    "                        input_shape = (28, 28, 1), \n",
    "                        padding = 'same'))\n",
    "fashion_model.add(LeakyReLU(alpha = 0.1))\n",
    "fashion_model.add(MaxPooling2D((2, 2,), padding = 'same'))\n",
    "fashion_model.add(Dropout(0.4))\n",
    "\n",
    "fashion_model.add(Conv2D(128, \n",
    "                        kernel_size = (3,3), \n",
    "                        activation = 'linear',\n",
    "                        input_shape = (28, 28, 1), \n",
    "                        padding = 'same'))\n",
    "fashion_model.add(LeakyReLU(alpha = 0.1))\n",
    "fashion_model.add(MaxPooling2D((2, 2,), padding = 'same'))\n",
    "fashion_model.add(Dropout(0.4))\n",
    "\n",
    "fashion_model.add(Flatten())\n",
    "fashion_model.add(Dense(128, activation = 'linear'))\n",
    "fashion_model.add(LeakyReLU(alpha = 0.1))\n",
    "fashion_model.add(Dropout(0.3))\n",
    "fashion_model.add(Dense(num_classes, activation = 'softmax'))"
   ]
  },
  {
   "cell_type": "code",
   "execution_count": 10,
   "metadata": {
    "ExecuteTime": {
     "end_time": "2018-11-26T13:55:52.272242Z",
     "start_time": "2018-11-26T13:55:51.304258Z"
    },
    "scrolled": true
   },
   "outputs": [
    {
     "data": {
      "image/svg+xml": [
       "<svg height=\"1286pt\" viewBox=\"0.00 0.00 171.00 1286.00\" width=\"171pt\" xmlns=\"http://www.w3.org/2000/svg\" xmlns:xlink=\"http://www.w3.org/1999/xlink\">\n",
       "<g class=\"graph\" id=\"graph0\" transform=\"scale(1 1) rotate(0) translate(4 1282)\">\n",
       "<title>G</title>\n",
       "<polygon fill=\"#ffffff\" points=\"-4,4 -4,-1282 167,-1282 167,4 -4,4\" stroke=\"transparent\"/>\n",
       "<!-- 112444960160 -->\n",
       "<g class=\"node\" id=\"node1\">\n",
       "<title>112444960160</title>\n",
       "<polygon fill=\"none\" points=\"32,-1168.5 32,-1204.5 131,-1204.5 131,-1168.5 32,-1168.5\" stroke=\"#000000\"/>\n",
       "<text fill=\"#000000\" font-family=\"Times,serif\" font-size=\"14.00\" text-anchor=\"middle\" x=\"81.5\" y=\"-1182.8\">conv2d_1: Conv2D</text>\n",
       "</g>\n",
       "<!-- 112444960608 -->\n",
       "<g class=\"node\" id=\"node2\">\n",
       "<title>112444960608</title>\n",
       "<polygon fill=\"none\" points=\"14.5,-1095.5 14.5,-1131.5 148.5,-1131.5 148.5,-1095.5 14.5,-1095.5\" stroke=\"#000000\"/>\n",
       "<text fill=\"#000000\" font-family=\"Times,serif\" font-size=\"14.00\" text-anchor=\"middle\" x=\"81.5\" y=\"-1109.8\">leaky_re_lu_1: LeakyReLU</text>\n",
       "</g>\n",
       "<!-- 112444960160&#45;&gt;112444960608 -->\n",
       "<g class=\"edge\" id=\"edge2\">\n",
       "<title>112444960160-&gt;112444960608</title>\n",
       "<path d=\"M81.5,-1168.4551C81.5,-1160.3828 81.5,-1150.6764 81.5,-1141.6817\" fill=\"none\" stroke=\"#000000\"/>\n",
       "<polygon fill=\"#000000\" points=\"85.0001,-1141.5903 81.5,-1131.5904 78.0001,-1141.5904 85.0001,-1141.5903\" stroke=\"#000000\"/>\n",
       "</g>\n",
       "<!-- 112445018744 -->\n",
       "<g class=\"node\" id=\"node3\">\n",
       "<title>112445018744</title>\n",
       "<polygon fill=\"none\" points=\"0,-1022.5 0,-1058.5 163,-1058.5 163,-1022.5 0,-1022.5\" stroke=\"#000000\"/>\n",
       "<text fill=\"#000000\" font-family=\"Times,serif\" font-size=\"14.00\" text-anchor=\"middle\" x=\"81.5\" y=\"-1036.8\">max_pooling2d_1: MaxPooling2D</text>\n",
       "</g>\n",
       "<!-- 112444960608&#45;&gt;112445018744 -->\n",
       "<g class=\"edge\" id=\"edge3\">\n",
       "<title>112444960608-&gt;112445018744</title>\n",
       "<path d=\"M81.5,-1095.4551C81.5,-1087.3828 81.5,-1077.6764 81.5,-1068.6817\" fill=\"none\" stroke=\"#000000\"/>\n",
       "<polygon fill=\"#000000\" points=\"85.0001,-1068.5903 81.5,-1058.5904 78.0001,-1068.5904 85.0001,-1068.5903\" stroke=\"#000000\"/>\n",
       "</g>\n",
       "<!-- 112445018968 -->\n",
       "<g class=\"node\" id=\"node4\">\n",
       "<title>112445018968</title>\n",
       "<polygon fill=\"none\" points=\"31.5,-949.5 31.5,-985.5 131.5,-985.5 131.5,-949.5 31.5,-949.5\" stroke=\"#000000\"/>\n",
       "<text fill=\"#000000\" font-family=\"Times,serif\" font-size=\"14.00\" text-anchor=\"middle\" x=\"81.5\" y=\"-963.8\">dropout_1: Dropout</text>\n",
       "</g>\n",
       "<!-- 112445018744&#45;&gt;112445018968 -->\n",
       "<g class=\"edge\" id=\"edge4\">\n",
       "<title>112445018744-&gt;112445018968</title>\n",
       "<path d=\"M81.5,-1022.4551C81.5,-1014.3828 81.5,-1004.6764 81.5,-995.6817\" fill=\"none\" stroke=\"#000000\"/>\n",
       "<polygon fill=\"#000000\" points=\"85.0001,-995.5903 81.5,-985.5904 78.0001,-995.5904 85.0001,-995.5903\" stroke=\"#000000\"/>\n",
       "</g>\n",
       "<!-- 112445019024 -->\n",
       "<g class=\"node\" id=\"node5\">\n",
       "<title>112445019024</title>\n",
       "<polygon fill=\"none\" points=\"32,-876.5 32,-912.5 131,-912.5 131,-876.5 32,-876.5\" stroke=\"#000000\"/>\n",
       "<text fill=\"#000000\" font-family=\"Times,serif\" font-size=\"14.00\" text-anchor=\"middle\" x=\"81.5\" y=\"-890.8\">conv2d_2: Conv2D</text>\n",
       "</g>\n",
       "<!-- 112445018968&#45;&gt;112445019024 -->\n",
       "<g class=\"edge\" id=\"edge5\">\n",
       "<title>112445018968-&gt;112445019024</title>\n",
       "<path d=\"M81.5,-949.4551C81.5,-941.3828 81.5,-931.6764 81.5,-922.6817\" fill=\"none\" stroke=\"#000000\"/>\n",
       "<polygon fill=\"#000000\" points=\"85.0001,-922.5903 81.5,-912.5904 78.0001,-922.5904 85.0001,-922.5903\" stroke=\"#000000\"/>\n",
       "</g>\n",
       "<!-- 112445018912 -->\n",
       "<g class=\"node\" id=\"node6\">\n",
       "<title>112445018912</title>\n",
       "<polygon fill=\"none\" points=\"14.5,-803.5 14.5,-839.5 148.5,-839.5 148.5,-803.5 14.5,-803.5\" stroke=\"#000000\"/>\n",
       "<text fill=\"#000000\" font-family=\"Times,serif\" font-size=\"14.00\" text-anchor=\"middle\" x=\"81.5\" y=\"-817.8\">leaky_re_lu_2: LeakyReLU</text>\n",
       "</g>\n",
       "<!-- 112445019024&#45;&gt;112445018912 -->\n",
       "<g class=\"edge\" id=\"edge6\">\n",
       "<title>112445019024-&gt;112445018912</title>\n",
       "<path d=\"M81.5,-876.4551C81.5,-868.3828 81.5,-858.6764 81.5,-849.6817\" fill=\"none\" stroke=\"#000000\"/>\n",
       "<polygon fill=\"#000000\" points=\"85.0001,-849.5903 81.5,-839.5904 78.0001,-849.5904 85.0001,-849.5903\" stroke=\"#000000\"/>\n",
       "</g>\n",
       "<!-- 112629931536 -->\n",
       "<g class=\"node\" id=\"node7\">\n",
       "<title>112629931536</title>\n",
       "<polygon fill=\"none\" points=\"0,-730.5 0,-766.5 163,-766.5 163,-730.5 0,-730.5\" stroke=\"#000000\"/>\n",
       "<text fill=\"#000000\" font-family=\"Times,serif\" font-size=\"14.00\" text-anchor=\"middle\" x=\"81.5\" y=\"-744.8\">max_pooling2d_2: MaxPooling2D</text>\n",
       "</g>\n",
       "<!-- 112445018912&#45;&gt;112629931536 -->\n",
       "<g class=\"edge\" id=\"edge7\">\n",
       "<title>112445018912-&gt;112629931536</title>\n",
       "<path d=\"M81.5,-803.4551C81.5,-795.3828 81.5,-785.6764 81.5,-776.6817\" fill=\"none\" stroke=\"#000000\"/>\n",
       "<polygon fill=\"#000000\" points=\"85.0001,-776.5903 81.5,-766.5904 78.0001,-776.5904 85.0001,-776.5903\" stroke=\"#000000\"/>\n",
       "</g>\n",
       "<!-- 112630051504 -->\n",
       "<g class=\"node\" id=\"node8\">\n",
       "<title>112630051504</title>\n",
       "<polygon fill=\"none\" points=\"31.5,-657.5 31.5,-693.5 131.5,-693.5 131.5,-657.5 31.5,-657.5\" stroke=\"#000000\"/>\n",
       "<text fill=\"#000000\" font-family=\"Times,serif\" font-size=\"14.00\" text-anchor=\"middle\" x=\"81.5\" y=\"-671.8\">dropout_2: Dropout</text>\n",
       "</g>\n",
       "<!-- 112629931536&#45;&gt;112630051504 -->\n",
       "<g class=\"edge\" id=\"edge8\">\n",
       "<title>112629931536-&gt;112630051504</title>\n",
       "<path d=\"M81.5,-730.4551C81.5,-722.3828 81.5,-712.6764 81.5,-703.6817\" fill=\"none\" stroke=\"#000000\"/>\n",
       "<polygon fill=\"#000000\" points=\"85.0001,-703.5903 81.5,-693.5904 78.0001,-703.5904 85.0001,-703.5903\" stroke=\"#000000\"/>\n",
       "</g>\n",
       "<!-- 112630193232 -->\n",
       "<g class=\"node\" id=\"node9\">\n",
       "<title>112630193232</title>\n",
       "<polygon fill=\"none\" points=\"32,-584.5 32,-620.5 131,-620.5 131,-584.5 32,-584.5\" stroke=\"#000000\"/>\n",
       "<text fill=\"#000000\" font-family=\"Times,serif\" font-size=\"14.00\" text-anchor=\"middle\" x=\"81.5\" y=\"-598.8\">conv2d_3: Conv2D</text>\n",
       "</g>\n",
       "<!-- 112630051504&#45;&gt;112630193232 -->\n",
       "<g class=\"edge\" id=\"edge9\">\n",
       "<title>112630051504-&gt;112630193232</title>\n",
       "<path d=\"M81.5,-657.4551C81.5,-649.3828 81.5,-639.6764 81.5,-630.6817\" fill=\"none\" stroke=\"#000000\"/>\n",
       "<polygon fill=\"#000000\" points=\"85.0001,-630.5903 81.5,-620.5904 78.0001,-630.5904 85.0001,-630.5903\" stroke=\"#000000\"/>\n",
       "</g>\n",
       "<!-- 112629931592 -->\n",
       "<g class=\"node\" id=\"node10\">\n",
       "<title>112629931592</title>\n",
       "<polygon fill=\"none\" points=\"14.5,-511.5 14.5,-547.5 148.5,-547.5 148.5,-511.5 14.5,-511.5\" stroke=\"#000000\"/>\n",
       "<text fill=\"#000000\" font-family=\"Times,serif\" font-size=\"14.00\" text-anchor=\"middle\" x=\"81.5\" y=\"-525.8\">leaky_re_lu_3: LeakyReLU</text>\n",
       "</g>\n",
       "<!-- 112630193232&#45;&gt;112629931592 -->\n",
       "<g class=\"edge\" id=\"edge10\">\n",
       "<title>112630193232-&gt;112629931592</title>\n",
       "<path d=\"M81.5,-584.4551C81.5,-576.3828 81.5,-566.6764 81.5,-557.6817\" fill=\"none\" stroke=\"#000000\"/>\n",
       "<polygon fill=\"#000000\" points=\"85.0001,-557.5903 81.5,-547.5904 78.0001,-557.5904 85.0001,-557.5903\" stroke=\"#000000\"/>\n",
       "</g>\n",
       "<!-- 112630365656 -->\n",
       "<g class=\"node\" id=\"node11\">\n",
       "<title>112630365656</title>\n",
       "<polygon fill=\"none\" points=\"0,-438.5 0,-474.5 163,-474.5 163,-438.5 0,-438.5\" stroke=\"#000000\"/>\n",
       "<text fill=\"#000000\" font-family=\"Times,serif\" font-size=\"14.00\" text-anchor=\"middle\" x=\"81.5\" y=\"-452.8\">max_pooling2d_3: MaxPooling2D</text>\n",
       "</g>\n",
       "<!-- 112629931592&#45;&gt;112630365656 -->\n",
       "<g class=\"edge\" id=\"edge11\">\n",
       "<title>112629931592-&gt;112630365656</title>\n",
       "<path d=\"M81.5,-511.4551C81.5,-503.3828 81.5,-493.6764 81.5,-484.6817\" fill=\"none\" stroke=\"#000000\"/>\n",
       "<polygon fill=\"#000000\" points=\"85.0001,-484.5903 81.5,-474.5904 78.0001,-484.5904 85.0001,-484.5903\" stroke=\"#000000\"/>\n",
       "</g>\n",
       "<!-- 112630365264 -->\n",
       "<g class=\"node\" id=\"node12\">\n",
       "<title>112630365264</title>\n",
       "<polygon fill=\"none\" points=\"31.5,-365.5 31.5,-401.5 131.5,-401.5 131.5,-365.5 31.5,-365.5\" stroke=\"#000000\"/>\n",
       "<text fill=\"#000000\" font-family=\"Times,serif\" font-size=\"14.00\" text-anchor=\"middle\" x=\"81.5\" y=\"-379.8\">dropout_3: Dropout</text>\n",
       "</g>\n",
       "<!-- 112630365656&#45;&gt;112630365264 -->\n",
       "<g class=\"edge\" id=\"edge12\">\n",
       "<title>112630365656-&gt;112630365264</title>\n",
       "<path d=\"M81.5,-438.4551C81.5,-430.3828 81.5,-420.6764 81.5,-411.6817\" fill=\"none\" stroke=\"#000000\"/>\n",
       "<polygon fill=\"#000000\" points=\"85.0001,-411.5903 81.5,-401.5904 78.0001,-411.5904 85.0001,-411.5903\" stroke=\"#000000\"/>\n",
       "</g>\n",
       "<!-- 112630647664 -->\n",
       "<g class=\"node\" id=\"node13\">\n",
       "<title>112630647664</title>\n",
       "<polygon fill=\"none\" points=\"37.5,-292.5 37.5,-328.5 125.5,-328.5 125.5,-292.5 37.5,-292.5\" stroke=\"#000000\"/>\n",
       "<text fill=\"#000000\" font-family=\"Times,serif\" font-size=\"14.00\" text-anchor=\"middle\" x=\"81.5\" y=\"-306.8\">flatten_1: Flatten</text>\n",
       "</g>\n",
       "<!-- 112630365264&#45;&gt;112630647664 -->\n",
       "<g class=\"edge\" id=\"edge13\">\n",
       "<title>112630365264-&gt;112630647664</title>\n",
       "<path d=\"M81.5,-365.4551C81.5,-357.3828 81.5,-347.6764 81.5,-338.6817\" fill=\"none\" stroke=\"#000000\"/>\n",
       "<polygon fill=\"#000000\" points=\"85.0001,-338.5903 81.5,-328.5904 78.0001,-338.5904 85.0001,-338.5903\" stroke=\"#000000\"/>\n",
       "</g>\n",
       "<!-- 112630363192 -->\n",
       "<g class=\"node\" id=\"node14\">\n",
       "<title>112630363192</title>\n",
       "<polygon fill=\"none\" points=\"40,-219.5 40,-255.5 123,-255.5 123,-219.5 40,-219.5\" stroke=\"#000000\"/>\n",
       "<text fill=\"#000000\" font-family=\"Times,serif\" font-size=\"14.00\" text-anchor=\"middle\" x=\"81.5\" y=\"-233.8\">dense_1: Dense</text>\n",
       "</g>\n",
       "<!-- 112630647664&#45;&gt;112630363192 -->\n",
       "<g class=\"edge\" id=\"edge14\">\n",
       "<title>112630647664-&gt;112630363192</title>\n",
       "<path d=\"M81.5,-292.4551C81.5,-284.3828 81.5,-274.6764 81.5,-265.6817\" fill=\"none\" stroke=\"#000000\"/>\n",
       "<polygon fill=\"#000000\" points=\"85.0001,-265.5903 81.5,-255.5904 78.0001,-265.5904 85.0001,-265.5903\" stroke=\"#000000\"/>\n",
       "</g>\n",
       "<!-- 112630648336 -->\n",
       "<g class=\"node\" id=\"node15\">\n",
       "<title>112630648336</title>\n",
       "<polygon fill=\"none\" points=\"14.5,-146.5 14.5,-182.5 148.5,-182.5 148.5,-146.5 14.5,-146.5\" stroke=\"#000000\"/>\n",
       "<text fill=\"#000000\" font-family=\"Times,serif\" font-size=\"14.00\" text-anchor=\"middle\" x=\"81.5\" y=\"-160.8\">leaky_re_lu_4: LeakyReLU</text>\n",
       "</g>\n",
       "<!-- 112630363192&#45;&gt;112630648336 -->\n",
       "<g class=\"edge\" id=\"edge15\">\n",
       "<title>112630363192-&gt;112630648336</title>\n",
       "<path d=\"M81.5,-219.4551C81.5,-211.3828 81.5,-201.6764 81.5,-192.6817\" fill=\"none\" stroke=\"#000000\"/>\n",
       "<polygon fill=\"#000000\" points=\"85.0001,-192.5903 81.5,-182.5904 78.0001,-192.5904 85.0001,-192.5903\" stroke=\"#000000\"/>\n",
       "</g>\n",
       "<!-- 112630918952 -->\n",
       "<g class=\"node\" id=\"node16\">\n",
       "<title>112630918952</title>\n",
       "<polygon fill=\"none\" points=\"31.5,-73.5 31.5,-109.5 131.5,-109.5 131.5,-73.5 31.5,-73.5\" stroke=\"#000000\"/>\n",
       "<text fill=\"#000000\" font-family=\"Times,serif\" font-size=\"14.00\" text-anchor=\"middle\" x=\"81.5\" y=\"-87.8\">dropout_4: Dropout</text>\n",
       "</g>\n",
       "<!-- 112630648336&#45;&gt;112630918952 -->\n",
       "<g class=\"edge\" id=\"edge16\">\n",
       "<title>112630648336-&gt;112630918952</title>\n",
       "<path d=\"M81.5,-146.4551C81.5,-138.3828 81.5,-128.6764 81.5,-119.6817\" fill=\"none\" stroke=\"#000000\"/>\n",
       "<polygon fill=\"#000000\" points=\"85.0001,-119.5903 81.5,-109.5904 78.0001,-119.5904 85.0001,-119.5903\" stroke=\"#000000\"/>\n",
       "</g>\n",
       "<!-- 112630647552 -->\n",
       "<g class=\"node\" id=\"node17\">\n",
       "<title>112630647552</title>\n",
       "<polygon fill=\"none\" points=\"40,-.5 40,-36.5 123,-36.5 123,-.5 40,-.5\" stroke=\"#000000\"/>\n",
       "<text fill=\"#000000\" font-family=\"Times,serif\" font-size=\"14.00\" text-anchor=\"middle\" x=\"81.5\" y=\"-14.8\">dense_2: Dense</text>\n",
       "</g>\n",
       "<!-- 112630918952&#45;&gt;112630647552 -->\n",
       "<g class=\"edge\" id=\"edge17\">\n",
       "<title>112630918952-&gt;112630647552</title>\n",
       "<path d=\"M81.5,-73.4551C81.5,-65.3828 81.5,-55.6764 81.5,-46.6817\" fill=\"none\" stroke=\"#000000\"/>\n",
       "<polygon fill=\"#000000\" points=\"85.0001,-46.5903 81.5,-36.5904 78.0001,-46.5904 85.0001,-46.5903\" stroke=\"#000000\"/>\n",
       "</g>\n",
       "<!-- 112445018464 -->\n",
       "<g class=\"node\" id=\"node18\">\n",
       "<title>112445018464</title>\n",
       "<polygon fill=\"none\" points=\"41.5,-1241.5 41.5,-1277.5 121.5,-1277.5 121.5,-1241.5 41.5,-1241.5\" stroke=\"#000000\"/>\n",
       "<text fill=\"#000000\" font-family=\"Times,serif\" font-size=\"14.00\" text-anchor=\"middle\" x=\"81.5\" y=\"-1255.8\">112445018464</text>\n",
       "</g>\n",
       "<!-- 112445018464&#45;&gt;112444960160 -->\n",
       "<g class=\"edge\" id=\"edge1\">\n",
       "<title>112445018464-&gt;112444960160</title>\n",
       "<path d=\"M81.5,-1241.4551C81.5,-1233.3828 81.5,-1223.6764 81.5,-1214.6817\" fill=\"none\" stroke=\"#000000\"/>\n",
       "<polygon fill=\"#000000\" points=\"85.0001,-1214.5903 81.5,-1204.5904 78.0001,-1214.5904 85.0001,-1214.5903\" stroke=\"#000000\"/>\n",
       "</g>\n",
       "</g>\n",
       "</svg>"
      ],
      "text/plain": [
       "<IPython.core.display.SVG object>"
      ]
     },
     "execution_count": 10,
     "metadata": {},
     "output_type": "execute_result"
    }
   ],
   "source": [
    "SVG(model_to_dot(fashion_model).create(prog = 'dot', format = 'svg'))"
   ]
  },
  {
   "cell_type": "code",
   "execution_count": 11,
   "metadata": {
    "ExecuteTime": {
     "end_time": "2018-11-26T13:55:52.318863Z",
     "start_time": "2018-11-26T13:55:52.275256Z"
    }
   },
   "outputs": [],
   "source": [
    "fashion_model.compile(loss = keras.losses.categorical_crossentropy,\n",
    "                      optimizer = keras.optimizers.Adam(),\n",
    "                      metrics = ['accuracy'])"
   ]
  },
  {
   "cell_type": "code",
   "execution_count": 12,
   "metadata": {
    "ExecuteTime": {
     "end_time": "2018-11-26T13:55:52.327926Z",
     "start_time": "2018-11-26T13:55:52.321471Z"
    }
   },
   "outputs": [
    {
     "name": "stdout",
     "output_type": "stream",
     "text": [
      "_________________________________________________________________\n",
      "Layer (type)                 Output Shape              Param #   \n",
      "=================================================================\n",
      "conv2d_1 (Conv2D)            (None, 28, 28, 32)        320       \n",
      "_________________________________________________________________\n",
      "leaky_re_lu_1 (LeakyReLU)    (None, 28, 28, 32)        0         \n",
      "_________________________________________________________________\n",
      "max_pooling2d_1 (MaxPooling2 (None, 14, 14, 32)        0         \n",
      "_________________________________________________________________\n",
      "dropout_1 (Dropout)          (None, 14, 14, 32)        0         \n",
      "_________________________________________________________________\n",
      "conv2d_2 (Conv2D)            (None, 14, 14, 64)        18496     \n",
      "_________________________________________________________________\n",
      "leaky_re_lu_2 (LeakyReLU)    (None, 14, 14, 64)        0         \n",
      "_________________________________________________________________\n",
      "max_pooling2d_2 (MaxPooling2 (None, 7, 7, 64)          0         \n",
      "_________________________________________________________________\n",
      "dropout_2 (Dropout)          (None, 7, 7, 64)          0         \n",
      "_________________________________________________________________\n",
      "conv2d_3 (Conv2D)            (None, 7, 7, 128)         73856     \n",
      "_________________________________________________________________\n",
      "leaky_re_lu_3 (LeakyReLU)    (None, 7, 7, 128)         0         \n",
      "_________________________________________________________________\n",
      "max_pooling2d_3 (MaxPooling2 (None, 4, 4, 128)         0         \n",
      "_________________________________________________________________\n",
      "dropout_3 (Dropout)          (None, 4, 4, 128)         0         \n",
      "_________________________________________________________________\n",
      "flatten_1 (Flatten)          (None, 2048)              0         \n",
      "_________________________________________________________________\n",
      "dense_1 (Dense)              (None, 128)               262272    \n",
      "_________________________________________________________________\n",
      "leaky_re_lu_4 (LeakyReLU)    (None, 128)               0         \n",
      "_________________________________________________________________\n",
      "dropout_4 (Dropout)          (None, 128)               0         \n",
      "_________________________________________________________________\n",
      "dense_2 (Dense)              (None, 10)                1290      \n",
      "=================================================================\n",
      "Total params: 356,234\n",
      "Trainable params: 356,234\n",
      "Non-trainable params: 0\n",
      "_________________________________________________________________\n"
     ]
    }
   ],
   "source": [
    "fashion_model.summary()"
   ]
  },
  {
   "cell_type": "code",
   "execution_count": 13,
   "metadata": {
    "ExecuteTime": {
     "end_time": "2018-11-26T14:16:50.233508Z",
     "start_time": "2018-11-26T13:55:52.330042Z"
    },
    "scrolled": true
   },
   "outputs": [
    {
     "name": "stdout",
     "output_type": "stream",
     "text": [
      "Train on 48000 samples, validate on 12000 samples\n",
      "Epoch 1/20\n",
      "48000/48000 [==============================] - 65s 1ms/step - loss: 0.6348 - acc: 0.7635 - val_loss: 0.3889 - val_acc: 0.8617\n",
      "Epoch 2/20\n",
      "48000/48000 [==============================] - 69s 1ms/step - loss: 0.3952 - acc: 0.8555 - val_loss: 0.3067 - val_acc: 0.8878\n",
      "Epoch 3/20\n",
      "48000/48000 [==============================] - 66s 1ms/step - loss: 0.3467 - acc: 0.8725 - val_loss: 0.2935 - val_acc: 0.8927\n",
      "Epoch 4/20\n",
      "48000/48000 [==============================] - 66s 1ms/step - loss: 0.3150 - acc: 0.8839 - val_loss: 0.2959 - val_acc: 0.8871\n",
      "Epoch 5/20\n",
      "48000/48000 [==============================] - 66s 1ms/step - loss: 0.2990 - acc: 0.8882 - val_loss: 0.2530 - val_acc: 0.9056\n",
      "Epoch 6/20\n",
      "48000/48000 [==============================] - 60s 1ms/step - loss: 0.2872 - acc: 0.8926 - val_loss: 0.2520 - val_acc: 0.9073\n",
      "Epoch 7/20\n",
      "48000/48000 [==============================] - 61s 1ms/step - loss: 0.2745 - acc: 0.8971 - val_loss: 0.2340 - val_acc: 0.9147\n",
      "Epoch 8/20\n",
      "48000/48000 [==============================] - 63s 1ms/step - loss: 0.2681 - acc: 0.8985 - val_loss: 0.2474 - val_acc: 0.9101\n",
      "Epoch 9/20\n",
      "48000/48000 [==============================] - 67s 1ms/step - loss: 0.2590 - acc: 0.9035 - val_loss: 0.2327 - val_acc: 0.9147\n",
      "Epoch 10/20\n",
      "48000/48000 [==============================] - 64s 1ms/step - loss: 0.2540 - acc: 0.9045 - val_loss: 0.2176 - val_acc: 0.9199\n",
      "Epoch 11/20\n",
      "48000/48000 [==============================] - 62s 1ms/step - loss: 0.2464 - acc: 0.9083 - val_loss: 0.2267 - val_acc: 0.9158\n",
      "Epoch 12/20\n",
      "48000/48000 [==============================] - 60s 1ms/step - loss: 0.2468 - acc: 0.9080 - val_loss: 0.2184 - val_acc: 0.9205\n",
      "Epoch 13/20\n",
      "48000/48000 [==============================] - 63s 1ms/step - loss: 0.2384 - acc: 0.9101 - val_loss: 0.2175 - val_acc: 0.9212\n",
      "Epoch 14/20\n",
      "48000/48000 [==============================] - 61s 1ms/step - loss: 0.2414 - acc: 0.9091 - val_loss: 0.2161 - val_acc: 0.9195\n",
      "Epoch 15/20\n",
      "48000/48000 [==============================] - 65s 1ms/step - loss: 0.2369 - acc: 0.9111 - val_loss: 0.2181 - val_acc: 0.9201\n",
      "Epoch 16/20\n",
      "48000/48000 [==============================] - 59s 1ms/step - loss: 0.2279 - acc: 0.9140 - val_loss: 0.2163 - val_acc: 0.9217\n",
      "Epoch 17/20\n",
      "48000/48000 [==============================] - 59s 1ms/step - loss: 0.2283 - acc: 0.9142 - val_loss: 0.2251 - val_acc: 0.9213\n",
      "Epoch 18/20\n",
      "48000/48000 [==============================] - 60s 1ms/step - loss: 0.2258 - acc: 0.9159 - val_loss: 0.2090 - val_acc: 0.9257\n",
      "Epoch 19/20\n",
      "48000/48000 [==============================] - 59s 1ms/step - loss: 0.2234 - acc: 0.9150 - val_loss: 0.2085 - val_acc: 0.9257\n",
      "Epoch 20/20\n",
      "48000/48000 [==============================] - 61s 1ms/step - loss: 0.2160 - acc: 0.9187 - val_loss: 0.2165 - val_acc: 0.9217\n"
     ]
    }
   ],
   "source": [
    "fashion_train = fashion_model.fit(train_X,\n",
    "                                  train_Y,\n",
    "                                  batch_size = batch_size,\n",
    "                                  epochs = epochs,\n",
    "                                  verbose = 1,\n",
    "                                  validation_data = (test_X, test_Y))"
   ]
  },
  {
   "cell_type": "code",
   "execution_count": 14,
   "metadata": {
    "ExecuteTime": {
     "end_time": "2018-11-26T14:16:50.576280Z",
     "start_time": "2018-11-26T14:16:50.235442Z"
    }
   },
   "outputs": [
    {
     "data": {
      "text/plain": [
       "<matplotlib.legend.Legend at 0x1a2bb97780>"
      ]
     },
     "execution_count": 14,
     "metadata": {},
     "output_type": "execute_result"
    },
    {
     "data": {
      "image/png": "[encoded data removed]",
      "text/plain": [
       "<Figure size 432x288 with 1 Axes>"
      ]
     },
     "metadata": {},
     "output_type": "display_data"
    },
    {
     "data": {
      "image/png": "[encoded data removed]",
      "text/plain": [
       "<Figure size 432x288 with 1 Axes>"
      ]
     },
     "metadata": {},
     "output_type": "display_data"
    }
   ],
   "source": [
    "accuracy = fashion_train.history['acc']\n",
    "val_accuracy = fashion_train.history['val_acc']\n",
    "loss = fashion_train.history['loss']\n",
    "val_loss = fashion_train.history['val_loss']\n",
    "epochs = range(len(accuracy))\n",
    "plt.plot(epochs, accuracy, 'bo', label = 'Training Accuracy')\n",
    "plt.plot(epochs, val_accuracy, 'b', label = 'Validation Accuracy')\n",
    "plt.title('Training and Validation accuracy')\n",
    "plt.legend()\n",
    "plt.figure()\n",
    "plt.plot(epochs, loss, 'bo', label = 'Training Loss')\n",
    "plt.plot(epochs, val_loss, 'b', label = 'Validation Loss')\n",
    "plt.title('Training and Validation loss')\n",
    "plt.legend()"
   ]
  },
  {
   "cell_type": "code",
   "execution_count": 28,
   "metadata": {
    "ExecuteTime": {
     "end_time": "2018-11-26T14:24:55.900026Z",
     "start_time": "2018-11-26T14:24:53.075103Z"
    }
   },
   "outputs": [],
   "source": [
    "# Predicted classes are probabilities, recall softmax\n",
    "predicted_classes = fashion_model.predict(test_X)\n",
    "predicted_classes = np.argmax(np.round(predicted_classes),axis = 1)"
   ]
  },
  {
   "cell_type": "code",
   "execution_count": 25,
   "metadata": {
    "ExecuteTime": {
     "end_time": "2018-11-26T14:24:29.240417Z",
     "start_time": "2018-11-26T14:24:29.235525Z"
    }
   },
   "outputs": [
    {
     "name": "stdout",
     "output_type": "stream",
     "text": [
      "Found 0 correct labels\n"
     ]
    },
    {
     "name": "stderr",
     "output_type": "stream",
     "text": [
      "/anaconda3/lib/python3.6/site-packages/ipykernel_launcher.py:1: DeprecationWarning: elementwise == comparison failed; this will raise an error in the future.\n",
      "  \"\"\"Entry point for launching an IPython kernel.\n"
     ]
    }
   ],
   "source": [
    "correct = np.where(predicted_classes == test_Y)[0]\n",
    "print(\"Found {} correct labels\".format(len(correct)))\n",
    "for i, correct in enumerate(correct[:9]):\n",
    "    plt.subplot(3, 3, i+1)\n",
    "    plt.imshow(test_X[correct].reshape(28, 28), cmap = 'gray', interpolation='none')\n",
    "    plt.title(\"Predicted {}, Class {}\".format(predicted_classes[correct], test_Y[correct]))\n",
    "    plt.tight_layout()"
   ]
  },
  {
   "cell_type": "code",
   "execution_count": 27,
   "metadata": {
    "ExecuteTime": {
     "end_time": "2018-11-26T14:24:44.847777Z",
     "start_time": "2018-11-26T14:24:44.843061Z"
    }
   },
   "outputs": [
    {
     "data": {
      "text/plain": [
       "array([0, 1, 8, ..., 9, 6, 7])"
      ]
     },
     "execution_count": 27,
     "metadata": {},
     "output_type": "execute_result"
    }
   ],
   "source": [
    "incorrect = np.where(predicted_classes!=test_Y)[0]\n",
    "print \"Found %d incorrect labels\" % len(incorrect)\n",
    "for i, incorrect in enumerate(incorrect[:9]):\n",
    "    plt.subplot(3,3,i+1)\n",
    "    plt.imshow(test_X[incorrect].reshape(28,28), cmap='gray', interpolation='none')\n",
    "    plt.title(\"Predicted {}, Class {}\".format(predicted_classes[incorrect], test_Y[incorrect]))\n",
    "    plt.tight_layout()"
   ]
  },
  {
   "cell_type": "code",
   "execution_count": null,
   "metadata": {},
   "outputs": [],
   "source": []
  }
 ],
 "metadata": {
  "kernelspec": {
   "display_name": "Python 3",
   "language": "python",
   "name": "python3"
  },
  "language_info": {
   "codemirror_mode": {
    "name": "ipython",
    "version": 3
   },
   "file_extension": ".py",
   "mimetype": "text/x-python",
   "name": "python",
   "nbconvert_exporter": "python",
   "pygments_lexer": "ipython3",
   "version": "3.6.5"
  },
  "varInspector": {
   "cols": {
    "lenName": 16,
    "lenType": 16,
    "lenVar": 40
   },
   "kernels_config": {
    "python": {
     "delete_cmd_postfix": "",
     "delete_cmd_prefix": "del ",
     "library": "var_list.py",
     "varRefreshCmd": "print(var_dic_list())"
    },
    "r": {
     "delete_cmd_postfix": ") ",
     "delete_cmd_prefix": "rm(",
     "library": "var_list.r",
     "varRefreshCmd": "cat(var_dic_list()) "
    }
   },
   "types_to_exclude": [
    "module",
    "function",
    "builtin_function_or_method",
    "instance",
    "_Feature"
   ],
   "window_display": false
  }
 },
 "nbformat": 4,
 "nbformat_minor": 2
}
