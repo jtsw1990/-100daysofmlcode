{
 "cells": [
  {
   "cell_type": "markdown",
   "metadata": {},
   "source": [
    "# Classifiers"
   ]
  },
  {
   "cell_type": "markdown",
   "metadata": {
    "heading_collapsed": true
   },
   "source": [
    "## Logistic Regression"
   ]
  },
  {
   "cell_type": "code",
   "execution_count": 1,
   "metadata": {
    "ExecuteTime": {
     "end_time": "2018-10-14T05:04:23.452503Z",
     "start_time": "2018-10-14T05:04:22.788664Z"
    },
    "hidden": true
   },
   "outputs": [],
   "source": [
    "import numpy as np\n",
    "from sklearn import linear_model\n",
    "import matplotlib.pyplot as plt\n",
    "from exampleDatasets.utilities import *"
   ]
  },
  {
   "cell_type": "markdown",
   "metadata": {
    "hidden": true
   },
   "source": [
    "For now, just ignore the visualize_classifier function"
   ]
  },
  {
   "cell_type": "code",
   "execution_count": 2,
   "metadata": {
    "ExecuteTime": {
     "end_time": "2018-10-14T05:04:23.458113Z",
     "start_time": "2018-10-14T05:04:23.454449Z"
    },
    "hidden": true
   },
   "outputs": [],
   "source": [
    "X = np.array([[3.1, 7.2], [4, 6.7], [2.9, 8], [5.1, 4.5], [6, 5], [5.6, 5],\n",
    "   [3.3, 0.4], [3.9, 0.9], [2.8, 1], [0.5, 3.4], [1, 4], [0.6, 4.9]])\n",
    "y = np.array([0, 0, 0, 1, 1, 1, 2, 2, 2, 3, 3, 3])"
   ]
  },
  {
   "cell_type": "code",
   "execution_count": 3,
   "metadata": {
    "ExecuteTime": {
     "end_time": "2018-10-14T05:04:23.462339Z",
     "start_time": "2018-10-14T05:04:23.459646Z"
    },
    "hidden": true
   },
   "outputs": [],
   "source": [
    "classifier = linear_model.LogisticRegression(C = 100)"
   ]
  },
  {
   "cell_type": "code",
   "execution_count": 4,
   "metadata": {
    "ExecuteTime": {
     "end_time": "2018-10-14T05:04:23.629565Z",
     "start_time": "2018-10-14T05:04:23.464019Z"
    },
    "hidden": true
   },
   "outputs": [
    {
     "data": {
      "text/plain": [
       "LogisticRegression(C=100, class_weight=None, dual=False, fit_intercept=True,\n",
       "          intercept_scaling=1, max_iter=100, multi_class='ovr', n_jobs=1,\n",
       "          penalty='l2', random_state=None, solver='liblinear', tol=0.0001,\n",
       "          verbose=0, warm_start=False)"
      ]
     },
     "execution_count": 4,
     "metadata": {},
     "output_type": "execute_result"
    }
   ],
   "source": [
    "classifier.fit(X, y)"
   ]
  },
  {
   "cell_type": "code",
   "execution_count": 5,
   "metadata": {
    "ExecuteTime": {
     "end_time": "2018-10-14T05:04:24.616316Z",
     "start_time": "2018-10-14T05:04:23.631431Z"
    },
    "hidden": true
   },
   "outputs": [
    {
     "data": {
      "image/png": "[encoded data removed]",
      "text/plain": [
       "<Figure size 432x288 with 1 Axes>"
      ]
     },
     "metadata": {},
     "output_type": "display_data"
    }
   ],
   "source": [
    "visualize_classifier(classifier, X, y)"
   ]
  },
  {
   "cell_type": "markdown",
   "metadata": {
    "heading_collapsed": true
   },
   "source": [
    "## Naive Bayes Classifier"
   ]
  },
  {
   "cell_type": "code",
   "execution_count": 6,
   "metadata": {
    "ExecuteTime": {
     "end_time": "2018-10-14T05:04:24.630016Z",
     "start_time": "2018-10-14T05:04:24.618436Z"
    },
    "hidden": true
   },
   "outputs": [
    {
     "name": "stderr",
     "output_type": "stream",
     "text": [
      "/anaconda3/lib/python3.6/site-packages/sklearn/cross_validation.py:41: DeprecationWarning: This module was deprecated in version 0.18 in favor of the model_selection module into which all the refactored classes and functions are moved. Also note that the interface of the new CV iterators are different from that of this module. This module will be removed in 0.20.\n",
      "  \"This module will be removed in 0.20.\", DeprecationWarning)\n"
     ]
    }
   ],
   "source": [
    "from sklearn.naive_bayes import GaussianNB\n",
    "from sklearn import cross_validation"
   ]
  },
  {
   "cell_type": "markdown",
   "metadata": {
    "hidden": true
   },
   "source": [
    "Classifer using bayes theorem. Naive means that there is an assumption that all feautres are independent. In a 2 feature and response case, the algorithm will compute the required probabilities using a likelihood table and apply bayes theorem to get a probabiity of a feature being in that category. This idea can be extended to multiple features and responses."
   ]
  },
  {
   "cell_type": "markdown",
   "metadata": {
    "ExecuteTime": {
     "end_time": "2018-10-14T01:35:58.494895Z",
     "start_time": "2018-10-14T01:35:58.434244Z"
    },
    "hidden": true
   },
   "source": [
    "$ P(A|B) = \\dfrac{P(B|A) * P(A)}{P(B)}$"
   ]
  },
  {
   "cell_type": "code",
   "execution_count": 7,
   "metadata": {
    "ExecuteTime": {
     "end_time": "2018-10-14T05:04:24.638328Z",
     "start_time": "2018-10-14T05:04:24.632091Z"
    },
    "hidden": true
   },
   "outputs": [],
   "source": [
    "input_file = './exampleDatasets/data_multivar_nb.txt'\n",
    "data = np.loadtxt(input_file, delimiter = ',')\n",
    "X, y = data[:, :-1], data[:, -1]"
   ]
  },
  {
   "cell_type": "code",
   "execution_count": 8,
   "metadata": {
    "ExecuteTime": {
     "end_time": "2018-10-14T05:04:24.643451Z",
     "start_time": "2018-10-14T05:04:24.640371Z"
    },
    "hidden": true
   },
   "outputs": [],
   "source": [
    " X_train, X_test, y_train, y_test = cross_validation.train_test_split(X, y,\n",
    "                                   test_size = 0.2, random_state = 3)"
   ]
  },
  {
   "cell_type": "markdown",
   "metadata": {
    "hidden": true
   },
   "source": [
    "We do train_test split as well as cross validation on the dataset. This makes the model, as well as the accuracy metrics more robust."
   ]
  },
  {
   "cell_type": "code",
   "execution_count": 9,
   "metadata": {
    "ExecuteTime": {
     "end_time": "2018-10-14T05:04:24.651934Z",
     "start_time": "2018-10-14T05:04:24.645404Z"
    },
    "hidden": true
   },
   "outputs": [
    {
     "data": {
      "text/plain": [
       "GaussianNB(priors=None)"
      ]
     },
     "execution_count": 9,
     "metadata": {},
     "output_type": "execute_result"
    }
   ],
   "source": [
    "classifier = GaussianNB()\n",
    "classifier.fit(X_train, y_train)"
   ]
  },
  {
   "cell_type": "code",
   "execution_count": 10,
   "metadata": {
    "ExecuteTime": {
     "end_time": "2018-10-14T05:04:24.656569Z",
     "start_time": "2018-10-14T05:04:24.653691Z"
    },
    "hidden": true
   },
   "outputs": [],
   "source": [
    "y_pred = classifier.predict(X_test)"
   ]
  },
  {
   "cell_type": "markdown",
   "metadata": {
    "hidden": true
   },
   "source": [
    "Now let's compute the accuracy and visualize the performance."
   ]
  },
  {
   "cell_type": "code",
   "execution_count": 11,
   "metadata": {
    "ExecuteTime": {
     "end_time": "2018-10-14T05:04:24.661144Z",
     "start_time": "2018-10-14T05:04:24.658273Z"
    },
    "hidden": true
   },
   "outputs": [
    {
     "name": "stdout",
     "output_type": "stream",
     "text": [
      "Accuracy is 100.0%\n"
     ]
    }
   ],
   "source": [
    "accuracy = 100 * (y_test == y_pred).sum() / X_test.shape[0]\n",
    "print('Accuracy is {}%'.format(accuracy))"
   ]
  },
  {
   "cell_type": "code",
   "execution_count": 12,
   "metadata": {
    "ExecuteTime": {
     "end_time": "2018-10-14T05:04:26.929947Z",
     "start_time": "2018-10-14T05:04:24.663898Z"
    },
    "hidden": true
   },
   "outputs": [
    {
     "data": {
      "image/png": "[encoded data removed]",
      "text/plain": [
       "<Figure size 432x288 with 1 Axes>"
      ]
     },
     "metadata": {},
     "output_type": "display_data"
    }
   ],
   "source": [
    "visualize_classifier(classifier, X, y)"
   ]
  },
  {
   "cell_type": "code",
   "execution_count": 13,
   "metadata": {
    "ExecuteTime": {
     "end_time": "2018-10-14T05:04:26.960396Z",
     "start_time": "2018-10-14T05:04:26.931697Z"
    },
    "hidden": true
   },
   "outputs": [
    {
     "name": "stdout",
     "output_type": "stream",
     "text": [
      "Accuracy: 99.75%\n",
      "Precision: 99.76%\n",
      "Recall: 99.75%\n",
      "F1: 99.75%\n"
     ]
    }
   ],
   "source": [
    "num_folds = 3\n",
    "accuracy_values = cross_validation.cross_val_score(classifier,\n",
    "           X, y, scoring='accuracy', cv = num_folds)\n",
    "print(\"Accuracy: \" + str(round(100 * accuracy_values.mean(), 2)) + \"%\")\n",
    "precision_values = cross_validation.cross_val_score(classifier,\n",
    "           X, y, scoring='precision_weighted', cv = num_folds)\n",
    "print(\"Precision: \" + str(round(100 * precision_values.mean(), 2)) + \"%\")\n",
    "recall_values = cross_validation.cross_val_score(classifier,\n",
    "           X, y, scoring = 'recall_weighted', cv = num_folds)\n",
    "print(\"Recall: \" + str(round(100 * recall_values.mean(), 2)) + \"%\")\n",
    "f1_values = cross_validation.cross_val_score(classifier,\n",
    "           X, y, scoring = 'f1_weighted', cv = num_folds)\n",
    "print(\"F1: \" + str(round(100 * f1_values.mean(), 2)) + \"%\")"
   ]
  },
  {
   "cell_type": "markdown",
   "metadata": {
    "hidden": true
   },
   "source": [
    "Note that we can also use the confusion matrix function in sklearn instead printing the metrics individually."
   ]
  },
  {
   "cell_type": "markdown",
   "metadata": {
    "heading_collapsed": true
   },
   "source": [
    "## Confusion Matrix"
   ]
  },
  {
   "cell_type": "code",
   "execution_count": 14,
   "metadata": {
    "ExecuteTime": {
     "end_time": "2018-10-14T05:04:26.964904Z",
     "start_time": "2018-10-14T05:04:26.962498Z"
    },
    "hidden": true
   },
   "outputs": [],
   "source": [
    "from sklearn.metrics import confusion_matrix\n",
    "from sklearn.metrics import classification_report"
   ]
  },
  {
   "cell_type": "markdown",
   "metadata": {
    "hidden": true
   },
   "source": [
    "Let's use some sample predictions and actual values."
   ]
  },
  {
   "cell_type": "code",
   "execution_count": 15,
   "metadata": {
    "ExecuteTime": {
     "end_time": "2018-10-14T05:04:26.970445Z",
     "start_time": "2018-10-14T05:04:26.967021Z"
    },
    "hidden": true
   },
   "outputs": [],
   "source": [
    "true_labels = [2, 0, 0, 2, 4, 4, 1, 0, 3, 3, 3]\n",
    "pred_labels = [2, 1, 0, 2, 4, 3, 1, 0, 1, 3, 3]"
   ]
  },
  {
   "cell_type": "code",
   "execution_count": 16,
   "metadata": {
    "ExecuteTime": {
     "end_time": "2018-10-14T05:04:26.977458Z",
     "start_time": "2018-10-14T05:04:26.973110Z"
    },
    "hidden": true
   },
   "outputs": [],
   "source": [
    "confusion_mat = confusion_matrix(true_labels, pred_labels)"
   ]
  },
  {
   "cell_type": "code",
   "execution_count": 17,
   "metadata": {
    "ExecuteTime": {
     "end_time": "2018-10-14T05:04:27.116315Z",
     "start_time": "2018-10-14T05:04:26.979603Z"
    },
    "hidden": true
   },
   "outputs": [
    {
     "data": {
      "image/png": "[encoded data removed]",
      "text/plain": [
       "<Figure size 432x288 with 2 Axes>"
      ]
     },
     "metadata": {},
     "output_type": "display_data"
    }
   ],
   "source": [
    "plt.imshow(confusion_mat, interpolation = 'nearest', cmap = plt.cm.gray)\n",
    "plt.title('Confusion Matrix')\n",
    "plt.colorbar()\n",
    "ticks = np.arange(5)\n",
    "plt.xticks(ticks, ticks)\n",
    "plt.yticks(ticks, ticks)\n",
    "plt.ylabel('True labels')\n",
    "plt.xlabel('Predicted labels')\n",
    "plt.show()"
   ]
  },
  {
   "cell_type": "code",
   "execution_count": 18,
   "metadata": {
    "ExecuteTime": {
     "end_time": "2018-10-14T05:04:27.123251Z",
     "start_time": "2018-10-14T05:04:27.118254Z"
    },
    "hidden": true
   },
   "outputs": [
    {
     "name": "stdout",
     "output_type": "stream",
     "text": [
      "\n",
      "             precision    recall  f1-score   support\n",
      "\n",
      "    Class-0       1.00      0.67      0.80         3\n",
      "    Class-1       0.33      1.00      0.50         1\n",
      "    Class-2       1.00      1.00      1.00         2\n",
      "    Class-3       0.67      0.67      0.67         3\n",
      "    Class-4       1.00      0.50      0.67         2\n",
      "\n",
      "avg / total       0.85      0.73      0.75        11\n",
      "\n"
     ]
    }
   ],
   "source": [
    "targets = ['Class-0', 'Class-1', 'Class-2', 'Class-3', 'Class-4']\n",
    "print('\\n{}'.format(classification_report(true_labels, pred_labels,\n",
    "       target_names = targets)))"
   ]
  },
  {
   "cell_type": "markdown",
   "metadata": {
    "hidden": true
   },
   "source": [
    "Note that we can also use seaborn to plot a heat map and replace the values inside with the values of the confusion matrix. Also using a string format to display the classification report gets rid of depreciation values."
   ]
  },
  {
   "cell_type": "markdown",
   "metadata": {},
   "source": [
    "## Support Vector Machines"
   ]
  },
  {
   "cell_type": "markdown",
   "metadata": {},
   "source": [
    "SVM classifiers are defined as using a hyperplane to seperate the classes. A hyperplane is just an N-dimensional line. <br>\n",
    "This optimal line is found by the maximizing the distance of each point from that separating line. <br>\n",
    "The points on the graph that help find the optimal line, or are closest to the optimal hyperplane are called support vectors. <br>\n",
    "Note that SVM has kernel tricks. More can be found [here](https://www.youtube.com/watch?v=foWkxFlaigM)."
   ]
  },
  {
   "cell_type": "markdown",
   "metadata": {
    "ExecuteTime": {
     "end_time": "2018-10-14T04:54:38.923615Z",
     "start_time": "2018-10-14T04:54:38.921043Z"
    }
   },
   "source": [
    "[Dataset](https://archive.ics.uci.edu/ml/machine-learning-databases/adult/adult.data)"
   ]
  },
  {
   "cell_type": "code",
   "execution_count": 47,
   "metadata": {
    "ExecuteTime": {
     "end_time": "2018-10-14T06:05:40.801144Z",
     "start_time": "2018-10-14T06:05:40.798280Z"
    }
   },
   "outputs": [],
   "source": [
    "from sklearn import preprocessing\n",
    "import pandas as pd\n",
    "from sklearn.svm import LinearSVC\n",
    "from sklearn.multiclass import OneVsOneClassifier"
   ]
  },
  {
   "cell_type": "code",
   "execution_count": 31,
   "metadata": {
    "ExecuteTime": {
     "end_time": "2018-10-14T05:30:05.490660Z",
     "start_time": "2018-10-14T05:30:05.488100Z"
    }
   },
   "outputs": [],
   "source": [
    "input_file = 'https://archive.ics.uci.edu/ml/machine-learning-databases/adult/adult.data'"
   ]
  },
  {
   "cell_type": "code",
   "execution_count": 34,
   "metadata": {
    "ExecuteTime": {
     "end_time": "2018-10-14T05:37:04.650237Z",
     "start_time": "2018-10-14T05:36:58.834608Z"
    }
   },
   "outputs": [],
   "source": [
    "data = pd.read_csv(input_file, header = None)\n",
    "data = np.array(data)"
   ]
  },
  {
   "cell_type": "code",
   "execution_count": 38,
   "metadata": {
    "ExecuteTime": {
     "end_time": "2018-10-14T06:01:19.785188Z",
     "start_time": "2018-10-14T06:01:19.782488Z"
    }
   },
   "outputs": [],
   "source": [
    "X, y = data[:-1], data[-1]"
   ]
  },
  {
   "cell_type": "markdown",
   "metadata": {},
   "source": [
    "Below shows the code to encode string data into labels as before."
   ]
  },
  {
   "cell_type": "code",
   "execution_count": 44,
   "metadata": {
    "ExecuteTime": {
     "end_time": "2018-10-14T06:03:44.713529Z",
     "start_time": "2018-10-14T06:03:44.569061Z"
    }
   },
   "outputs": [],
   "source": [
    "label_encoder = []\n",
    "X_encoded = np.empty(X.shape)\n",
    "for i,item in enumerate(X[0]):\n",
    "    if type(item) != str:\n",
    "        X_encoded[:, i] = X[:, i]\n",
    "    else:\n",
    "        label_encoder.append(preprocessing.LabelEncoder())\n",
    "        X_encoded[:, i] = label_encoder[-1].fit_transform(X[:, i])\n",
    "X = X_encoded[:, :-1].astype(int)\n",
    "y = X_encoded[:, -1].astype(int)"
   ]
  },
  {
   "cell_type": "code",
   "execution_count": 48,
   "metadata": {
    "ExecuteTime": {
     "end_time": "2018-10-14T06:05:43.679734Z",
     "start_time": "2018-10-14T06:05:43.677068Z"
    }
   },
   "outputs": [],
   "source": [
    "classifier = OneVsOneClassifier(LinearSVC(random_state=0))"
   ]
  },
  {
   "cell_type": "code",
   "execution_count": 49,
   "metadata": {
    "ExecuteTime": {
     "end_time": "2018-10-14T06:05:59.398362Z",
     "start_time": "2018-10-14T06:05:55.892919Z"
    }
   },
   "outputs": [
    {
     "data": {
      "text/plain": [
       "OneVsOneClassifier(estimator=LinearSVC(C=1.0, class_weight=None, dual=True, fit_intercept=True,\n",
       "     intercept_scaling=1, loss='squared_hinge', max_iter=1000,\n",
       "     multi_class='ovr', penalty='l2', random_state=0, tol=0.0001,\n",
       "     verbose=0),\n",
       "          n_jobs=1)"
      ]
     },
     "execution_count": 49,
     "metadata": {},
     "output_type": "execute_result"
    }
   ],
   "source": [
    "classifier.fit(X, y)"
   ]
  },
  {
   "cell_type": "code",
   "execution_count": 50,
   "metadata": {
    "ExecuteTime": {
     "end_time": "2018-10-14T06:06:14.856045Z",
     "start_time": "2018-10-14T06:06:12.220402Z"
    }
   },
   "outputs": [],
   "source": [
    "X_train, X_test, y_train, y_test = cross_validation.train_test_split(X, y,\n",
    "        test_size=0.2, random_state=5)\n",
    "classifier = OneVsOneClassifier(LinearSVC(random_state=0))\n",
    "classifier.fit(X_train, y_train)\n",
    "y_test_pred = classifier.predict(X_test)"
   ]
  },
  {
   "cell_type": "code",
   "execution_count": 52,
   "metadata": {
    "ExecuteTime": {
     "end_time": "2018-10-14T06:06:38.332712Z",
     "start_time": "2018-10-14T06:06:32.071677Z"
    }
   },
   "outputs": [
    {
     "name": "stdout",
     "output_type": "stream",
     "text": [
      "F1 score: 60.84%\n"
     ]
    }
   ],
   "source": [
    "f1 = cross_validation.cross_val_score(classifier, X, y,\n",
    "scoring='f1_weighted', cv = 3)\n",
    "print(\"F1 score: \" + str(round(100 * f1.mean(), 2)) + \"%\")"
   ]
  },
  {
   "cell_type": "code",
   "execution_count": null,
   "metadata": {},
   "outputs": [],
   "source": []
  }
 ],
 "metadata": {
  "kernelspec": {
   "display_name": "Python 3",
   "language": "python",
   "name": "python3"
  },
  "language_info": {
   "codemirror_mode": {
    "name": "ipython",
    "version": 3
   },
   "file_extension": ".py",
   "mimetype": "text/x-python",
   "name": "python",
   "nbconvert_exporter": "python",
   "pygments_lexer": "ipython3",
   "version": "3.6.5"
  },
  "varInspector": {
   "cols": {
    "lenName": 16,
    "lenType": 16,
    "lenVar": 40
   },
   "kernels_config": {
    "python": {
     "delete_cmd_postfix": "",
     "delete_cmd_prefix": "del ",
     "library": "var_list.py",
     "varRefreshCmd": "print(var_dic_list())"
    },
    "r": {
     "delete_cmd_postfix": ") ",
     "delete_cmd_prefix": "rm(",
     "library": "var_list.r",
     "varRefreshCmd": "cat(var_dic_list()) "
    }
   },
   "types_to_exclude": [
    "module",
    "function",
    "builtin_function_or_method",
    "instance",
    "_Feature"
   ],
   "window_display": false
  }
 },
 "nbformat": 4,
 "nbformat_minor": 2
}
